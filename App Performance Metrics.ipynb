{
 "cells": [
  {
   "cell_type": "code",
   "execution_count": 41,
   "metadata": {
    "collapsed": false,
    "slideshow": {
     "slide_type": "slide"
    }
   },
   "outputs": [],
   "source": [
    "import os\n",
    "import numpy as np\n",
    "import pandas as pd\n",
    "\n",
    "%matplotlib inline\n",
    "pd.set_option('precision', 2)\n",
    "pd.set_option('notebook_repr_html', True)"
   ]
  },
  {
   "cell_type": "code",
   "execution_count": 40,
   "metadata": {
    "collapsed": false
   },
   "outputs": [
    {
     "data": {
      "text/plain": [
       "{u'api_key': u'CapU4jvfih1DocSc2b8C',\n",
       " u'proxy_password': u'',\n",
       " u'proxy_username': u'',\n",
       " u'stream_ids': [],\n",
       " u'username': u'afolabicrystal'}"
      ]
     },
     "execution_count": 40,
     "metadata": {},
     "output_type": "execute_result"
    }
   ],
   "source": [
    "# Graph object to piece together all Plotly plots\n",
    "import plotly.plotly as py\n",
    "import plotly.tools as tls\n",
    "import plotly.graph_objs as go\n",
    "\n",
    "# Cufflinks binds plotly to pandas dataframes in IPython\n",
    "import cufflinks as cf               \n",
    "\n",
    "# Insert Credentials\n",
    "tls.set_credentials_file(username='afolabicrystal', api_key='CapU4jvfih1DocSc2b8C')\n",
    "cf.set_config_file(theme='white', sharing=\"secret\", offline=False, world_readable=True)\n",
    "\n",
    "# Write credentials to Python dictionary\n",
    "tls.get_credentials_file()"
   ]
  },
  {
   "cell_type": "code",
   "execution_count": 23,
   "metadata": {
    "collapsed": false
   },
   "outputs": [
    {
     "data": {
      "text/html": [
       "<div>\n",
       "<table border=\"1\" class=\"dataframe\">\n",
       "  <thead>\n",
       "    <tr style=\"text-align: right;\">\n",
       "      <th></th>\n",
       "      <th>Smartphone</th>\n",
       "      <th>Tablets</th>\n",
       "      <th>Tablet</th>\n",
       "      <th>Phone</th>\n",
       "      <th>day_class</th>\n",
       "    </tr>\n",
       "    <tr>\n",
       "      <th>loc_hour</th>\n",
       "      <th></th>\n",
       "      <th></th>\n",
       "      <th></th>\n",
       "      <th></th>\n",
       "      <th></th>\n",
       "    </tr>\n",
       "  </thead>\n",
       "  <tbody>\n",
       "    <tr>\n",
       "      <th>10</th>\n",
       "      <td>303212</td>\n",
       "      <td>72721</td>\n",
       "      <td>2.78</td>\n",
       "      <td>3.07</td>\n",
       "      <td>DAY</td>\n",
       "    </tr>\n",
       "    <tr>\n",
       "      <th>3</th>\n",
       "      <td>378177</td>\n",
       "      <td>101549</td>\n",
       "      <td>3.88</td>\n",
       "      <td>3.83</td>\n",
       "      <td>NIGHT</td>\n",
       "    </tr>\n",
       "    <tr>\n",
       "      <th>19</th>\n",
       "      <td>652622</td>\n",
       "      <td>160441</td>\n",
       "      <td>6.13</td>\n",
       "      <td>6.61</td>\n",
       "      <td>NIGHT</td>\n",
       "    </tr>\n",
       "  </tbody>\n",
       "</table>\n",
       "</div>"
      ],
      "text/plain": [
       "          Smartphone  Tablets  Tablet  Phone day_class\n",
       "loc_hour                                              \n",
       "10            303212    72721    2.78   3.07       DAY\n",
       "3             378177   101549    3.88   3.83     NIGHT\n",
       "19            652622   160441    6.13   6.61     NIGHT"
      ]
     },
     "execution_count": 23,
     "metadata": {},
     "output_type": "execute_result"
    }
   ],
   "source": [
    "frames = []\n",
    "df_platform = pd.read_csv(\"./csv_s/app_metrics/months/loc_daytime_mobile_platform.csv\")\n",
    "grped = df_platform.groupby(['platform'])\n",
    "df_platform.platform.unique()\n",
    "\n",
    "for p in df_platform.platform.unique():\n",
    "    frames.append(grped.get_group(p)[['loc_hour','cnts']].set_index('loc_hour').rename(columns={'cnts':p}))\n",
    "\n",
    "    \n",
    "daytime_pltfm = pd.concat(frames,axis=1)\n",
    "\n",
    "# daytime_pltfm\n",
    "daytime_pltfm['Tablet'] = (daytime_pltfm.Tablets)/(daytime_pltfm.Tablets.sum())*100\n",
    "daytime_pltfm['Phone'] = (daytime_pltfm.Smartphone)/(daytime_pltfm.Smartphone.sum())*100\n",
    "daytime_pltfm['day_class'] = np.where((daytime_pltfm.index >= 6)&(daytime_pltfm.index <= 18), 'DAY', 'NIGHT')\n",
    "dt_df = daytime_pltfm[['Smartphone','Tablets']]\n",
    "daytime_pltfm.sample(3)"
   ]
  },
  {
   "cell_type": "code",
   "execution_count": null,
   "metadata": {
    "collapsed": true
   },
   "outputs": [],
   "source": [
    "trace0 = go.Scatter(x=dt_df.index.values, y=dt_df.Smartphone.values, mode=None)"
   ]
  },
  {
   "cell_type": "code",
   "execution_count": 30,
   "metadata": {
    "collapsed": false
   },
   "outputs": [
    {
     "data": {
      "text/plain": [
       "array([385899, 336897, 325673, 378177, 356143, 346597, 311918, 293516,\n",
       "       287782, 296715, 303212, 318572, 348770, 372608, 382284, 407619,\n",
       "       448712, 512143, 562013, 652622, 645306, 612088, 532205, 458058], dtype=int64)"
      ]
     },
     "execution_count": 30,
     "metadata": {},
     "output_type": "execute_result"
    }
   ],
   "source": [
    "dt_df.Smartphone.values"
   ]
  },
  {
   "cell_type": "code",
   "execution_count": 28,
   "metadata": {
    "collapsed": false
   },
   "outputs": [
    {
     "data": {
      "text/html": [
       "<iframe id=\"igraph\" scrolling=\"no\" style=\"border:none;\" seamless=\"seamless\" src=\"https://plot.ly/~afolabicrystal/24.embed?share_key=kbyQeApnYRjF5DFinAQTmI\" height=\"525px\" width=\"100%\"></iframe>"
      ],
      "text/plain": [
       "<plotly.tools.PlotlyDisplay object>"
      ]
     },
     "execution_count": 28,
     "metadata": {},
     "output_type": "execute_result"
    }
   ],
   "source": [
    "dt_df.iplot(kind='scatter', fill=True, colorscale='set1', xTitle='Visitor Local Time of Day (hours)', \n",
    "            margin=(50,30,45,15), yTitle='Stream Counts', filename='app/daytime_2')"
   ]
  },
  {
   "cell_type": "code",
   "execution_count": null,
   "metadata": {
    "collapsed": true
   },
   "outputs": [],
   "source": []
  },
  {
   "cell_type": "markdown",
   "metadata": {
    "slideshow": {
     "slide_type": "slide"
    }
   },
   "source": [
    "##  Streams by  Delivery  Networks  and  Content  Types"
   ]
  },
  {
   "cell_type": "code",
   "execution_count": 11,
   "metadata": {
    "collapsed": false
   },
   "outputs": [
    {
     "data": {
      "text/html": [
       "<div>\n",
       "<table border=\"1\" class=\"dataframe\">\n",
       "  <thead>\n",
       "    <tr style=\"text-align: right;\">\n",
       "      <th></th>\n",
       "      <th>WIFI / LIVE</th>\n",
       "      <th>CELLULAR / LIVE</th>\n",
       "      <th>WIFI / VOD</th>\n",
       "      <th>CELLULAR / VOD</th>\n",
       "    </tr>\n",
       "    <tr>\n",
       "      <th>loc_hour</th>\n",
       "      <th></th>\n",
       "      <th></th>\n",
       "      <th></th>\n",
       "      <th></th>\n",
       "    </tr>\n",
       "  </thead>\n",
       "  <tbody>\n",
       "    <tr>\n",
       "      <th>16</th>\n",
       "      <td>680708</td>\n",
       "      <td>659716</td>\n",
       "      <td>380326</td>\n",
       "      <td>299707</td>\n",
       "    </tr>\n",
       "    <tr>\n",
       "      <th>1</th>\n",
       "      <td>500808</td>\n",
       "      <td>442781</td>\n",
       "      <td>320832</td>\n",
       "      <td>224280</td>\n",
       "    </tr>\n",
       "    <tr>\n",
       "      <th>10</th>\n",
       "      <td>451309</td>\n",
       "      <td>436796</td>\n",
       "      <td>275004</td>\n",
       "      <td>220857</td>\n",
       "    </tr>\n",
       "  </tbody>\n",
       "</table>\n",
       "</div>"
      ],
      "text/plain": [
       "          WIFI / LIVE  CELLULAR / LIVE  WIFI / VOD  CELLULAR / VOD\n",
       "loc_hour                                                          \n",
       "16             680708           659716      380326          299707\n",
       "1              500808           442781      320832          224280\n",
       "10             451309           436796      275004          220857"
      ]
     },
     "execution_count": 11,
     "metadata": {},
     "output_type": "execute_result"
    }
   ],
   "source": [
    "frames=[]\n",
    "# Upload data\n",
    "daytime_cnx_df = pd.read_csv(\"./csv_s/app_metrics/months/loc_daytime_connection_stream.csv\")\n",
    "\n",
    "# Group into different categories\n",
    "grped = daytime_cnx_df.groupby(['cnx_stream_type'])\n",
    "\n",
    "# Loop over categories, set index and concatenate intomultiple conlumns\n",
    "for cnx in daytime_cnx_df.cnx_stream_type.unique():\n",
    "    frames.append(grped.get_group(cnx)[['loc_hour','cnts']].set_index('loc_hour').rename(columns={'cnts':cnx}))\n",
    "    \n",
    "daytime_cnx = pd.concat(frames,axis=1)\n",
    "daytime_cnx.sample(3)"
   ]
  },
  {
   "cell_type": "code",
   "execution_count": 12,
   "metadata": {
    "collapsed": false
   },
   "outputs": [
    {
     "data": {
      "text/html": [
       "<iframe id=\"igraph\" scrolling=\"no\" style=\"border:none;\" seamless=\"seamless\" src=\"https://plot.ly/~afolabicrystal/61.embed?share_key=uzqO8CxeuGq7cAHXAovn5v\" height=\"525px\" width=\"100%\"></iframe>"
      ],
      "text/plain": [
       "<plotly.tools.PlotlyDisplay object>"
      ]
     },
     "execution_count": 12,
     "metadata": {},
     "output_type": "execute_result"
    }
   ],
   "source": [
    "daytime_cnx_df.iplot(kind='bubble', x='loc_hour', y='cnts', categories='cnx_stream_type', size='cnts', filename='app/daytime_1b', \n",
    "       colorscale='set1', xTitle='Visitor Local Time of Day (hours)', margin=(50,30,45,15), yTitle='Stream Counts')"
   ]
  },
  {
   "cell_type": "code",
   "execution_count": null,
   "metadata": {
    "collapsed": true
   },
   "outputs": [],
   "source": []
  },
  {
   "cell_type": "code",
   "execution_count": 13,
   "metadata": {
    "collapsed": false
   },
   "outputs": [
    {
     "data": {
      "text/html": [
       "<iframe id=\"igraph\" scrolling=\"no\" style=\"border:none;\" seamless=\"seamless\" src=\"https://plot.ly/~afolabicrystal/18.embed?share_key=jPqa0E8OMSDNM3xnpkDzpO\" height=\"525px\" width=\"100%\"></iframe>"
      ],
      "text/plain": [
       "<plotly.tools.PlotlyDisplay object>"
      ]
     },
     "execution_count": 13,
     "metadata": {},
     "output_type": "execute_result"
    }
   ],
   "source": [
    "daytime_cnx.iplot(kind='scatter', fill=True, colorscale='set1',xTitle='Visitor Local Time of Day (hours)', \n",
    "                   margin=(50,30,45,15), yTitle='Stream Counts', filename='app/daytime_1')"
   ]
  },
  {
   "cell_type": "code",
   "execution_count": 15,
   "metadata": {
    "collapsed": false
   },
   "outputs": [
    {
     "data": {
      "text/html": [
       "<iframe id=\"igraph\" scrolling=\"no\" style=\"border:none;\" seamless=\"seamless\" src=\"https://plot.ly/~afolabicrystal/41.embed?share_key=0LLMV0dnJLNMnclXIUu8gG\" height=\"525px\" width=\"100%\"></iframe>"
      ],
      "text/plain": [
       "<plotly.tools.PlotlyDisplay object>"
      ]
     },
     "execution_count": 15,
     "metadata": {},
     "output_type": "execute_result"
    }
   ],
   "source": [
    "ctz_blue_colors = cf.colors.color_range('blue',8)\n",
    "dnut = daytime_cnx_df[['cnx_stream_type', 'cnts']]\n",
    "dnut.iplot(kind='pie', labels='cnx_stream_type', values='cnts', hole=0.4, legend=False, margin=(20,20,20,20),\n",
    "    pull=0.02, textposition='outside', textinfo='label+percent', colors=ctz_blue_colors, filename='app/daytime_0')"
   ]
  },
  {
   "cell_type": "code",
   "execution_count": 17,
   "metadata": {
    "collapsed": false,
    "slideshow": {
     "slide_type": "slide"
    }
   },
   "outputs": [
    {
     "data": {
      "text/html": [
       "<div>\n",
       "<table border=\"1\" class=\"dataframe\">\n",
       "  <thead>\n",
       "    <tr style=\"text-align: right;\">\n",
       "      <th></th>\n",
       "      <th>﻿usr_stream_location</th>\n",
       "      <th>cnts</th>\n",
       "    </tr>\n",
       "  </thead>\n",
       "  <tbody>\n",
       "    <tr>\n",
       "      <th>0</th>\n",
       "      <td>OUT HOME / LIVE</td>\n",
       "      <td>24265189</td>\n",
       "    </tr>\n",
       "    <tr>\n",
       "      <th>1</th>\n",
       "      <td>OUT HOME / VOD</td>\n",
       "      <td>11294037</td>\n",
       "    </tr>\n",
       "    <tr>\n",
       "      <th>2</th>\n",
       "      <td>IN HOME / LIVE</td>\n",
       "      <td>3668216</td>\n",
       "    </tr>\n",
       "    <tr>\n",
       "      <th>3</th>\n",
       "      <td>IN HOME / VOD</td>\n",
       "      <td>2123320</td>\n",
       "    </tr>\n",
       "    <tr>\n",
       "      <th>4</th>\n",
       "      <td>UNKNOWN / VOD</td>\n",
       "      <td>813714</td>\n",
       "    </tr>\n",
       "    <tr>\n",
       "      <th>5</th>\n",
       "      <td>UNKNOWN / LIVE</td>\n",
       "      <td>603867</td>\n",
       "    </tr>\n",
       "  </tbody>\n",
       "</table>\n",
       "</div>"
      ],
      "text/plain": [
       "  ﻿usr_stream_location      cnts\n",
       "0      OUT HOME / LIVE  24265189\n",
       "1       OUT HOME / VOD  11294037\n",
       "2       IN HOME / LIVE   3668216\n",
       "3        IN HOME / VOD   2123320\n",
       "4        UNKNOWN / VOD    813714\n",
       "5       UNKNOWN / LIVE    603867"
      ]
     },
     "execution_count": 17,
     "metadata": {},
     "output_type": "execute_result"
    }
   ],
   "source": [
    "in_out_home = pd.read_csv(\"./csv_s/app_metrics/months/inhome_outhome.csv\")\n",
    "in_out_home"
   ]
  },
  {
   "cell_type": "code",
   "execution_count": 19,
   "metadata": {
    "collapsed": false,
    "slideshow": {
     "slide_type": "slide"
    }
   },
   "outputs": [
    {
     "ename": "KeyError",
     "evalue": "'usr_stream_location'",
     "output_type": "error",
     "traceback": [
      "\u001b[0;31m---------------------------------------------------------------------------\u001b[0m",
      "\u001b[0;31mKeyError\u001b[0m                                  Traceback (most recent call last)",
      "\u001b[0;32m<ipython-input-19-b8176443b630>\u001b[0m in \u001b[0;36m<module>\u001b[0;34m()\u001b[0m\n\u001b[1;32m      1\u001b[0m \u001b[1;31m# Donut chart\u001b[0m\u001b[1;33m\u001b[0m\u001b[1;33m\u001b[0m\u001b[0m\n\u001b[1;32m      2\u001b[0m in_out_home.iplot(kind='pie', labels='usr_stream_location', values='cnts', hole=0.4, legend=False, pull=0.02, \n\u001b[0;32m----> 3\u001b[0;31m      margin=(30,30,30,30), textposition='outside', textinfo='label+percent', colorscale='-blues', filename='app/daytime_3')\n\u001b[0m",
      "\u001b[0;32mC:\\Users\\ra305g\\AppData\\Local\\Continuum\\Anaconda2\\lib\\site-packages\\cufflinks\\plotlytools.pyc\u001b[0m in \u001b[0;36m_iplot\u001b[0;34m(self, data, layout, filename, sharing, kind, title, xTitle, yTitle, zTitle, theme, colors, colorscale, fill, width, dash, mode, symbol, size, barmode, sortbars, bargap, bargroupgap, bins, histnorm, histfunc, orientation, boxpoints, annotations, keys, bestfit, bestfit_colors, mean, mean_colors, categories, x, y, z, text, gridcolor, zerolinecolor, margin, labels, values, secondary_y, subplots, shape, error_x, error_y, error_type, locations, lon, lat, asFrame, asDates, asFigure, asImage, dimensions, asPlot, asUrl, online, **kwargs)\u001b[0m\n\u001b[1;32m    818\u001b[0m \u001b[1;33m\u001b[0m\u001b[0m\n\u001b[1;32m    819\u001b[0m                         \u001b[1;32melif\u001b[0m \u001b[0mkind\u001b[0m\u001b[1;33m==\u001b[0m\u001b[1;34m'pie'\u001b[0m\u001b[1;33m:\u001b[0m\u001b[1;33m\u001b[0m\u001b[0m\n\u001b[0;32m--> 820\u001b[0;31m                                 \u001b[0mlabels\u001b[0m\u001b[1;33m=\u001b[0m\u001b[0mself\u001b[0m\u001b[1;33m[\u001b[0m\u001b[0mlabels\u001b[0m\u001b[1;33m]\u001b[0m\u001b[1;33m.\u001b[0m\u001b[0mvalues\u001b[0m\u001b[1;33m.\u001b[0m\u001b[0mtolist\u001b[0m\u001b[1;33m(\u001b[0m\u001b[1;33m)\u001b[0m\u001b[1;33m\u001b[0m\u001b[0m\n\u001b[0m\u001b[1;32m    821\u001b[0m                                 \u001b[0mvalues\u001b[0m\u001b[1;33m=\u001b[0m\u001b[0mself\u001b[0m\u001b[1;33m[\u001b[0m\u001b[0mvalues\u001b[0m\u001b[1;33m]\u001b[0m\u001b[1;33m.\u001b[0m\u001b[0mvalues\u001b[0m\u001b[1;33m.\u001b[0m\u001b[0mtolist\u001b[0m\u001b[1;33m(\u001b[0m\u001b[1;33m)\u001b[0m\u001b[1;33m\u001b[0m\u001b[0m\n\u001b[1;32m    822\u001b[0m                                 \u001b[0mmarker\u001b[0m\u001b[1;33m=\u001b[0m\u001b[1;33m{\u001b[0m\u001b[1;34m'colors'\u001b[0m\u001b[1;33m:\u001b[0m\u001b[0mget_colors\u001b[0m\u001b[1;33m(\u001b[0m\u001b[0mcolors\u001b[0m\u001b[1;33m,\u001b[0m\u001b[0mcolorscale\u001b[0m\u001b[1;33m,\u001b[0m\u001b[0mlabels\u001b[0m\u001b[1;33m,\u001b[0m\u001b[0masList\u001b[0m\u001b[1;33m=\u001b[0m\u001b[0mTrue\u001b[0m\u001b[1;33m)\u001b[0m\u001b[1;33m}\u001b[0m\u001b[1;33m\u001b[0m\u001b[0m\n",
      "\u001b[0;32mC:\\Users\\ra305g\\AppData\\Local\\Continuum\\Anaconda2\\lib\\site-packages\\pandas\\core\\frame.py\u001b[0m in \u001b[0;36m__getitem__\u001b[0;34m(self, key)\u001b[0m\n\u001b[1;32m   1995\u001b[0m             \u001b[1;32mreturn\u001b[0m \u001b[0mself\u001b[0m\u001b[1;33m.\u001b[0m\u001b[0m_getitem_multilevel\u001b[0m\u001b[1;33m(\u001b[0m\u001b[0mkey\u001b[0m\u001b[1;33m)\u001b[0m\u001b[1;33m\u001b[0m\u001b[0m\n\u001b[1;32m   1996\u001b[0m         \u001b[1;32melse\u001b[0m\u001b[1;33m:\u001b[0m\u001b[1;33m\u001b[0m\u001b[0m\n\u001b[0;32m-> 1997\u001b[0;31m             \u001b[1;32mreturn\u001b[0m \u001b[0mself\u001b[0m\u001b[1;33m.\u001b[0m\u001b[0m_getitem_column\u001b[0m\u001b[1;33m(\u001b[0m\u001b[0mkey\u001b[0m\u001b[1;33m)\u001b[0m\u001b[1;33m\u001b[0m\u001b[0m\n\u001b[0m\u001b[1;32m   1998\u001b[0m \u001b[1;33m\u001b[0m\u001b[0m\n\u001b[1;32m   1999\u001b[0m     \u001b[1;32mdef\u001b[0m \u001b[0m_getitem_column\u001b[0m\u001b[1;33m(\u001b[0m\u001b[0mself\u001b[0m\u001b[1;33m,\u001b[0m \u001b[0mkey\u001b[0m\u001b[1;33m)\u001b[0m\u001b[1;33m:\u001b[0m\u001b[1;33m\u001b[0m\u001b[0m\n",
      "\u001b[0;32mC:\\Users\\ra305g\\AppData\\Local\\Continuum\\Anaconda2\\lib\\site-packages\\pandas\\core\\frame.py\u001b[0m in \u001b[0;36m_getitem_column\u001b[0;34m(self, key)\u001b[0m\n\u001b[1;32m   2002\u001b[0m         \u001b[1;31m# get column\u001b[0m\u001b[1;33m\u001b[0m\u001b[1;33m\u001b[0m\u001b[0m\n\u001b[1;32m   2003\u001b[0m         \u001b[1;32mif\u001b[0m \u001b[0mself\u001b[0m\u001b[1;33m.\u001b[0m\u001b[0mcolumns\u001b[0m\u001b[1;33m.\u001b[0m\u001b[0mis_unique\u001b[0m\u001b[1;33m:\u001b[0m\u001b[1;33m\u001b[0m\u001b[0m\n\u001b[0;32m-> 2004\u001b[0;31m             \u001b[1;32mreturn\u001b[0m \u001b[0mself\u001b[0m\u001b[1;33m.\u001b[0m\u001b[0m_get_item_cache\u001b[0m\u001b[1;33m(\u001b[0m\u001b[0mkey\u001b[0m\u001b[1;33m)\u001b[0m\u001b[1;33m\u001b[0m\u001b[0m\n\u001b[0m\u001b[1;32m   2005\u001b[0m \u001b[1;33m\u001b[0m\u001b[0m\n\u001b[1;32m   2006\u001b[0m         \u001b[1;31m# duplicate columns & possible reduce dimensionality\u001b[0m\u001b[1;33m\u001b[0m\u001b[1;33m\u001b[0m\u001b[0m\n",
      "\u001b[0;32mC:\\Users\\ra305g\\AppData\\Local\\Continuum\\Anaconda2\\lib\\site-packages\\pandas\\core\\generic.py\u001b[0m in \u001b[0;36m_get_item_cache\u001b[0;34m(self, item)\u001b[0m\n\u001b[1;32m   1348\u001b[0m         \u001b[0mres\u001b[0m \u001b[1;33m=\u001b[0m \u001b[0mcache\u001b[0m\u001b[1;33m.\u001b[0m\u001b[0mget\u001b[0m\u001b[1;33m(\u001b[0m\u001b[0mitem\u001b[0m\u001b[1;33m)\u001b[0m\u001b[1;33m\u001b[0m\u001b[0m\n\u001b[1;32m   1349\u001b[0m         \u001b[1;32mif\u001b[0m \u001b[0mres\u001b[0m \u001b[1;32mis\u001b[0m \u001b[0mNone\u001b[0m\u001b[1;33m:\u001b[0m\u001b[1;33m\u001b[0m\u001b[0m\n\u001b[0;32m-> 1350\u001b[0;31m             \u001b[0mvalues\u001b[0m \u001b[1;33m=\u001b[0m \u001b[0mself\u001b[0m\u001b[1;33m.\u001b[0m\u001b[0m_data\u001b[0m\u001b[1;33m.\u001b[0m\u001b[0mget\u001b[0m\u001b[1;33m(\u001b[0m\u001b[0mitem\u001b[0m\u001b[1;33m)\u001b[0m\u001b[1;33m\u001b[0m\u001b[0m\n\u001b[0m\u001b[1;32m   1351\u001b[0m             \u001b[0mres\u001b[0m \u001b[1;33m=\u001b[0m \u001b[0mself\u001b[0m\u001b[1;33m.\u001b[0m\u001b[0m_box_item_values\u001b[0m\u001b[1;33m(\u001b[0m\u001b[0mitem\u001b[0m\u001b[1;33m,\u001b[0m \u001b[0mvalues\u001b[0m\u001b[1;33m)\u001b[0m\u001b[1;33m\u001b[0m\u001b[0m\n\u001b[1;32m   1352\u001b[0m             \u001b[0mcache\u001b[0m\u001b[1;33m[\u001b[0m\u001b[0mitem\u001b[0m\u001b[1;33m]\u001b[0m \u001b[1;33m=\u001b[0m \u001b[0mres\u001b[0m\u001b[1;33m\u001b[0m\u001b[0m\n",
      "\u001b[0;32mC:\\Users\\ra305g\\AppData\\Local\\Continuum\\Anaconda2\\lib\\site-packages\\pandas\\core\\internals.py\u001b[0m in \u001b[0;36mget\u001b[0;34m(self, item, fastpath)\u001b[0m\n\u001b[1;32m   3288\u001b[0m \u001b[1;33m\u001b[0m\u001b[0m\n\u001b[1;32m   3289\u001b[0m             \u001b[1;32mif\u001b[0m \u001b[1;32mnot\u001b[0m \u001b[0misnull\u001b[0m\u001b[1;33m(\u001b[0m\u001b[0mitem\u001b[0m\u001b[1;33m)\u001b[0m\u001b[1;33m:\u001b[0m\u001b[1;33m\u001b[0m\u001b[0m\n\u001b[0;32m-> 3290\u001b[0;31m                 \u001b[0mloc\u001b[0m \u001b[1;33m=\u001b[0m \u001b[0mself\u001b[0m\u001b[1;33m.\u001b[0m\u001b[0mitems\u001b[0m\u001b[1;33m.\u001b[0m\u001b[0mget_loc\u001b[0m\u001b[1;33m(\u001b[0m\u001b[0mitem\u001b[0m\u001b[1;33m)\u001b[0m\u001b[1;33m\u001b[0m\u001b[0m\n\u001b[0m\u001b[1;32m   3291\u001b[0m             \u001b[1;32melse\u001b[0m\u001b[1;33m:\u001b[0m\u001b[1;33m\u001b[0m\u001b[0m\n\u001b[1;32m   3292\u001b[0m                 \u001b[0mindexer\u001b[0m \u001b[1;33m=\u001b[0m \u001b[0mnp\u001b[0m\u001b[1;33m.\u001b[0m\u001b[0marange\u001b[0m\u001b[1;33m(\u001b[0m\u001b[0mlen\u001b[0m\u001b[1;33m(\u001b[0m\u001b[0mself\u001b[0m\u001b[1;33m.\u001b[0m\u001b[0mitems\u001b[0m\u001b[1;33m)\u001b[0m\u001b[1;33m)\u001b[0m\u001b[1;33m[\u001b[0m\u001b[0misnull\u001b[0m\u001b[1;33m(\u001b[0m\u001b[0mself\u001b[0m\u001b[1;33m.\u001b[0m\u001b[0mitems\u001b[0m\u001b[1;33m)\u001b[0m\u001b[1;33m]\u001b[0m\u001b[1;33m\u001b[0m\u001b[0m\n",
      "\u001b[0;32mC:\\Users\\ra305g\\AppData\\Local\\Continuum\\Anaconda2\\lib\\site-packages\\pandas\\indexes\\base.py\u001b[0m in \u001b[0;36mget_loc\u001b[0;34m(self, key, method, tolerance)\u001b[0m\n\u001b[1;32m   1945\u001b[0m                 \u001b[1;32mreturn\u001b[0m \u001b[0mself\u001b[0m\u001b[1;33m.\u001b[0m\u001b[0m_engine\u001b[0m\u001b[1;33m.\u001b[0m\u001b[0mget_loc\u001b[0m\u001b[1;33m(\u001b[0m\u001b[0mkey\u001b[0m\u001b[1;33m)\u001b[0m\u001b[1;33m\u001b[0m\u001b[0m\n\u001b[1;32m   1946\u001b[0m             \u001b[1;32mexcept\u001b[0m \u001b[0mKeyError\u001b[0m\u001b[1;33m:\u001b[0m\u001b[1;33m\u001b[0m\u001b[0m\n\u001b[0;32m-> 1947\u001b[0;31m                 \u001b[1;32mreturn\u001b[0m \u001b[0mself\u001b[0m\u001b[1;33m.\u001b[0m\u001b[0m_engine\u001b[0m\u001b[1;33m.\u001b[0m\u001b[0mget_loc\u001b[0m\u001b[1;33m(\u001b[0m\u001b[0mself\u001b[0m\u001b[1;33m.\u001b[0m\u001b[0m_maybe_cast_indexer\u001b[0m\u001b[1;33m(\u001b[0m\u001b[0mkey\u001b[0m\u001b[1;33m)\u001b[0m\u001b[1;33m)\u001b[0m\u001b[1;33m\u001b[0m\u001b[0m\n\u001b[0m\u001b[1;32m   1948\u001b[0m \u001b[1;33m\u001b[0m\u001b[0m\n\u001b[1;32m   1949\u001b[0m         \u001b[0mindexer\u001b[0m \u001b[1;33m=\u001b[0m \u001b[0mself\u001b[0m\u001b[1;33m.\u001b[0m\u001b[0mget_indexer\u001b[0m\u001b[1;33m(\u001b[0m\u001b[1;33m[\u001b[0m\u001b[0mkey\u001b[0m\u001b[1;33m]\u001b[0m\u001b[1;33m,\u001b[0m \u001b[0mmethod\u001b[0m\u001b[1;33m=\u001b[0m\u001b[0mmethod\u001b[0m\u001b[1;33m,\u001b[0m \u001b[0mtolerance\u001b[0m\u001b[1;33m=\u001b[0m\u001b[0mtolerance\u001b[0m\u001b[1;33m)\u001b[0m\u001b[1;33m\u001b[0m\u001b[0m\n",
      "\u001b[0;32mpandas\\index.pyx\u001b[0m in \u001b[0;36mpandas.index.IndexEngine.get_loc (pandas\\index.c:4154)\u001b[0;34m()\u001b[0m\n",
      "\u001b[0;32mpandas\\index.pyx\u001b[0m in \u001b[0;36mpandas.index.IndexEngine.get_loc (pandas\\index.c:4018)\u001b[0;34m()\u001b[0m\n",
      "\u001b[0;32mpandas\\hashtable.pyx\u001b[0m in \u001b[0;36mpandas.hashtable.PyObjectHashTable.get_item (pandas\\hashtable.c:12368)\u001b[0;34m()\u001b[0m\n",
      "\u001b[0;32mpandas\\hashtable.pyx\u001b[0m in \u001b[0;36mpandas.hashtable.PyObjectHashTable.get_item (pandas\\hashtable.c:12322)\u001b[0;34m()\u001b[0m\n",
      "\u001b[0;31mKeyError\u001b[0m: 'usr_stream_location'"
     ]
    }
   ],
   "source": [
    "# Donut chart \n",
    "in_out_home.iplot(kind='pie', labels='usr_stream_location', values='cnts', hole=0.4, legend=False, pull=0.02, \n",
    "     margin=(30,30,30,30), textposition='outside', textinfo='label+percent', colorscale='-blues', filename='app/daytime_3')"
   ]
  },
  {
   "cell_type": "code",
   "execution_count": 20,
   "metadata": {
    "collapsed": false,
    "slideshow": {
     "slide_type": "slide"
    }
   },
   "outputs": [
    {
     "ename": "KeyError",
     "evalue": "'platform'",
     "output_type": "error",
     "traceback": [
      "\u001b[0;31m---------------------------------------------------------------------------\u001b[0m",
      "\u001b[0;31mKeyError\u001b[0m                                  Traceback (most recent call last)",
      "\u001b[0;32m<ipython-input-20-9419f2381e38>\u001b[0m in \u001b[0;36m<module>\u001b[0;34m()\u001b[0m\n\u001b[1;32m      4\u001b[0m \u001b[0mctz_blue_colors\u001b[0m \u001b[1;33m=\u001b[0m \u001b[0mcf\u001b[0m\u001b[1;33m.\u001b[0m\u001b[0mcolors\u001b[0m\u001b[1;33m.\u001b[0m\u001b[0mcolor_range\u001b[0m\u001b[1;33m(\u001b[0m\u001b[1;34m'blue'\u001b[0m\u001b[1;33m,\u001b[0m\u001b[1;36m5\u001b[0m\u001b[1;33m)\u001b[0m\u001b[1;33m\u001b[0m\u001b[0m\n\u001b[1;32m      5\u001b[0m platforms.iplot(kind='pie', labels='platform', values='cnts', hole=0.4, legend=False,pull=0.02, colorscale='set1', \n\u001b[0;32m----> 6\u001b[0;31m                 margin=(20,20,20,20), textposition='outside', textinfo='label+percent', filename='app/daytime_4')\n\u001b[0m",
      "\u001b[0;32mC:\\Users\\ra305g\\AppData\\Local\\Continuum\\Anaconda2\\lib\\site-packages\\cufflinks\\plotlytools.pyc\u001b[0m in \u001b[0;36m_iplot\u001b[0;34m(self, data, layout, filename, sharing, kind, title, xTitle, yTitle, zTitle, theme, colors, colorscale, fill, width, dash, mode, symbol, size, barmode, sortbars, bargap, bargroupgap, bins, histnorm, histfunc, orientation, boxpoints, annotations, keys, bestfit, bestfit_colors, mean, mean_colors, categories, x, y, z, text, gridcolor, zerolinecolor, margin, labels, values, secondary_y, subplots, shape, error_x, error_y, error_type, locations, lon, lat, asFrame, asDates, asFigure, asImage, dimensions, asPlot, asUrl, online, **kwargs)\u001b[0m\n\u001b[1;32m    818\u001b[0m \u001b[1;33m\u001b[0m\u001b[0m\n\u001b[1;32m    819\u001b[0m                         \u001b[1;32melif\u001b[0m \u001b[0mkind\u001b[0m\u001b[1;33m==\u001b[0m\u001b[1;34m'pie'\u001b[0m\u001b[1;33m:\u001b[0m\u001b[1;33m\u001b[0m\u001b[0m\n\u001b[0;32m--> 820\u001b[0;31m                                 \u001b[0mlabels\u001b[0m\u001b[1;33m=\u001b[0m\u001b[0mself\u001b[0m\u001b[1;33m[\u001b[0m\u001b[0mlabels\u001b[0m\u001b[1;33m]\u001b[0m\u001b[1;33m.\u001b[0m\u001b[0mvalues\u001b[0m\u001b[1;33m.\u001b[0m\u001b[0mtolist\u001b[0m\u001b[1;33m(\u001b[0m\u001b[1;33m)\u001b[0m\u001b[1;33m\u001b[0m\u001b[0m\n\u001b[0m\u001b[1;32m    821\u001b[0m                                 \u001b[0mvalues\u001b[0m\u001b[1;33m=\u001b[0m\u001b[0mself\u001b[0m\u001b[1;33m[\u001b[0m\u001b[0mvalues\u001b[0m\u001b[1;33m]\u001b[0m\u001b[1;33m.\u001b[0m\u001b[0mvalues\u001b[0m\u001b[1;33m.\u001b[0m\u001b[0mtolist\u001b[0m\u001b[1;33m(\u001b[0m\u001b[1;33m)\u001b[0m\u001b[1;33m\u001b[0m\u001b[0m\n\u001b[1;32m    822\u001b[0m                                 \u001b[0mmarker\u001b[0m\u001b[1;33m=\u001b[0m\u001b[1;33m{\u001b[0m\u001b[1;34m'colors'\u001b[0m\u001b[1;33m:\u001b[0m\u001b[0mget_colors\u001b[0m\u001b[1;33m(\u001b[0m\u001b[0mcolors\u001b[0m\u001b[1;33m,\u001b[0m\u001b[0mcolorscale\u001b[0m\u001b[1;33m,\u001b[0m\u001b[0mlabels\u001b[0m\u001b[1;33m,\u001b[0m\u001b[0masList\u001b[0m\u001b[1;33m=\u001b[0m\u001b[0mTrue\u001b[0m\u001b[1;33m)\u001b[0m\u001b[1;33m}\u001b[0m\u001b[1;33m\u001b[0m\u001b[0m\n",
      "\u001b[0;32mC:\\Users\\ra305g\\AppData\\Local\\Continuum\\Anaconda2\\lib\\site-packages\\pandas\\core\\frame.py\u001b[0m in \u001b[0;36m__getitem__\u001b[0;34m(self, key)\u001b[0m\n\u001b[1;32m   1995\u001b[0m             \u001b[1;32mreturn\u001b[0m \u001b[0mself\u001b[0m\u001b[1;33m.\u001b[0m\u001b[0m_getitem_multilevel\u001b[0m\u001b[1;33m(\u001b[0m\u001b[0mkey\u001b[0m\u001b[1;33m)\u001b[0m\u001b[1;33m\u001b[0m\u001b[0m\n\u001b[1;32m   1996\u001b[0m         \u001b[1;32melse\u001b[0m\u001b[1;33m:\u001b[0m\u001b[1;33m\u001b[0m\u001b[0m\n\u001b[0;32m-> 1997\u001b[0;31m             \u001b[1;32mreturn\u001b[0m \u001b[0mself\u001b[0m\u001b[1;33m.\u001b[0m\u001b[0m_getitem_column\u001b[0m\u001b[1;33m(\u001b[0m\u001b[0mkey\u001b[0m\u001b[1;33m)\u001b[0m\u001b[1;33m\u001b[0m\u001b[0m\n\u001b[0m\u001b[1;32m   1998\u001b[0m \u001b[1;33m\u001b[0m\u001b[0m\n\u001b[1;32m   1999\u001b[0m     \u001b[1;32mdef\u001b[0m \u001b[0m_getitem_column\u001b[0m\u001b[1;33m(\u001b[0m\u001b[0mself\u001b[0m\u001b[1;33m,\u001b[0m \u001b[0mkey\u001b[0m\u001b[1;33m)\u001b[0m\u001b[1;33m:\u001b[0m\u001b[1;33m\u001b[0m\u001b[0m\n",
      "\u001b[0;32mC:\\Users\\ra305g\\AppData\\Local\\Continuum\\Anaconda2\\lib\\site-packages\\pandas\\core\\frame.py\u001b[0m in \u001b[0;36m_getitem_column\u001b[0;34m(self, key)\u001b[0m\n\u001b[1;32m   2002\u001b[0m         \u001b[1;31m# get column\u001b[0m\u001b[1;33m\u001b[0m\u001b[1;33m\u001b[0m\u001b[0m\n\u001b[1;32m   2003\u001b[0m         \u001b[1;32mif\u001b[0m \u001b[0mself\u001b[0m\u001b[1;33m.\u001b[0m\u001b[0mcolumns\u001b[0m\u001b[1;33m.\u001b[0m\u001b[0mis_unique\u001b[0m\u001b[1;33m:\u001b[0m\u001b[1;33m\u001b[0m\u001b[0m\n\u001b[0;32m-> 2004\u001b[0;31m             \u001b[1;32mreturn\u001b[0m \u001b[0mself\u001b[0m\u001b[1;33m.\u001b[0m\u001b[0m_get_item_cache\u001b[0m\u001b[1;33m(\u001b[0m\u001b[0mkey\u001b[0m\u001b[1;33m)\u001b[0m\u001b[1;33m\u001b[0m\u001b[0m\n\u001b[0m\u001b[1;32m   2005\u001b[0m \u001b[1;33m\u001b[0m\u001b[0m\n\u001b[1;32m   2006\u001b[0m         \u001b[1;31m# duplicate columns & possible reduce dimensionality\u001b[0m\u001b[1;33m\u001b[0m\u001b[1;33m\u001b[0m\u001b[0m\n",
      "\u001b[0;32mC:\\Users\\ra305g\\AppData\\Local\\Continuum\\Anaconda2\\lib\\site-packages\\pandas\\core\\generic.py\u001b[0m in \u001b[0;36m_get_item_cache\u001b[0;34m(self, item)\u001b[0m\n\u001b[1;32m   1348\u001b[0m         \u001b[0mres\u001b[0m \u001b[1;33m=\u001b[0m \u001b[0mcache\u001b[0m\u001b[1;33m.\u001b[0m\u001b[0mget\u001b[0m\u001b[1;33m(\u001b[0m\u001b[0mitem\u001b[0m\u001b[1;33m)\u001b[0m\u001b[1;33m\u001b[0m\u001b[0m\n\u001b[1;32m   1349\u001b[0m         \u001b[1;32mif\u001b[0m \u001b[0mres\u001b[0m \u001b[1;32mis\u001b[0m \u001b[0mNone\u001b[0m\u001b[1;33m:\u001b[0m\u001b[1;33m\u001b[0m\u001b[0m\n\u001b[0;32m-> 1350\u001b[0;31m             \u001b[0mvalues\u001b[0m \u001b[1;33m=\u001b[0m \u001b[0mself\u001b[0m\u001b[1;33m.\u001b[0m\u001b[0m_data\u001b[0m\u001b[1;33m.\u001b[0m\u001b[0mget\u001b[0m\u001b[1;33m(\u001b[0m\u001b[0mitem\u001b[0m\u001b[1;33m)\u001b[0m\u001b[1;33m\u001b[0m\u001b[0m\n\u001b[0m\u001b[1;32m   1351\u001b[0m             \u001b[0mres\u001b[0m \u001b[1;33m=\u001b[0m \u001b[0mself\u001b[0m\u001b[1;33m.\u001b[0m\u001b[0m_box_item_values\u001b[0m\u001b[1;33m(\u001b[0m\u001b[0mitem\u001b[0m\u001b[1;33m,\u001b[0m \u001b[0mvalues\u001b[0m\u001b[1;33m)\u001b[0m\u001b[1;33m\u001b[0m\u001b[0m\n\u001b[1;32m   1352\u001b[0m             \u001b[0mcache\u001b[0m\u001b[1;33m[\u001b[0m\u001b[0mitem\u001b[0m\u001b[1;33m]\u001b[0m \u001b[1;33m=\u001b[0m \u001b[0mres\u001b[0m\u001b[1;33m\u001b[0m\u001b[0m\n",
      "\u001b[0;32mC:\\Users\\ra305g\\AppData\\Local\\Continuum\\Anaconda2\\lib\\site-packages\\pandas\\core\\internals.py\u001b[0m in \u001b[0;36mget\u001b[0;34m(self, item, fastpath)\u001b[0m\n\u001b[1;32m   3288\u001b[0m \u001b[1;33m\u001b[0m\u001b[0m\n\u001b[1;32m   3289\u001b[0m             \u001b[1;32mif\u001b[0m \u001b[1;32mnot\u001b[0m \u001b[0misnull\u001b[0m\u001b[1;33m(\u001b[0m\u001b[0mitem\u001b[0m\u001b[1;33m)\u001b[0m\u001b[1;33m:\u001b[0m\u001b[1;33m\u001b[0m\u001b[0m\n\u001b[0;32m-> 3290\u001b[0;31m                 \u001b[0mloc\u001b[0m \u001b[1;33m=\u001b[0m \u001b[0mself\u001b[0m\u001b[1;33m.\u001b[0m\u001b[0mitems\u001b[0m\u001b[1;33m.\u001b[0m\u001b[0mget_loc\u001b[0m\u001b[1;33m(\u001b[0m\u001b[0mitem\u001b[0m\u001b[1;33m)\u001b[0m\u001b[1;33m\u001b[0m\u001b[0m\n\u001b[0m\u001b[1;32m   3291\u001b[0m             \u001b[1;32melse\u001b[0m\u001b[1;33m:\u001b[0m\u001b[1;33m\u001b[0m\u001b[0m\n\u001b[1;32m   3292\u001b[0m                 \u001b[0mindexer\u001b[0m \u001b[1;33m=\u001b[0m \u001b[0mnp\u001b[0m\u001b[1;33m.\u001b[0m\u001b[0marange\u001b[0m\u001b[1;33m(\u001b[0m\u001b[0mlen\u001b[0m\u001b[1;33m(\u001b[0m\u001b[0mself\u001b[0m\u001b[1;33m.\u001b[0m\u001b[0mitems\u001b[0m\u001b[1;33m)\u001b[0m\u001b[1;33m)\u001b[0m\u001b[1;33m[\u001b[0m\u001b[0misnull\u001b[0m\u001b[1;33m(\u001b[0m\u001b[0mself\u001b[0m\u001b[1;33m.\u001b[0m\u001b[0mitems\u001b[0m\u001b[1;33m)\u001b[0m\u001b[1;33m]\u001b[0m\u001b[1;33m\u001b[0m\u001b[0m\n",
      "\u001b[0;32mC:\\Users\\ra305g\\AppData\\Local\\Continuum\\Anaconda2\\lib\\site-packages\\pandas\\indexes\\base.py\u001b[0m in \u001b[0;36mget_loc\u001b[0;34m(self, key, method, tolerance)\u001b[0m\n\u001b[1;32m   1945\u001b[0m                 \u001b[1;32mreturn\u001b[0m \u001b[0mself\u001b[0m\u001b[1;33m.\u001b[0m\u001b[0m_engine\u001b[0m\u001b[1;33m.\u001b[0m\u001b[0mget_loc\u001b[0m\u001b[1;33m(\u001b[0m\u001b[0mkey\u001b[0m\u001b[1;33m)\u001b[0m\u001b[1;33m\u001b[0m\u001b[0m\n\u001b[1;32m   1946\u001b[0m             \u001b[1;32mexcept\u001b[0m \u001b[0mKeyError\u001b[0m\u001b[1;33m:\u001b[0m\u001b[1;33m\u001b[0m\u001b[0m\n\u001b[0;32m-> 1947\u001b[0;31m                 \u001b[1;32mreturn\u001b[0m \u001b[0mself\u001b[0m\u001b[1;33m.\u001b[0m\u001b[0m_engine\u001b[0m\u001b[1;33m.\u001b[0m\u001b[0mget_loc\u001b[0m\u001b[1;33m(\u001b[0m\u001b[0mself\u001b[0m\u001b[1;33m.\u001b[0m\u001b[0m_maybe_cast_indexer\u001b[0m\u001b[1;33m(\u001b[0m\u001b[0mkey\u001b[0m\u001b[1;33m)\u001b[0m\u001b[1;33m)\u001b[0m\u001b[1;33m\u001b[0m\u001b[0m\n\u001b[0m\u001b[1;32m   1948\u001b[0m \u001b[1;33m\u001b[0m\u001b[0m\n\u001b[1;32m   1949\u001b[0m         \u001b[0mindexer\u001b[0m \u001b[1;33m=\u001b[0m \u001b[0mself\u001b[0m\u001b[1;33m.\u001b[0m\u001b[0mget_indexer\u001b[0m\u001b[1;33m(\u001b[0m\u001b[1;33m[\u001b[0m\u001b[0mkey\u001b[0m\u001b[1;33m]\u001b[0m\u001b[1;33m,\u001b[0m \u001b[0mmethod\u001b[0m\u001b[1;33m=\u001b[0m\u001b[0mmethod\u001b[0m\u001b[1;33m,\u001b[0m \u001b[0mtolerance\u001b[0m\u001b[1;33m=\u001b[0m\u001b[0mtolerance\u001b[0m\u001b[1;33m)\u001b[0m\u001b[1;33m\u001b[0m\u001b[0m\n",
      "\u001b[0;32mpandas\\index.pyx\u001b[0m in \u001b[0;36mpandas.index.IndexEngine.get_loc (pandas\\index.c:4154)\u001b[0;34m()\u001b[0m\n",
      "\u001b[0;32mpandas\\index.pyx\u001b[0m in \u001b[0;36mpandas.index.IndexEngine.get_loc (pandas\\index.c:4018)\u001b[0;34m()\u001b[0m\n",
      "\u001b[0;32mpandas\\hashtable.pyx\u001b[0m in \u001b[0;36mpandas.hashtable.PyObjectHashTable.get_item (pandas\\hashtable.c:12368)\u001b[0;34m()\u001b[0m\n",
      "\u001b[0;32mpandas\\hashtable.pyx\u001b[0m in \u001b[0;36mpandas.hashtable.PyObjectHashTable.get_item (pandas\\hashtable.c:12322)\u001b[0;34m()\u001b[0m\n",
      "\u001b[0;31mKeyError\u001b[0m: 'platform'"
     ]
    }
   ],
   "source": [
    "platforms = pd.read_csv(\"./csv_s/app_metrics/months/reporting_platform.csv\")\n",
    "#  \n",
    "# Donut chart\n",
    "ctz_blue_colors = cf.colors.color_range('blue',5)\n",
    "platforms.iplot(kind='pie', labels='platform', values='cnts', hole=0.4, legend=False,pull=0.02, colorscale='set1', \n",
    "                margin=(20,20,20,20), textposition='outside', textinfo='label+percent', filename='app/daytime_4')"
   ]
  },
  {
   "cell_type": "markdown",
   "metadata": {},
   "source": [
    "## Delivery Networks and Content Types by Day of the Week"
   ]
  },
  {
   "cell_type": "code",
   "execution_count": 300,
   "metadata": {
    "collapsed": false
   },
   "outputs": [
    {
     "data": {
      "text/html": [
       "<div>\n",
       "<table border=\"1\" class=\"dataframe\">\n",
       "  <thead>\n",
       "    <tr style=\"text-align: right;\">\n",
       "      <th></th>\n",
       "      <th>WIFI / LIVE</th>\n",
       "      <th>CELLULAR / LIVE</th>\n",
       "      <th>WIFI / VOD</th>\n",
       "      <th>CELLULAR / VOD</th>\n",
       "    </tr>\n",
       "  </thead>\n",
       "  <tbody>\n",
       "    <tr>\n",
       "      <th>SUNDAY</th>\n",
       "      <td>2485914</td>\n",
       "      <td>1832360</td>\n",
       "      <td>1186213</td>\n",
       "      <td>683447</td>\n",
       "    </tr>\n",
       "    <tr>\n",
       "      <th>TUESDAY</th>\n",
       "      <td>2050792</td>\n",
       "      <td>1757411</td>\n",
       "      <td>1196854</td>\n",
       "      <td>861177</td>\n",
       "    </tr>\n",
       "    <tr>\n",
       "      <th>THURSDAY</th>\n",
       "      <td>2623337</td>\n",
       "      <td>2346904</td>\n",
       "      <td>1433016</td>\n",
       "      <td>1057849</td>\n",
       "    </tr>\n",
       "  </tbody>\n",
       "</table>\n",
       "</div>"
      ],
      "text/plain": [
       "          WIFI / LIVE  CELLULAR / LIVE  WIFI / VOD  CELLULAR / VOD\n",
       "SUNDAY        2485914          1832360     1186213          683447\n",
       "TUESDAY       2050792          1757411     1196854          861177\n",
       "THURSDAY      2623337          2346904     1433016         1057849"
      ]
     },
     "execution_count": 300,
     "metadata": {},
     "output_type": "execute_result"
    }
   ],
   "source": [
    "df_wkdays_cnx = pd.read_csv(\"./csv_s/app_metrics/weekdays_cnx_stream_type.csv\")\n",
    "\n",
    "frames = []\n",
    "# Group into different categories\n",
    "grped = df_wkdays_cnx.groupby(['cnx_stream_type'])\n",
    "\n",
    "# Loop over categories, set index and concatenate intomultiple conlumns\n",
    "for cnx in df_wkdays_cnx.cnx_stream_type.unique():\n",
    "    frames.append(grped.get_group(cnx)[['weekdays','cnts']].set_index('weekdays').rename(columns={'cnts':cnx}))\n",
    "    \n",
    "wkdays_cnx = pd.concat(frames,axis=1).sort_index(ascending=False)\n",
    "wkdays_cnx.sample(3)"
   ]
  },
  {
   "cell_type": "code",
   "execution_count": 375,
   "metadata": {
    "collapsed": false,
    "slideshow": {
     "slide_type": "slide"
    }
   },
   "outputs": [
    {
     "data": {
      "text/html": [
       "<iframe id=\"igraph\" scrolling=\"no\" style=\"border:none;\" seamless=\"seamless\" src=\"https://plot.ly/~afolabicrystal/35.embed?share_key=XqsPvQ1dGkH9RacxMS8MJr\" height=\"525px\" width=\"100%\"></iframe>"
      ],
      "text/plain": [
       "<plotly.tools.PlotlyDisplay object>"
      ]
     },
     "execution_count": 375,
     "metadata": {},
     "output_type": "execute_result"
    }
   ],
   "source": [
    "wkdays_cnx.iplot(kind='bar', colorscale='set1', xTitle='Days of week', yTitle='Stream Counts', \n",
    "                  margin=(50,30,45,15), textposition='inside', filename='app/daytime_5')"
   ]
  },
  {
   "cell_type": "markdown",
   "metadata": {},
   "source": [
    "## Streaming Accounts and Devices by Days of the Week"
   ]
  },
  {
   "cell_type": "code",
   "execution_count": 376,
   "metadata": {
    "collapsed": false,
    "slideshow": {
     "slide_type": "slide"
    }
   },
   "outputs": [
    {
     "data": {
      "text/html": [
       "<iframe id=\"igraph\" scrolling=\"no\" style=\"border:none;\" seamless=\"seamless\" src=\"https://plot.ly/~afolabicrystal/37.embed?share_key=vOiXjWWbiTuMnYH7M4T3Kt\" height=\"525px\" width=\"100%\"></iframe>"
      ],
      "text/plain": [
       "<plotly.tools.PlotlyDisplay object>"
      ]
     },
     "execution_count": 376,
     "metadata": {},
     "output_type": "execute_result"
    }
   ],
   "source": [
    "namex = ['Devices', 'Accounts']\n",
    "wkdays_dev_acct = pd.read_csv(\"./csv_s/app_metrics/weekdays_device_accounts.csv\", names=namex, header=0)\n",
    "wkdays_dev_acct.iplot(kind='bar', colorscale='-dflt', xTitle='Days of week', yTitle='Stream Counts', \n",
    "                  margin=(50,30,45,15), textposition='inside', filename='app/daytime_6')"
   ]
  },
  {
   "cell_type": "markdown",
   "metadata": {
    "collapsed": true,
    "slideshow": {
     "slide_type": "slide"
    }
   },
   "source": [
    "##  Distribution of Stream Durations"
   ]
  },
  {
   "cell_type": "code",
   "execution_count": 12,
   "metadata": {
    "collapsed": false
   },
   "outputs": [
    {
     "data": {
      "text/html": [
       "<div>\n",
       "<table border=\"1\" class=\"dataframe\">\n",
       "  <thead>\n",
       "    <tr style=\"text-align: right;\">\n",
       "      <th></th>\n",
       "      <th>bucketx</th>\n",
       "      <th>stream_type</th>\n",
       "      <th>cnts</th>\n",
       "      <th>new_buckets</th>\n",
       "    </tr>\n",
       "  </thead>\n",
       "  <tbody>\n",
       "    <tr>\n",
       "      <th>7</th>\n",
       "      <td>Up to 5 Mins</td>\n",
       "      <td>VOD</td>\n",
       "      <td>3633617</td>\n",
       "      <td>Up to 5 Mins (VOD)</td>\n",
       "    </tr>\n",
       "    <tr>\n",
       "      <th>2</th>\n",
       "      <td>Up to 10 Mins</td>\n",
       "      <td>LIVE</td>\n",
       "      <td>2795054</td>\n",
       "      <td>Up to 10 Mins (LIVE)</td>\n",
       "    </tr>\n",
       "    <tr>\n",
       "      <th>5</th>\n",
       "      <td>Up to 20 Mins</td>\n",
       "      <td>VOD</td>\n",
       "      <td>3875363</td>\n",
       "      <td>Up to 20 Mins (VOD)</td>\n",
       "    </tr>\n",
       "  </tbody>\n",
       "</table>\n",
       "</div>"
      ],
      "text/plain": [
       "         bucketx stream_type     cnts           new_buckets\n",
       "7   Up to 5 Mins         VOD  3633617    Up to 5 Mins (VOD)\n",
       "2  Up to 10 Mins        LIVE  2795054  Up to 10 Mins (LIVE)\n",
       "5  Up to 20 Mins         VOD  3875363   Up to 20 Mins (VOD)"
      ]
     },
     "execution_count": 12,
     "metadata": {},
     "output_type": "execute_result"
    }
   ],
   "source": [
    "streams_distro = pd.read_csv('./csv_s/app_metrics/stream_duration_distr.csv')\n",
    "streams_distro['new_buckets'] = streams_distro.bucketx + ' (' + streams_distro.stream_type + ')'\n",
    "streams_distro.sample(3)"
   ]
  },
  {
   "cell_type": "code",
   "execution_count": 21,
   "metadata": {
    "collapsed": true
   },
   "outputs": [],
   "source": [
    "streams_distro.iplot?"
   ]
  },
  {
   "cell_type": "code",
   "execution_count": 24,
   "metadata": {
    "collapsed": false
   },
   "outputs": [
    {
     "data": {
      "text/html": [
       "<iframe id=\"igraph\" scrolling=\"no\" style=\"border:none;\" seamless=\"seamless\" src=\"https://plot.ly/~afolabicrystal/63.embed?share_key=g4uD88xH875X2PHqpfHM6n\" height=\"525px\" width=\"100%\"></iframe>"
      ],
      "text/plain": [
       "<plotly.tools.PlotlyDisplay object>"
      ]
     },
     "execution_count": 24,
     "metadata": {},
     "output_type": "execute_result"
    }
   ],
   "source": [
    "# streams_distro_live = streams_distro[streams_distro.stream_type == 'LIVE']\n",
    "streams_distro.iplot(kind='pie', labels='new_buckets', values='cnts',hole=0.3, legend=False, pull=0.02, \n",
    "                     colorscale='paired', margin=(35,35,35,35), textposition='outside', sort=False, \n",
    "                     textinfo='label+percent',filename='app/daytime_7')"
   ]
  },
  {
   "cell_type": "markdown",
   "metadata": {},
   "source": [
    "##  Top Titles, Top Categories, Top Channels"
   ]
  },
  {
   "cell_type": "code",
   "execution_count": 70,
   "metadata": {
    "collapsed": false
   },
   "outputs": [],
   "source": [
    "# Import data with top 5 contents at top of each hour.\n",
    "top_titles = pd.read_csv(\"./csv_s/app_metrics/titles_categories_channels.csv\")\n",
    "top_titles_live = top_titles[top_titles.stream_type=='LIVE'].sort_values('cnts', ascending=False)\n",
    "top_titles_vod = top_titles[top_titles.stream_type=='VOD'].sort_values('cnts', ascending=False)"
   ]
  },
  {
   "cell_type": "code",
   "execution_count": 117,
   "metadata": {
    "collapsed": false
   },
   "outputs": [
    {
     "data": {
      "text/html": [
       "<iframe id=\"igraph\" scrolling=\"no\" style=\"border:none;\" seamless=\"seamless\" src=\"https://plot.ly/~afolabicrystal/67.embed?share_key=DUdpnq88NzPBEyvPPHzmY2\" height=\"525px\" width=\"100%\"></iframe>"
      ],
      "text/plain": [
       "<plotly.tools.PlotlyDisplay object>"
      ]
     },
     "execution_count": 117,
     "metadata": {},
     "output_type": "execute_result"
    }
   ],
   "source": [
    "df = top_titles_vod[['title', 'cnts']].head(15)\n",
    "df.set_index('title').iplot(kind='bar', filename='app/daytime_8', yTitle='Stream Counts (VOD)', margin=(55,50,120,20))"
   ]
  },
  {
   "cell_type": "code",
   "execution_count": 138,
   "metadata": {
    "collapsed": false
   },
   "outputs": [
    {
     "data": {
      "text/html": [
       "<iframe id=\"igraph\" scrolling=\"no\" style=\"border:none;\" seamless=\"seamless\" src=\"https://plot.ly/~afolabicrystal/69.embed?share_key=2SlVWzBCPTmLDZnDMLELa8\" height=\"525px\" width=\"100%\"></iframe>"
      ],
      "text/plain": [
       "<plotly.tools.PlotlyDisplay object>"
      ]
     },
     "execution_count": 138,
     "metadata": {},
     "output_type": "execute_result"
    }
   ],
   "source": [
    "df2 = top_titles_live[['title', 'cnts']].head(15)\n",
    "df2.set_index('title').iplot(kind='bar', filename='app/daytime_9', yTitle='Stream Counts (LIVE)', colorscale='set2', margin=(55,75,130,20))"
   ]
  },
  {
   "cell_type": "code",
   "execution_count": 146,
   "metadata": {
    "collapsed": false
   },
   "outputs": [
    {
     "data": {
      "text/html": [
       "<iframe id=\"igraph\" scrolling=\"no\" style=\"border:none;\" seamless=\"seamless\" src=\"https://plot.ly/~afolabicrystal/71.embed?share_key=qnfQWaoHAZvVyVpyNOTJc4\" height=\"525px\" width=\"100%\"></iframe>"
      ],
      "text/plain": [
       "<plotly.tools.PlotlyDisplay object>"
      ]
     },
     "execution_count": 146,
     "metadata": {},
     "output_type": "execute_result"
    }
   ],
   "source": [
    "df = top_titles_vod[['channel', 'vstr_accts']].groupby('channel').sum().sort_values('vstr_accts', ascending=False)\n",
    "df.head(10).iplot(kind='barh', filename='app/daytime_10', xTitle='Stream Counts (VOD)', colorscale='-purples', margin=(75,50,75,20))"
   ]
  },
  {
   "cell_type": "code",
   "execution_count": 147,
   "metadata": {
    "collapsed": false
   },
   "outputs": [
    {
     "data": {
      "text/html": [
       "<iframe id=\"igraph\" scrolling=\"no\" style=\"border:none;\" seamless=\"seamless\" src=\"https://plot.ly/~afolabicrystal/73.embed?share_key=gk3jqm9WHiHWj9GGWUmfZr\" height=\"525px\" width=\"100%\"></iframe>"
      ],
      "text/plain": [
       "<plotly.tools.PlotlyDisplay object>"
      ]
     },
     "execution_count": 147,
     "metadata": {},
     "output_type": "execute_result"
    }
   ],
   "source": [
    "df2 = top_titles_live[['channel', 'vstr_accts']].groupby('channel').sum().sort_values('vstr_accts', ascending=False)\n",
    "df2.head(10).iplot(kind='barh', filename='app/daytime_11', xTitle='Stream Counts (LIVE)', colorscale='spectral', \n",
    "                   margin=(75,50,75,20))"
   ]
  },
  {
   "cell_type": "code",
   "execution_count": 168,
   "metadata": {
    "collapsed": false
   },
   "outputs": [
    {
     "data": {
      "text/html": [
       "<div>\n",
       "<table border=\"1\" class=\"dataframe\">\n",
       "  <thead>\n",
       "    <tr style=\"text-align: right;\">\n",
       "      <th></th>\n",
       "      <th>title</th>\n",
       "      <th>channel</th>\n",
       "      <th>cat</th>\n",
       "      <th>subcat</th>\n",
       "      <th>stream_type</th>\n",
       "      <th>vstr_accts</th>\n",
       "      <th>cnts</th>\n",
       "    </tr>\n",
       "  </thead>\n",
       "  <tbody>\n",
       "    <tr>\n",
       "      <th>54898</th>\n",
       "      <td>COCKTAIL</td>\n",
       "      <td>MAXEHD</td>\n",
       "      <td>MOVIES</td>\n",
       "      <td>ROMANCE|DRAMA</td>\n",
       "      <td>LIVE</td>\n",
       "      <td>1</td>\n",
       "      <td>3</td>\n",
       "    </tr>\n",
       "    <tr>\n",
       "      <th>44352</th>\n",
       "      <td>LAST MAN STANDING</td>\n",
       "      <td>WLFL</td>\n",
       "      <td>TV</td>\n",
       "      <td>SERIES|COMEDY</td>\n",
       "      <td>LIVE</td>\n",
       "      <td>3</td>\n",
       "      <td>5</td>\n",
       "    </tr>\n",
       "    <tr>\n",
       "      <th>51928</th>\n",
       "      <td>MICHIGAN @ OHIO STATE</td>\n",
       "      <td>AUDHD</td>\n",
       "      <td>SPORTS</td>\n",
       "      <td>FOOTBALL</td>\n",
       "      <td>LIVE</td>\n",
       "      <td>1</td>\n",
       "      <td>3</td>\n",
       "    </tr>\n",
       "  </tbody>\n",
       "</table>\n",
       "</div>"
      ],
      "text/plain": [
       "                       title channel     cat         subcat stream_type  \\\n",
       "54898               COCKTAIL  MAXEHD  MOVIES  ROMANCE|DRAMA        LIVE   \n",
       "44352      LAST MAN STANDING    WLFL      TV  SERIES|COMEDY        LIVE   \n",
       "51928  MICHIGAN @ OHIO STATE   AUDHD  SPORTS       FOOTBALL        LIVE   \n",
       "\n",
       "       vstr_accts  cnts  \n",
       "54898           1     3  \n",
       "44352           3     5  \n",
       "51928           1     3  "
      ]
     },
     "execution_count": 168,
     "metadata": {},
     "output_type": "execute_result"
    }
   ],
   "source": [
    "top_titles_live.sample(3)"
   ]
  },
  {
   "cell_type": "code",
   "execution_count": 159,
   "metadata": {
    "collapsed": false
   },
   "outputs": [
    {
     "data": {
      "text/html": [
       "<iframe id=\"igraph\" scrolling=\"no\" style=\"border:none;\" seamless=\"seamless\" src=\"https://plot.ly/~afolabicrystal/75.embed?share_key=4HfkWbGcgYIkifbOZQ0v0Z\" height=\"525px\" width=\"100%\"></iframe>"
      ],
      "text/plain": [
       "<plotly.tools.PlotlyDisplay object>"
      ]
     },
     "execution_count": 159,
     "metadata": {},
     "output_type": "execute_result"
    }
   ],
   "source": [
    "df2 = top_titles_live[['subcat', 'cnts']].groupby('subcat').sum().sort_values('cnts', ascending=False)\n",
    "df2.head(10).iplot(kind='bar', filename='app/daytime_12', yTitle='Stream Counts (LIVE)', colorscale='spectral', \n",
    "                   margin=(55,50,150,20))"
   ]
  },
  {
   "cell_type": "code",
   "execution_count": 165,
   "metadata": {
    "collapsed": false
   },
   "outputs": [
    {
     "data": {
      "text/html": [
       "<iframe id=\"igraph\" scrolling=\"no\" style=\"border:none;\" seamless=\"seamless\" src=\"https://plot.ly/~afolabicrystal/77.embed?share_key=ved2sBDz1woxuBBPNhU77l\" height=\"525px\" width=\"100%\"></iframe>"
      ],
      "text/plain": [
       "<plotly.tools.PlotlyDisplay object>"
      ]
     },
     "execution_count": 165,
     "metadata": {},
     "output_type": "execute_result"
    }
   ],
   "source": [
    "df = top_titles_vod[['subcat', 'cnts']].groupby('subcat').sum().sort_values('cnts', ascending=False)\n",
    "df.head(10).iplot(kind='bar', filename='app/daytime_13', yTitle='Stream Counts (VOD)', colorscale='-greens', \n",
    "                   margin=(55,50,180,20))"
   ]
  },
  {
   "cell_type": "code",
   "execution_count": 214,
   "metadata": {
    "collapsed": false
   },
   "outputs": [
    {
     "data": {
      "text/html": [
       "<div>\n",
       "<table border=\"1\" class=\"dataframe\">\n",
       "  <thead>\n",
       "    <tr style=\"text-align: right;\">\n",
       "      <th></th>\n",
       "      <th>Months</th>\n",
       "      <th>Activities</th>\n",
       "      <th>Accounts</th>\n",
       "      <th>Titles</th>\n",
       "      <th>Acct_Activities</th>\n",
       "      <th>Title_Activities</th>\n",
       "    </tr>\n",
       "  </thead>\n",
       "  <tbody>\n",
       "    <tr>\n",
       "      <th>0</th>\n",
       "      <td>DEC</td>\n",
       "      <td>RECORDER</td>\n",
       "      <td>789063</td>\n",
       "      <td>76355</td>\n",
       "      <td>RECORDER (ACCTS)</td>\n",
       "      <td>TITLES RECORDED</td>\n",
       "    </tr>\n",
       "    <tr>\n",
       "      <th>1</th>\n",
       "      <td>DEC</td>\n",
       "      <td>SEARCHER</td>\n",
       "      <td>1144471</td>\n",
       "      <td>91845</td>\n",
       "      <td>SEARCHER (ACCTS)</td>\n",
       "      <td>TITLES SEARCHED</td>\n",
       "    </tr>\n",
       "    <tr>\n",
       "      <th>2</th>\n",
       "      <td>DEC</td>\n",
       "      <td>STREAMER</td>\n",
       "      <td>1778222</td>\n",
       "      <td>70343</td>\n",
       "      <td>STREAMER (ACCTS)</td>\n",
       "      <td>TITLES STREAMED</td>\n",
       "    </tr>\n",
       "  </tbody>\n",
       "</table>\n",
       "</div>"
      ],
      "text/plain": [
       "  Months Activities  Accounts  Titles   Acct_Activities Title_Activities\n",
       "0    DEC   RECORDER    789063   76355  RECORDER (ACCTS)  TITLES RECORDED\n",
       "1    DEC   SEARCHER   1144471   91845  SEARCHER (ACCTS)  TITLES SEARCHED\n",
       "2    DEC   STREAMER   1778222   70343  STREAMER (ACCTS)  TITLES STREAMED"
      ]
     },
     "execution_count": 214,
     "metadata": {},
     "output_type": "execute_result"
    }
   ],
   "source": [
    "cols = ['Months', 'Activities', 'Accounts', 'Titles']\n",
    "actvty = pd.read_csv('./csv_s/app_metrics/activity_distributions.csv', names=cols, header=0)\n",
    "actvty['Acct_Activities'] = actvty.Activities.replace(['RECORDER', 'SEARCHER', 'STREAMER'], \n",
    "                                                      ['RECORDER (ACCTS)', 'SEARCHER (ACCTS)', 'STREAMER (ACCTS)'])\n",
    "\n",
    "actvty['Title_Activities'] = actvty.Activities.replace(['RECORDER', 'SEARCHER', 'STREAMER'], \n",
    "                                                      ['TITLES RECORDED', 'TITLES SEARCHED', 'TITLES STREAMED'])\n",
    "\n",
    "actvty"
   ]
  },
  {
   "cell_type": "code",
   "execution_count": 246,
   "metadata": {
    "collapsed": false
   },
   "outputs": [
    {
     "data": {
      "text/html": [
       "<iframe id=\"igraph\" scrolling=\"no\" style=\"border:none;\" seamless=\"seamless\" src=\"https://plot.ly/~afolabicrystal/83.embed?share_key=wdwvxjy04B33F21rhtGMpS\" height=\"525px\" width=\"100%\"></iframe>"
      ],
      "text/plain": [
       "<plotly.tools.PlotlyDisplay object>"
      ]
     },
     "execution_count": 246,
     "metadata": {},
     "output_type": "execute_result"
    }
   ],
   "source": [
    "actvty.iplot(kind='pie', labels='Acct_Activities', values='Accounts', hole=0.3, legend=False, pull=0.02, \n",
    "             colorscale='dflt', margin=(20,20,20,20), textposition='inside', sort=False, \n",
    "             textinfo='label+percent',filename='app/daytime_14')"
   ]
  },
  {
   "cell_type": "code",
   "execution_count": 248,
   "metadata": {
    "collapsed": false
   },
   "outputs": [
    {
     "data": {
      "text/html": [
       "<iframe id=\"igraph\" scrolling=\"no\" style=\"border:none;\" seamless=\"seamless\" src=\"https://plot.ly/~afolabicrystal/85.embed?share_key=dWtvN652N97vrUMqsxrnEm\" height=\"525px\" width=\"100%\"></iframe>"
      ],
      "text/plain": [
       "<plotly.tools.PlotlyDisplay object>"
      ]
     },
     "execution_count": 248,
     "metadata": {},
     "output_type": "execute_result"
    }
   ],
   "source": [
    "actvty.iplot(kind='pie', labels='Title_Activities', values='Titles', hole=0.3, legend=False, pull=0.02, \n",
    "             colorscale='-paired', margin=(20,20,20,20), textposition='inside', sort=False, \n",
    "             textinfo='label+percent',filename='app/daytime_15')"
   ]
  },
  {
   "cell_type": "markdown",
   "metadata": {},
   "source": [
    "# US Choropleth - Streamers\n",
    "\n",
    "``"
   ]
  },
  {
   "cell_type": "code",
   "execution_count": 45,
   "metadata": {
    "collapsed": false
   },
   "outputs": [
    {
     "data": {
      "text/html": [
       "<div>\n",
       "<table border=\"1\" class=\"dataframe\">\n",
       "  <thead>\n",
       "    <tr style=\"text-align: right;\">\n",
       "      <th></th>\n",
       "      <th>geo_city</th>\n",
       "      <th>streams</th>\n",
       "    </tr>\n",
       "  </thead>\n",
       "  <tbody>\n",
       "    <tr>\n",
       "      <th>6206</th>\n",
       "      <td>DELMONT</td>\n",
       "      <td>45</td>\n",
       "    </tr>\n",
       "  </tbody>\n",
       "</table>\n",
       "</div>"
      ],
      "text/plain": [
       "     geo_city  streams\n",
       "6206  DELMONT       45"
      ]
     },
     "execution_count": 45,
     "metadata": {},
     "output_type": "execute_result"
    }
   ],
   "source": [
    "# Import derived datasets from Hive (CSV)\n",
    "geo_streamers = pd.read_csv('./csv_s/app_metrics/months/geo_streaming.csv')\n",
    "geo_streamers.sample(1)"
   ]
  },
  {
   "cell_type": "code",
   "execution_count": 46,
   "metadata": {
    "collapsed": false
   },
   "outputs": [
    {
     "data": {
      "text/html": [
       "<div>\n",
       "<table border=\"1\" class=\"dataframe\">\n",
       "  <thead>\n",
       "    <tr style=\"text-align: right;\">\n",
       "      <th></th>\n",
       "      <th>city</th>\n",
       "      <th>state</th>\n",
       "    </tr>\n",
       "  </thead>\n",
       "  <tbody>\n",
       "    <tr>\n",
       "      <th>27443</th>\n",
       "      <td>CURRYVILLE</td>\n",
       "      <td>MO</td>\n",
       "    </tr>\n",
       "  </tbody>\n",
       "</table>\n",
       "</div>"
      ],
      "text/plain": [
       "             city state\n",
       "27443  CURRYVILLE    MO"
      ]
     },
     "execution_count": 46,
     "metadata": {},
     "output_type": "execute_result"
    }
   ],
   "source": [
    "# Zip codes in derived datasets are incorrect.\n",
    "df = pd.read_csv('./csv_s/uszips.csv')\n",
    "us_postal_cities_states = pd.DataFrame()\n",
    "us_postal_cities_states['city'] = df.city.str.upper()\n",
    "us_postal_cities_states['state'] = df.state.str.upper()\n",
    "us_postal_cities_states.sample(1)"
   ]
  },
  {
   "cell_type": "code",
   "execution_count": 47,
   "metadata": {
    "collapsed": false
   },
   "outputs": [
    {
     "data": {
      "text/html": [
       "<div>\n",
       "<table border=\"1\" class=\"dataframe\">\n",
       "  <thead>\n",
       "    <tr style=\"text-align: right;\">\n",
       "      <th></th>\n",
       "      <th>city</th>\n",
       "      <th>state</th>\n",
       "      <th>streams</th>\n",
       "    </tr>\n",
       "  </thead>\n",
       "  <tbody>\n",
       "    <tr>\n",
       "      <th>629</th>\n",
       "      <td>SPRINGFIELD</td>\n",
       "      <td>GA</td>\n",
       "      <td>19787</td>\n",
       "    </tr>\n",
       "    <tr>\n",
       "      <th>16863</th>\n",
       "      <td>VAN</td>\n",
       "      <td>TX</td>\n",
       "      <td>164</td>\n",
       "    </tr>\n",
       "  </tbody>\n",
       "</table>\n",
       "</div>"
      ],
      "text/plain": [
       "              city state  streams\n",
       "629    SPRINGFIELD    GA    19787\n",
       "16863          VAN    TX      164"
      ]
     },
     "execution_count": 47,
     "metadata": {},
     "output_type": "execute_result"
    }
   ],
   "source": [
    "# Merged correct US Zip codes with zip codes from Hive and clean up\n",
    "df_merged = pd.merge(us_postal_cities_states, geo_streamers, left_on='city', right_on='geo_city', how='inner')\n",
    "df_merged = df_merged[['city', 'state','streams']]\n",
    "df_merged = df_merged.drop_duplicates().dropna()\n",
    "df_merged.sample(2)"
   ]
  },
  {
   "cell_type": "code",
   "execution_count": 48,
   "metadata": {
    "collapsed": false
   },
   "outputs": [
    {
     "data": {
      "text/html": [
       "<div>\n",
       "<table border=\"1\" class=\"dataframe\">\n",
       "  <thead>\n",
       "    <tr style=\"text-align: right;\">\n",
       "      <th></th>\n",
       "      <th>streams</th>\n",
       "      <th>State</th>\n",
       "      <th>Capital</th>\n",
       "      <th>pcnt</th>\n",
       "      <th>text</th>\n",
       "    </tr>\n",
       "  </thead>\n",
       "  <tbody>\n",
       "    <tr>\n",
       "      <th>MN</th>\n",
       "      <td>1429662</td>\n",
       "      <td>MINNESOTA</td>\n",
       "      <td>St. Paul</td>\n",
       "      <td>2.5%</td>\n",
       "      <td>MINNESOTA,  St. Paul (Capital) -- 2.5%</td>\n",
       "    </tr>\n",
       "    <tr>\n",
       "      <th>OH</th>\n",
       "      <td>2281649</td>\n",
       "      <td>OHIO</td>\n",
       "      <td>Columbus</td>\n",
       "      <td>3.9%</td>\n",
       "      <td>OHIO,  Columbus (Capital) -- 3.9%</td>\n",
       "    </tr>\n",
       "  </tbody>\n",
       "</table>\n",
       "</div>"
      ],
      "text/plain": [
       "    streams      State   Capital  pcnt                                    text\n",
       "MN  1429662  MINNESOTA  St. Paul  2.5%  MINNESOTA,  St. Paul (Capital) -- 2.5%\n",
       "OH  2281649       OHIO  Columbus  3.9%       OHIO,  Columbus (Capital) -- 3.9%"
      ]
     },
     "execution_count": 48,
     "metadata": {},
     "output_type": "execute_result"
    }
   ],
   "source": [
    "# Create additional text elements as description for the plots\n",
    "new_merged = df_merged[['state','streams']].groupby('state').sum()\n",
    "df_text = pd.read_csv('./csv_s/list-states-us.csv', header=1, index_col='Abbr.')[['State','Capital']].dropna()\n",
    "df_text['State'] = df_text.State.str.upper()\n",
    "new_merged = pd.merge(new_merged, df_text, left_index=True, right_index=True)\n",
    "\n",
    "new_merged['pcnt'] = new_merged.streams/(new_merged.streams.sum())*100\n",
    "new_merged['pcnt'] = new_merged.pcnt.round(1).astype(str)+'%'\n",
    "new_merged['text'] = new_merged.State + ',  '+ new_merged.Capital+ ' (Capital)'+ ' -- '+new_merged.pcnt\n",
    "new_merged.sample(2)"
   ]
  },
  {
   "cell_type": "code",
   "execution_count": 49,
   "metadata": {
    "collapsed": false
   },
   "outputs": [
    {
     "data": {
      "text/html": [
       "<iframe id=\"igraph\" scrolling=\"no\" style=\"border:none;\" seamless=\"seamless\" src=\"https://plot.ly/~afolabicrystal/45.embed\" height=\"525px\" width=\"100%\"></iframe>"
      ],
      "text/plain": [
       "<plotly.tools.PlotlyDisplay object>"
      ]
     },
     "execution_count": 49,
     "metadata": {},
     "output_type": "execute_result"
    }
   ],
   "source": [
    "# Plot the US choropleth and remotely store the resulting chart in secure site - Plotly\n",
    "\n",
    "scl = [[0.0, 'rgb(242,240,247)'],[0.2, 'rgb(218,218,235)'],[0.4, 'rgb(188,189,220)'],\\\n",
    "       [0.6, 'rgb(158,154,200)'],[0.8, 'rgb(117,107,177)'],[1.0, 'rgb(084,039,143)']]\n",
    "\n",
    "data = [ dict( \n",
    "    type = 'choropleth',\n",
    "    colorscale = scl,\n",
    "    autocolorscale = False,\n",
    "    locations = new_merged.index.tolist(),\n",
    "    z = new_merged['streams'],\n",
    "    locationmode = 'USA-states',\n",
    "    text = new_merged['text'], \n",
    "    marker = dict(\n",
    "        line = dict(\n",
    "            color = 'rgb(255,255,255)',\n",
    "            width = 2\n",
    "        )),\n",
    "    colorbar = dict(title = \"Streams\")\n",
    "    )]\n",
    "\n",
    "layout = dict(\n",
    "#         title = 'Streaming Activity Geographics Distributions',\n",
    "        geo = dict(scope='usa'),\n",
    "        margin = dict(l=10, r=10, b=30, t=10))\n",
    "\n",
    "fig = dict(data=data, layout=layout)\n",
    "py.iplot(fig, filename='app/metrics_0')"
   ]
  },
  {
   "cell_type": "code",
   "execution_count": null,
   "metadata": {
    "collapsed": true
   },
   "outputs": [],
   "source": []
  }
 ],
 "metadata": {
  "anaconda-cloud": {},
  "celltoolbar": "Slideshow",
  "kernelspec": {
   "display_name": "Python [conda root]",
   "language": "python",
   "name": "conda-root-py"
  },
  "language_info": {
   "codemirror_mode": {
    "name": "ipython",
    "version": 3
   },
   "file_extension": ".py",
   "mimetype": "text/x-python",
   "name": "python",
   "nbconvert_exporter": "python",
   "pygments_lexer": "ipython3",
   "version": "3.5.2"
  }
 },
 "nbformat": 4,
 "nbformat_minor": 2
}
