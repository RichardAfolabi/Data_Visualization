{
 "cells": [
  {
   "cell_type": "markdown",
   "metadata": {},
   "source": [
    "# Visualization using `Plotly API`"
   ]
  },
  {
   "cell_type": "code",
   "execution_count": 29,
   "metadata": {
    "collapsed": false
   },
   "outputs": [],
   "source": [
    "%matplotlib inline\n",
    "import pandas as pd\n",
    "# While importing module, it looks for credential file and uses it to sign in to API server for communications.\n",
    "import plotly.plotly as py\n",
    "\n",
    "# Other useful tools\n",
    "import plotly.tools as tls\n",
    "\n",
    "# Graph object to piece together all Plotly plots\n",
    "import plotly.graph_objs as go\n",
    "\n",
    "# Cufflinks binds plotly to pandas dataframes in IPython\n",
    "import cufflinks as cf\n",
    "\n",
    "# Insert Credentials\n",
    "# tls.set_credentials_file(username='', api_key='')\n",
    "\n",
    "# Write credentials to Python dictionary\n",
    "tls.get_credentials_file()\n",
    "\n",
    "cf.set_config_file(theme='ggplot', sharing=True, offline=False, world_readable=True)"
   ]
  },
  {
   "cell_type": "markdown",
   "metadata": {},
   "source": [
    "### Embedding a Plotly graph inside an IPython notebook"
   ]
  },
  {
   "cell_type": "code",
   "execution_count": 30,
   "metadata": {
    "collapsed": false
   },
   "outputs": [
    {
     "data": {
      "text/html": [
       "<iframe id=\"igraph\" scrolling=\"no\" style=\"border:none;\"seamless=\"seamless\" src=\"https://plot.ly/~streaming-demos/4.embed\" height=\"525\" width=\"100%\"></iframe>"
      ],
      "text/plain": [
       "<plotly.tools.PlotlyDisplay object>"
      ]
     },
     "execution_count": 30,
     "metadata": {},
     "output_type": "execute_result"
    }
   ],
   "source": [
    "tls.embed(\"https://plot.ly/~streaming-demos/4\")"
   ]
  },
  {
   "cell_type": "markdown",
   "metadata": {},
   "source": [
    "## Dataset"
   ]
  },
  {
   "cell_type": "code",
   "execution_count": 31,
   "metadata": {
    "collapsed": false
   },
   "outputs": [
    {
     "data": {
      "text/html": [
       "<div>\n",
       "<table border=\"1\" class=\"dataframe\">\n",
       "  <thead>\n",
       "    <tr style=\"text-align: right;\">\n",
       "      <th></th>\n",
       "      <th>mpg</th>\n",
       "      <th>cyl</th>\n",
       "      <th>disp</th>\n",
       "      <th>hp</th>\n",
       "      <th>drat</th>\n",
       "      <th>wt</th>\n",
       "      <th>qsec</th>\n",
       "      <th>vs</th>\n",
       "      <th>am</th>\n",
       "      <th>gear</th>\n",
       "      <th>carb</th>\n",
       "    </tr>\n",
       "  </thead>\n",
       "  <tbody>\n",
       "    <tr>\n",
       "      <th>Mazda RX4</th>\n",
       "      <td>21.0</td>\n",
       "      <td>6</td>\n",
       "      <td>160</td>\n",
       "      <td>110</td>\n",
       "      <td>3.90</td>\n",
       "      <td>2.620</td>\n",
       "      <td>16.46</td>\n",
       "      <td>0</td>\n",
       "      <td>1</td>\n",
       "      <td>4</td>\n",
       "      <td>4</td>\n",
       "    </tr>\n",
       "    <tr>\n",
       "      <th>Mazda RX4 Wag</th>\n",
       "      <td>21.0</td>\n",
       "      <td>6</td>\n",
       "      <td>160</td>\n",
       "      <td>110</td>\n",
       "      <td>3.90</td>\n",
       "      <td>2.875</td>\n",
       "      <td>17.02</td>\n",
       "      <td>0</td>\n",
       "      <td>1</td>\n",
       "      <td>4</td>\n",
       "      <td>4</td>\n",
       "    </tr>\n",
       "    <tr>\n",
       "      <th>Datsun 710</th>\n",
       "      <td>22.8</td>\n",
       "      <td>4</td>\n",
       "      <td>108</td>\n",
       "      <td>93</td>\n",
       "      <td>3.85</td>\n",
       "      <td>2.320</td>\n",
       "      <td>18.61</td>\n",
       "      <td>1</td>\n",
       "      <td>1</td>\n",
       "      <td>4</td>\n",
       "      <td>1</td>\n",
       "    </tr>\n",
       "    <tr>\n",
       "      <th>Hornet 4 Drive</th>\n",
       "      <td>21.4</td>\n",
       "      <td>6</td>\n",
       "      <td>258</td>\n",
       "      <td>110</td>\n",
       "      <td>3.08</td>\n",
       "      <td>3.215</td>\n",
       "      <td>19.44</td>\n",
       "      <td>1</td>\n",
       "      <td>0</td>\n",
       "      <td>3</td>\n",
       "      <td>1</td>\n",
       "    </tr>\n",
       "    <tr>\n",
       "      <th>Hornet Sportabout</th>\n",
       "      <td>18.7</td>\n",
       "      <td>8</td>\n",
       "      <td>360</td>\n",
       "      <td>175</td>\n",
       "      <td>3.15</td>\n",
       "      <td>3.440</td>\n",
       "      <td>17.02</td>\n",
       "      <td>0</td>\n",
       "      <td>0</td>\n",
       "      <td>3</td>\n",
       "      <td>2</td>\n",
       "    </tr>\n",
       "  </tbody>\n",
       "</table>\n",
       "</div>"
      ],
      "text/plain": [
       "                    mpg  cyl  disp   hp  drat     wt   qsec  vs  am  gear  \\\n",
       "Mazda RX4          21.0    6   160  110  3.90  2.620  16.46   0   1     4   \n",
       "Mazda RX4 Wag      21.0    6   160  110  3.90  2.875  17.02   0   1     4   \n",
       "Datsun 710         22.8    4   108   93  3.85  2.320  18.61   1   1     4   \n",
       "Hornet 4 Drive     21.4    6   258  110  3.08  3.215  19.44   1   0     3   \n",
       "Hornet Sportabout  18.7    8   360  175  3.15  3.440  17.02   0   0     3   \n",
       "\n",
       "                   carb  \n",
       "Mazda RX4             4  \n",
       "Mazda RX4 Wag         4  \n",
       "Datsun 710            1  \n",
       "Hornet 4 Drive        1  \n",
       "Hornet Sportabout     2  "
      ]
     },
     "execution_count": 31,
     "metadata": {},
     "output_type": "execute_result"
    }
   ],
   "source": [
    "url = 'https://raw.githubusercontent.com/cs109/2014_data/master/mtcars.csv'\n",
    "mtcars = pd.read_csv(url, sep = ',', index_col=0)\n",
    "mtcars.head()\n"
   ]
  },
  {
   "cell_type": "markdown",
   "metadata": {},
   "source": [
    "## `Histogram`"
   ]
  },
  {
   "cell_type": "code",
   "execution_count": 32,
   "metadata": {
    "collapsed": false
   },
   "outputs": [
    {
     "data": {
      "text/html": [
       "<script type=\"text/javascript\">window.PLOTLYENV=window.PLOTLYENV || {};window.PLOTLYENV.BASE_URL=\"https://plot.ly\";</script>"
      ],
      "text/plain": [
       "<IPython.core.display.HTML object>"
      ]
     },
     "metadata": {},
     "output_type": "display_data"
    },
    {
     "data": {
      "text/html": [
       "<div class=\"4ce47890-37f0-43a1-b210-33ecc2fce065 loading\" style=\"color: rgb(50,50,50);\">Drawing...</div><div id=\"4ce47890-37f0-43a1-b210-33ecc2fce065\" style=\"height: 525; width: 100%;\" class=\"plotly-graph-div\"></div><script type=\"text/javascript\">Plotly.plot(\"4ce47890-37f0-43a1-b210-33ecc2fce065\", [{\"histnorm\": \"\", \"histfunc\": \"count\", \"type\": \"histogram\", \"name\": \"mpg\", \"nbinsx\": 10, \"x\": [21.0, 21.0, 22.8, 21.4, 18.7, 18.1, 14.3, 24.4, 22.8, 19.2, 17.8, 16.4, 17.3, 15.2, 10.4, 10.4, 14.7, 32.4, 30.4, 33.9, 21.5, 15.5, 15.2, 13.3, 19.2, 27.3, 26.0, 30.4, 15.8, 19.7, 15.0, 21.4], \"orientation\": \"v\", \"marker\": {\"line\": {\"width\": 1.3, \"color\": \"#D9D9D9\"}, \"color\": \"rgba(226, 74, 51, 1.0)\"}, \"opacity\": 0.8}], {\"legend\": {\"font\": {\"color\": \"#666666\"}, \"bgcolor\": \"#FFFFFF\"}, \"titlefont\": {\"color\": \"#151516\"}, \"plot_bgcolor\": \"#E5E5E5\", \"barmode\": \"overlay\", \"paper_bgcolor\": \"#FFFFFF\", \"yaxis1\": {\"tickfont\": {\"color\": \"#666666\"}, \"showgrid\": true, \"titlefont\": {\"color\": \"#666666\"}, \"title\": \"Miles Per Gallon\", \"gridcolor\": \"#F6F6F6\", \"zerolinecolor\": \"#F6F6F6\"}, \"xaxis1\": {\"tickfont\": {\"color\": \"#666666\"}, \"showgrid\": true, \"titlefont\": {\"color\": \"#666666\"}, \"title\": \"Distribution of MPG\", \"gridcolor\": \"#F6F6F6\", \"zerolinecolor\": \"#F6F6F6\"}}, {\"linkText\": \"Export to plot.ly\", \"showLink\": true}).then(function() {\n",
       "    $(\".4ce47890-37f0-43a1-b210-33ecc2fce065.loading\").remove();\n",
       "})</script>"
      ],
      "text/plain": [
       "<IPython.core.display.HTML object>"
      ]
     },
     "metadata": {},
     "output_type": "display_data"
    }
   ],
   "source": [
    "mtcars.mpg.iplot(kind='hist', bins=10,\n",
    "                xTitle='Distribution of MPG', yTitle='Miles Per Gallon')"
   ]
  },
  {
   "cell_type": "markdown",
   "metadata": {},
   "source": [
    "## Relationships between `CYL` and `MPG`"
   ]
  },
  {
   "cell_type": "code",
   "execution_count": 33,
   "metadata": {
    "collapsed": false
   },
   "outputs": [
    {
     "data": {
      "text/html": [
       "<script type=\"text/javascript\">window.PLOTLYENV=window.PLOTLYENV || {};window.PLOTLYENV.BASE_URL=\"https://plot.ly\";</script>"
      ],
      "text/plain": [
       "<IPython.core.display.HTML object>"
      ]
     },
     "metadata": {},
     "output_type": "display_data"
    },
    {
     "data": {
      "text/html": [
       "<div class=\"c36a0c7c-a8d4-44c6-992b-004778ede1cd loading\" style=\"color: rgb(50,50,50);\">Drawing...</div><div id=\"c36a0c7c-a8d4-44c6-992b-004778ede1cd\" style=\"height: 525; width: 100%;\" class=\"plotly-graph-div\"></div><script type=\"text/javascript\">Plotly.plot(\"c36a0c7c-a8d4-44c6-992b-004778ede1cd\", [{\"type\": \"scatter\", \"y\": [21.0, 21.0, 22.8, 21.4, 18.7, 18.1, 14.3, 24.4, 22.8, 19.2, 17.8, 16.4, 17.3, 15.2, 10.4, 10.4, 14.7, 32.4, 30.4, 33.9, 21.5, 15.5, 15.2, 13.3, 19.2, 27.3, 26.0, 30.4, 15.8, 19.7, 15.0, 21.4], \"x\": [6, 6, 4, 6, 8, 6, 8, 4, 4, 6, 6, 8, 8, 8, 8, 8, 8, 4, 4, 4, 4, 8, 8, 8, 8, 4, 4, 4, 8, 6, 8, 4], \"mode\": \"markers\", \"line\": {\"width\": 1.3, \"color\": \"rgba(139, 0, 0, 1.0)\", \"dash\": \"solid\"}, \"marker\": {\"size\": 12, \"symbol\": \"dot\"}, \"text\": \"\", \"name\": \"mpg\"}], {\"legend\": {\"font\": {\"color\": \"#666666\"}, \"bgcolor\": \"#FFFFFF\"}, \"titlefont\": {\"color\": \"#151516\"}, \"plot_bgcolor\": \"#E5E5E5\", \"title\": \"Relationship between cylinders and MPG\", \"paper_bgcolor\": \"#FFFFFF\", \"yaxis1\": {\"tickfont\": {\"color\": \"#666666\"}, \"showgrid\": true, \"titlefont\": {\"color\": \"#666666\"}, \"title\": \"MPG\", \"gridcolor\": \"#F6F6F6\", \"zerolinecolor\": \"#F6F6F6\"}, \"xaxis1\": {\"tickfont\": {\"color\": \"#666666\"}, \"showgrid\": true, \"titlefont\": {\"color\": \"#666666\"}, \"title\": \"Cylinder\", \"gridcolor\": \"#F6F6F6\", \"zerolinecolor\": \"#F6F6F6\"}}, {\"linkText\": \"Export to plot.ly\", \"showLink\": true}).then(function() {\n",
       "    $(\".c36a0c7c-a8d4-44c6-992b-004778ede1cd.loading\").remove();\n",
       "})</script>"
      ],
      "text/plain": [
       "<IPython.core.display.HTML object>"
      ]
     },
     "metadata": {},
     "output_type": "display_data"
    }
   ],
   "source": [
    "# Relationship between cyl and mpg\n",
    "mtcars[['cyl','mpg']].iplot(kind='scatter', x='cyl', y='mpg', mode='markers', \n",
    "                            colors='darkred', xTitle='Cylinder', yTitle='MPG', \n",
    "                            title='Relationship between cylinders and MPG')"
   ]
  },
  {
   "cell_type": "markdown",
   "metadata": {},
   "source": [
    "## Relationship between `Horsepower` and `MPG`"
   ]
  },
  {
   "cell_type": "code",
   "execution_count": 34,
   "metadata": {
    "collapsed": false
   },
   "outputs": [
    {
     "data": {
      "text/html": [
       "<script type=\"text/javascript\">window.PLOTLYENV=window.PLOTLYENV || {};window.PLOTLYENV.BASE_URL=\"https://plot.ly\";</script>"
      ],
      "text/plain": [
       "<IPython.core.display.HTML object>"
      ]
     },
     "metadata": {},
     "output_type": "display_data"
    },
    {
     "data": {
      "text/html": [
       "<div class=\"d7be883e-0e0e-4d21-870b-30a04edb163e loading\" style=\"color: rgb(50,50,50);\">Drawing...</div><div id=\"d7be883e-0e0e-4d21-870b-30a04edb163e\" style=\"height: 525; width: 100%;\" class=\"plotly-graph-div\"></div><script type=\"text/javascript\">Plotly.plot(\"d7be883e-0e0e-4d21-870b-30a04edb163e\", [{\"type\": \"scatter\", \"y\": [21.0, 21.0, 22.8, 21.4, 18.7, 18.1, 14.3, 24.4, 22.8, 19.2, 17.8, 16.4, 17.3, 15.2, 10.4, 10.4, 14.7, 32.4, 30.4, 33.9, 21.5, 15.5, 15.2, 13.3, 19.2, 27.3, 26.0, 30.4, 15.8, 19.7, 15.0, 21.4], \"x\": [110, 110, 93, 110, 175, 105, 245, 62, 95, 123, 123, 180, 180, 180, 205, 215, 230, 66, 52, 65, 97, 150, 150, 245, 175, 66, 91, 113, 264, 175, 335, 109], \"mode\": \"markers\", \"line\": {\"width\": 1.3, \"color\": \"rgba(0, 128, 0, 1.0)\", \"dash\": \"solid\"}, \"marker\": {\"size\": 12, \"symbol\": \"dot\"}, \"text\": \"\", \"name\": \"mpg\"}], {\"legend\": {\"font\": {\"color\": \"#666666\"}, \"bgcolor\": \"#FFFFFF\"}, \"titlefont\": {\"color\": \"#151516\"}, \"plot_bgcolor\": \"#E5E5E5\", \"title\": \"Relationship between horsepower and MPG\", \"paper_bgcolor\": \"#FFFFFF\", \"yaxis1\": {\"tickfont\": {\"color\": \"#666666\"}, \"showgrid\": true, \"titlefont\": {\"color\": \"#666666\"}, \"title\": \"MPG\", \"gridcolor\": \"#F6F6F6\", \"zerolinecolor\": \"#F6F6F6\"}, \"xaxis1\": {\"tickfont\": {\"color\": \"#666666\"}, \"showgrid\": true, \"titlefont\": {\"color\": \"#666666\"}, \"title\": \"Horsepower\", \"gridcolor\": \"#F6F6F6\", \"zerolinecolor\": \"#F6F6F6\"}}, {\"linkText\": \"Export to plot.ly\", \"showLink\": true}).then(function() {\n",
       "    $(\".d7be883e-0e0e-4d21-870b-30a04edb163e.loading\").remove();\n",
       "})</script>"
      ],
      "text/plain": [
       "<IPython.core.display.HTML object>"
      ]
     },
     "metadata": {},
     "output_type": "display_data"
    }
   ],
   "source": [
    "mtcars[['hp', 'mpg']].iplot(kind='scatter', mode='markers', x='hp', y='mpg', \n",
    "                            xTitle='Horsepower', yTitle='MPG', colors='green',\n",
    "                            title='Relationship between horsepower and MPG')"
   ]
  },
  {
   "cell_type": "markdown",
   "metadata": {},
   "source": [
    "## Generate `Correlation Matrix`"
   ]
  },
  {
   "cell_type": "code",
   "execution_count": 127,
   "metadata": {
    "collapsed": false
   },
   "outputs": [
    {
     "data": {
      "text/html": [
       "<script type=\"text/javascript\">window.PLOTLYENV=window.PLOTLYENV || {};window.PLOTLYENV.BASE_URL=\"https://plot.ly\";</script>"
      ],
      "text/plain": [
       "<IPython.core.display.HTML object>"
      ]
     },
     "metadata": {},
     "output_type": "display_data"
    },
    {
     "data": {
      "text/html": [
       "<div class=\"b4f4457b-1ca0-4c72-9fc9-88ee488f05c8 loading\" style=\"color: rgb(50,50,50);\">Drawing...</div><div id=\"b4f4457b-1ca0-4c72-9fc9-88ee488f05c8\" style=\"height: 525; width: 100%;\" class=\"plotly-graph-div\"></div><script type=\"text/javascript\">Plotly.plot(\"b4f4457b-1ca0-4c72-9fc9-88ee488f05c8\", [{\"nbinsx\": 10, \"type\": \"histogram\", \"x\": [21.0, 21.0, 22.8, 21.4, 18.7, 18.1, 14.3, 24.4, 22.8, 19.2, 17.8, 16.4, 17.3, 15.2, 10.4, 10.4, 14.7, 32.4, 30.4, 33.9, 21.5, 15.5, 15.2, 13.3, 19.2, 27.3, 26.0, 30.4, 15.8, 19.7, 15.0, 21.4], \"marker\": {\"color\": \"rgba(226, 74, 51, 1.0)\", \"line\": {\"color\": \"#D9D9D9\", \"width\": 1.3}}, \"xaxis\": \"x1\", \"opacity\": 0.8, \"yaxis\": \"y1\", \"histnorm\": \"\", \"histfunc\": \"count\", \"orientation\": \"v\", \"name\": \"mpg\"}, {\"type\": \"scatter\", \"marker\": {\"size\": 2, \"symbol\": \"dot\"}, \"line\": {\"dash\": \"solid\", \"color\": \"rgba(128, 128, 128, 1.0)\", \"width\": 1.3}, \"xaxis\": \"x2\", \"text\": \"\", \"mode\": \"markers\", \"y\": [21.0, 21.0, 22.8, 21.4, 18.7, 18.1, 14.3, 24.4, 22.8, 19.2, 17.8, 16.4, 17.3, 15.2, 10.4, 10.4, 14.7, 32.4, 30.4, 33.9, 21.5, 15.5, 15.2, 13.3, 19.2, 27.3, 26.0, 30.4, 15.8, 19.7, 15.0, 21.4], \"yaxis\": \"y2\", \"x\": [110, 110, 93, 110, 175, 105, 245, 62, 95, 123, 123, 180, 180, 180, 205, 215, 230, 66, 52, 65, 97, 150, 150, 245, 175, 66, 91, 113, 264, 175, 335, 109], \"name\": \"mpg\"}, {\"type\": \"scatter\", \"marker\": {\"size\": 2, \"symbol\": \"dot\"}, \"line\": {\"dash\": \"solid\", \"color\": \"rgba(128, 128, 128, 1.0)\", \"width\": 1.3}, \"xaxis\": \"x3\", \"text\": \"\", \"mode\": \"markers\", \"y\": [21.0, 21.0, 22.8, 21.4, 18.7, 18.1, 14.3, 24.4, 22.8, 19.2, 17.8, 16.4, 17.3, 15.2, 10.4, 10.4, 14.7, 32.4, 30.4, 33.9, 21.5, 15.5, 15.2, 13.3, 19.2, 27.3, 26.0, 30.4, 15.8, 19.7, 15.0, 21.4], \"yaxis\": \"y3\", \"x\": [6, 6, 4, 6, 8, 6, 8, 4, 4, 6, 6, 8, 8, 8, 8, 8, 8, 4, 4, 4, 4, 8, 8, 8, 8, 4, 4, 4, 8, 6, 8, 4], \"name\": \"mpg\"}, {\"type\": \"scatter\", \"marker\": {\"size\": 2, \"symbol\": \"dot\"}, \"line\": {\"dash\": \"solid\", \"color\": \"rgba(128, 128, 128, 1.0)\", \"width\": 1.3}, \"xaxis\": \"x4\", \"text\": \"\", \"mode\": \"markers\", \"y\": [110, 110, 93, 110, 175, 105, 245, 62, 95, 123, 123, 180, 180, 180, 205, 215, 230, 66, 52, 65, 97, 150, 150, 245, 175, 66, 91, 113, 264, 175, 335, 109], \"yaxis\": \"y4\", \"x\": [21.0, 21.0, 22.8, 21.4, 18.7, 18.1, 14.3, 24.4, 22.8, 19.2, 17.8, 16.4, 17.3, 15.2, 10.4, 10.4, 14.7, 32.4, 30.4, 33.9, 21.5, 15.5, 15.2, 13.3, 19.2, 27.3, 26.0, 30.4, 15.8, 19.7, 15.0, 21.4], \"name\": \"hp\"}, {\"nbinsx\": 10, \"type\": \"histogram\", \"x\": [110, 110, 93, 110, 175, 105, 245, 62, 95, 123, 123, 180, 180, 180, 205, 215, 230, 66, 52, 65, 97, 150, 150, 245, 175, 66, 91, 113, 264, 175, 335, 109], \"marker\": {\"color\": \"rgba(62, 111, 176, 1.0)\", \"line\": {\"color\": \"#D9D9D9\", \"width\": 1.3}}, \"xaxis\": \"x5\", \"opacity\": 0.8, \"yaxis\": \"y5\", \"histnorm\": \"\", \"histfunc\": \"count\", \"orientation\": \"v\", \"name\": \"hp\"}, {\"type\": \"scatter\", \"marker\": {\"size\": 2, \"symbol\": \"dot\"}, \"line\": {\"dash\": \"solid\", \"color\": \"rgba(128, 128, 128, 1.0)\", \"width\": 1.3}, \"xaxis\": \"x6\", \"text\": \"\", \"mode\": \"markers\", \"y\": [110, 110, 93, 110, 175, 105, 245, 62, 95, 123, 123, 180, 180, 180, 205, 215, 230, 66, 52, 65, 97, 150, 150, 245, 175, 66, 91, 113, 264, 175, 335, 109], \"yaxis\": \"y6\", \"x\": [6, 6, 4, 6, 8, 6, 8, 4, 4, 6, 6, 8, 8, 8, 8, 8, 8, 4, 4, 4, 4, 8, 8, 8, 8, 4, 4, 4, 8, 6, 8, 4], \"name\": \"hp\"}, {\"type\": \"scatter\", \"marker\": {\"size\": 2, \"symbol\": \"dot\"}, \"line\": {\"dash\": \"solid\", \"color\": \"rgba(128, 128, 128, 1.0)\", \"width\": 1.3}, \"xaxis\": \"x7\", \"text\": \"\", \"mode\": \"markers\", \"y\": [6, 6, 4, 6, 8, 6, 8, 4, 4, 6, 6, 8, 8, 8, 8, 8, 8, 4, 4, 4, 4, 8, 8, 8, 8, 4, 4, 4, 8, 6, 8, 4], \"yaxis\": \"y7\", \"x\": [21.0, 21.0, 22.8, 21.4, 18.7, 18.1, 14.3, 24.4, 22.8, 19.2, 17.8, 16.4, 17.3, 15.2, 10.4, 10.4, 14.7, 32.4, 30.4, 33.9, 21.5, 15.5, 15.2, 13.3, 19.2, 27.3, 26.0, 30.4, 15.8, 19.7, 15.0, 21.4], \"name\": \"cyl\"}, {\"type\": \"scatter\", \"marker\": {\"size\": 2, \"symbol\": \"dot\"}, \"line\": {\"dash\": \"solid\", \"color\": \"rgba(128, 128, 128, 1.0)\", \"width\": 1.3}, \"xaxis\": \"x8\", \"text\": \"\", \"mode\": \"markers\", \"y\": [6, 6, 4, 6, 8, 6, 8, 4, 4, 6, 6, 8, 8, 8, 8, 8, 8, 4, 4, 4, 4, 8, 8, 8, 8, 4, 4, 4, 8, 6, 8, 4], \"yaxis\": \"y8\", \"x\": [110, 110, 93, 110, 175, 105, 245, 62, 95, 123, 123, 180, 180, 180, 205, 215, 230, 66, 52, 65, 97, 150, 150, 245, 175, 66, 91, 113, 264, 175, 335, 109], \"name\": \"cyl\"}, {\"nbinsx\": 10, \"type\": \"histogram\", \"x\": [6, 6, 4, 6, 8, 6, 8, 4, 4, 6, 6, 8, 8, 8, 8, 8, 8, 4, 4, 4, 4, 8, 8, 8, 8, 4, 4, 4, 8, 6, 8, 4], \"marker\": {\"color\": \"rgba(132, 118, 202, 1.0)\", \"line\": {\"color\": \"#D9D9D9\", \"width\": 1.3}}, \"xaxis\": \"x9\", \"opacity\": 0.8, \"yaxis\": \"y9\", \"histnorm\": \"\", \"histfunc\": \"count\", \"orientation\": \"v\", \"name\": \"cyl\"}], {\"xaxis4\": {\"anchor\": \"y4\", \"domain\": [0.0, 0.3]}, \"xaxis8\": {\"anchor\": \"y8\", \"domain\": [0.35, 0.6499999999999999]}, \"xaxis5\": {\"anchor\": \"y5\", \"domain\": [0.35, 0.6499999999999999]}, \"yaxis2\": {\"anchor\": \"x2\", \"domain\": [0.7133333333333334, 1.0]}, \"yaxis1\": {\"title\": \"\", \"zerolinecolor\": \"#F6F6F6\", \"showgrid\": false, \"domain\": [0.7133333333333334, 1.0], \"gridcolor\": \"#F6F6F6\", \"tickfont\": {\"color\": \"#666666\"}, \"anchor\": \"x1\", \"titlefont\": {\"color\": \"#666666\"}}, \"legend\": {\"font\": {\"color\": \"#666666\"}, \"bgcolor\": \"#FFFFFF\"}, \"xaxis9\": {\"anchor\": \"y9\", \"domain\": [0.7, 1.0]}, \"plot_bgcolor\": \"#E5E5E5\", \"yaxis7\": {\"anchor\": \"x7\", \"domain\": [0.0, 0.2866666666666667]}, \"yaxis4\": {\"anchor\": \"x4\", \"domain\": [0.3566666666666667, 0.6433333333333333]}, \"xaxis7\": {\"anchor\": \"y7\", \"domain\": [0.0, 0.3]}, \"yaxis8\": {\"anchor\": \"x8\", \"domain\": [0.0, 0.2866666666666667]}, \"xaxis3\": {\"anchor\": \"y3\", \"domain\": [0.7, 1.0]}, \"yaxis5\": {\"anchor\": \"x5\", \"domain\": [0.3566666666666667, 0.6433333333333333]}, \"xaxis2\": {\"anchor\": \"y2\", \"domain\": [0.35, 0.6499999999999999]}, \"paper_bgcolor\": \"#FFFFFF\", \"xaxis6\": {\"anchor\": \"y6\", \"domain\": [0.7, 1.0]}, \"yaxis6\": {\"anchor\": \"x6\", \"domain\": [0.3566666666666667, 0.6433333333333333]}, \"yaxis9\": {\"anchor\": \"x9\", \"domain\": [0.0, 0.2866666666666667]}, \"xaxis1\": {\"title\": \"\", \"zerolinecolor\": \"#F6F6F6\", \"showgrid\": false, \"domain\": [0.0, 0.3], \"gridcolor\": \"#F6F6F6\", \"tickfont\": {\"color\": \"#666666\"}, \"anchor\": \"y1\", \"titlefont\": {\"color\": \"#666666\"}}, \"titlefont\": {\"color\": \"#151516\"}, \"bargap\": 0.02, \"yaxis3\": {\"anchor\": \"x3\", \"domain\": [0.7133333333333334, 1.0]}, \"showlegend\": false}, {\"linkText\": \"Export to plot.ly\", \"showLink\": true}).then(function() {\n",
       "    $(\".b4f4457b-1ca0-4c72-9fc9-88ee488f05c8.loading\").remove();\n",
       "})</script>"
      ],
      "text/plain": [
       "<IPython.core.display.HTML object>"
      ]
     },
     "metadata": {},
     "output_type": "display_data"
    }
   ],
   "source": [
    "df = mtcars[['mpg', 'hp', 'cyl']]\n",
    "df.scatter_matrix()"
   ]
  },
  {
   "cell_type": "markdown",
   "metadata": {},
   "source": [
    "## `Spread()` and `Ratio()` charts"
   ]
  },
  {
   "cell_type": "code",
   "execution_count": 128,
   "metadata": {
    "collapsed": false
   },
   "outputs": [
    {
     "data": {
      "text/html": [
       "<script type=\"text/javascript\">window.PLOTLYENV=window.PLOTLYENV || {};window.PLOTLYENV.BASE_URL=\"https://plot.ly\";</script>"
      ],
      "text/plain": [
       "<IPython.core.display.HTML object>"
      ]
     },
     "metadata": {},
     "output_type": "display_data"
    },
    {
     "data": {
      "text/html": [
       "<div class=\"06836af4-3639-4f27-98ca-7f7a3b5b59d4 loading\" style=\"color: rgb(50,50,50);\">Drawing...</div><div id=\"06836af4-3639-4f27-98ca-7f7a3b5b59d4\" style=\"height: 525; width: 100%;\" class=\"plotly-graph-div\"></div><script type=\"text/javascript\">Plotly.plot(\"06836af4-3639-4f27-98ca-7f7a3b5b59d4\", [{\"type\": \"scatter\", \"line\": {\"dash\": \"solid\", \"color\": \"rgba(226, 74, 51, 1.0)\", \"width\": 1.3}, \"text\": \"\", \"mode\": \"lines\", \"y\": [21.0, 21.0, 22.8, 21.4, 18.7, 18.1, 14.3, 24.4, 22.8, 19.2, 17.8, 16.4, 17.3, 15.2, 10.4, 10.4, 14.7, 32.4, 30.4, 33.9, 21.5, 15.5, 15.2, 13.3, 19.2, 27.3, 26.0, 30.4, 15.8, 19.7, 15.0, 21.4], \"x\": [\"Mazda RX4\", \"Mazda RX4 Wag\", \"Datsun 710\", \"Hornet 4 Drive\", \"Hornet Sportabout\", \"Valiant\", \"Duster 360\", \"Merc 240D\", \"Merc 230\", \"Merc 280\", \"Merc 280C\", \"Merc 450SE\", \"Merc 450SL\", \"Merc 450SLC\", \"Cadillac Fleetwood\", \"Lincoln Continental\", \"Chrysler Imperial\", \"Fiat 128\", \"Honda Civic\", \"Toyota Corolla\", \"Toyota Corona\", \"Dodge Challenger\", \"AMC Javelin\", \"Camaro Z28\", \"Pontiac Firebird\", \"Fiat X1-9\", \"Porsche 914-2\", \"Lotus Europa\", \"Ford Pantera L\", \"Ferrari Dino\", \"Maserati Bora\", \"Volvo 142E\"], \"name\": \"mpg\"}, {\"type\": \"scatter\", \"line\": {\"dash\": \"solid\", \"color\": \"rgba(62, 111, 176, 1.0)\", \"width\": 1.3}, \"text\": \"\", \"mode\": \"lines\", \"y\": [110, 110, 93, 110, 175, 105, 245, 62, 95, 123, 123, 180, 180, 180, 205, 215, 230, 66, 52, 65, 97, 150, 150, 245, 175, 66, 91, 113, 264, 175, 335, 109], \"x\": [\"Mazda RX4\", \"Mazda RX4 Wag\", \"Datsun 710\", \"Hornet 4 Drive\", \"Hornet Sportabout\", \"Valiant\", \"Duster 360\", \"Merc 240D\", \"Merc 230\", \"Merc 280\", \"Merc 280C\", \"Merc 450SE\", \"Merc 450SL\", \"Merc 450SLC\", \"Cadillac Fleetwood\", \"Lincoln Continental\", \"Chrysler Imperial\", \"Fiat 128\", \"Honda Civic\", \"Toyota Corolla\", \"Toyota Corona\", \"Dodge Challenger\", \"AMC Javelin\", \"Camaro Z28\", \"Pontiac Firebird\", \"Fiat X1-9\", \"Porsche 914-2\", \"Lotus Europa\", \"Ford Pantera L\", \"Ferrari Dino\", \"Maserati Bora\", \"Volvo 142E\"], \"name\": \"hp\"}, {\"type\": \"scatter\", \"fill\": \"tozeroy\", \"line\": {\"dash\": \"solid\", \"color\": \"rgba(0, 128, 0, 1.0)\", \"width\": 1}, \"xaxis\": \"x2\", \"y\": [0.19090909090909092, 0.19090909090909092, 0.24516129032258066, 0.19454545454545452, 0.10685714285714286, 0.17238095238095238, 0.058367346938775516, 0.39354838709677414, 0.24000000000000002, 0.15609756097560976, 0.14471544715447154, 0.0911111111111111, 0.09611111111111112, 0.08444444444444445, 0.050731707317073174, 0.04837209302325582, 0.06391304347826086, 0.4909090909090909, 0.5846153846153845, 0.5215384615384615, 0.22164948453608246, 0.10333333333333333, 0.10133333333333333, 0.05428571428571429, 0.10971428571428571, 0.41363636363636364, 0.2857142857142857, 0.26902654867256637, 0.05984848484848485, 0.11257142857142857, 0.04477611940298507, 0.19633027522935778], \"mode\": \"lines\", \"connectgaps\": false, \"yaxis\": \"y2\", \"x\": [\"Mazda RX4\", \"Mazda RX4 Wag\", \"Datsun 710\", \"Hornet 4 Drive\", \"Hornet Sportabout\", \"Valiant\", \"Duster 360\", \"Merc 240D\", \"Merc 230\", \"Merc 280\", \"Merc 280C\", \"Merc 450SE\", \"Merc 450SL\", \"Merc 450SLC\", \"Cadillac Fleetwood\", \"Lincoln Continental\", \"Chrysler Imperial\", \"Fiat 128\", \"Honda Civic\", \"Toyota Corolla\", \"Toyota Corona\", \"Dodge Challenger\", \"AMC Javelin\", \"Camaro Z28\", \"Pontiac Firebird\", \"Fiat X1-9\", \"Porsche 914-2\", \"Lotus Europa\", \"Ford Pantera L\", \"Ferrari Dino\", \"Maserati Bora\", \"Volvo 142E\"], \"showlegend\": false, \"name\": \"Ratio\"}], {\"xaxis2\": {\"title\": \"\", \"zerolinecolor\": \"#F6F6F6\", \"showgrid\": true, \"tickfont\": {\"color\": \"#666666\"}, \"gridcolor\": \"#F6F6F6\", \"anchor\": \"y2\", \"showticklabels\": false, \"titlefont\": {\"color\": \"#666666\"}}, \"hovermode\": \"x\", \"paper_bgcolor\": \"#FFFFFF\", \"yaxis2\": {\"title\": \"Ratio\", \"showgrid\": true, \"domain\": [0, 0.25], \"gridcolor\": \"#F6F6F6\", \"tickfont\": {\"color\": \"#666666\"}, \"zerolinecolor\": \"#F6F6F6\", \"titlefont\": {\"color\": \"#666666\"}}, \"yaxis1\": {\"title\": \"\", \"showgrid\": true, \"domain\": [0.3, 1], \"gridcolor\": \"#F6F6F6\", \"tickfont\": {\"color\": \"#666666\"}, \"zerolinecolor\": \"#F6F6F6\", \"titlefont\": {\"color\": \"#666666\"}}, \"legend\": {\"font\": {\"color\": \"#666666\"}, \"bgcolor\": \"#FFFFFF\"}, \"xaxis1\": {\"title\": \"\", \"showgrid\": true, \"gridcolor\": \"#F6F6F6\", \"tickfont\": {\"color\": \"#666666\"}, \"zerolinecolor\": \"#F6F6F6\", \"titlefont\": {\"color\": \"#666666\"}}, \"titlefont\": {\"color\": \"#151516\"}, \"plot_bgcolor\": \"#E5E5E5\"}, {\"linkText\": \"Export to plot.ly\", \"showLink\": true}).then(function() {\n",
       "    $(\".06836af4-3639-4f27-98ca-7f7a3b5b59d4.loading\").remove();\n",
       "})</script>"
      ],
      "text/plain": [
       "<IPython.core.display.HTML object>"
      ]
     },
     "metadata": {},
     "output_type": "display_data"
    }
   ],
   "source": [
    "mtcars[['mpg', 'hp']].iplot(kind='ratio')"
   ]
  },
  {
   "cell_type": "code",
   "execution_count": 129,
   "metadata": {
    "collapsed": false
   },
   "outputs": [
    {
     "data": {
      "text/html": [
       "<script type=\"text/javascript\">window.PLOTLYENV=window.PLOTLYENV || {};window.PLOTLYENV.BASE_URL=\"https://plot.ly\";</script>"
      ],
      "text/plain": [
       "<IPython.core.display.HTML object>"
      ]
     },
     "metadata": {},
     "output_type": "display_data"
    },
    {
     "data": {
      "text/html": [
       "<div class=\"8382e50f-3286-4448-98aa-58edaeb49f01 loading\" style=\"color: rgb(50,50,50);\">Drawing...</div><div id=\"8382e50f-3286-4448-98aa-58edaeb49f01\" style=\"height: 525; width: 100%;\" class=\"plotly-graph-div\"></div><script type=\"text/javascript\">Plotly.plot(\"8382e50f-3286-4448-98aa-58edaeb49f01\", [{\"type\": \"scatter\", \"line\": {\"dash\": \"solid\", \"color\": \"rgba(226, 74, 51, 1.0)\", \"width\": 1.3}, \"text\": \"\", \"mode\": \"lines\", \"y\": [6, 6, 4, 6, 8, 6, 8, 4, 4, 6, 6, 8, 8, 8, 8, 8, 8, 4, 4, 4, 4, 8, 8, 8, 8, 4, 4, 4, 8, 6, 8, 4], \"x\": [\"Mazda RX4\", \"Mazda RX4 Wag\", \"Datsun 710\", \"Hornet 4 Drive\", \"Hornet Sportabout\", \"Valiant\", \"Duster 360\", \"Merc 240D\", \"Merc 230\", \"Merc 280\", \"Merc 280C\", \"Merc 450SE\", \"Merc 450SL\", \"Merc 450SLC\", \"Cadillac Fleetwood\", \"Lincoln Continental\", \"Chrysler Imperial\", \"Fiat 128\", \"Honda Civic\", \"Toyota Corolla\", \"Toyota Corona\", \"Dodge Challenger\", \"AMC Javelin\", \"Camaro Z28\", \"Pontiac Firebird\", \"Fiat X1-9\", \"Porsche 914-2\", \"Lotus Europa\", \"Ford Pantera L\", \"Ferrari Dino\", \"Maserati Bora\", \"Volvo 142E\"], \"name\": \"cyl\"}, {\"type\": \"scatter\", \"line\": {\"dash\": \"solid\", \"color\": \"rgba(62, 111, 176, 1.0)\", \"width\": 1.3}, \"text\": \"\", \"mode\": \"lines\", \"y\": [21.0, 21.0, 22.8, 21.4, 18.7, 18.1, 14.3, 24.4, 22.8, 19.2, 17.8, 16.4, 17.3, 15.2, 10.4, 10.4, 14.7, 32.4, 30.4, 33.9, 21.5, 15.5, 15.2, 13.3, 19.2, 27.3, 26.0, 30.4, 15.8, 19.7, 15.0, 21.4], \"x\": [\"Mazda RX4\", \"Mazda RX4 Wag\", \"Datsun 710\", \"Hornet 4 Drive\", \"Hornet Sportabout\", \"Valiant\", \"Duster 360\", \"Merc 240D\", \"Merc 230\", \"Merc 280\", \"Merc 280C\", \"Merc 450SE\", \"Merc 450SL\", \"Merc 450SLC\", \"Cadillac Fleetwood\", \"Lincoln Continental\", \"Chrysler Imperial\", \"Fiat 128\", \"Honda Civic\", \"Toyota Corolla\", \"Toyota Corona\", \"Dodge Challenger\", \"AMC Javelin\", \"Camaro Z28\", \"Pontiac Firebird\", \"Fiat X1-9\", \"Porsche 914-2\", \"Lotus Europa\", \"Ford Pantera L\", \"Ferrari Dino\", \"Maserati Bora\", \"Volvo 142E\"], \"name\": \"mpg\"}, {\"type\": \"scatter\", \"fill\": \"tozeroy\", \"line\": {\"dash\": \"solid\", \"color\": \"red\", \"width\": 0.5}, \"xaxis\": \"x2\", \"y\": [-15.0, -15.0, -18.8, -15.399999999999999, -10.7, -12.100000000000001, -6.300000000000001, -20.4, -18.8, -13.2, -11.8, -8.399999999999999, -9.3, -7.199999999999999, -2.4000000000000004, -2.4000000000000004, -6.699999999999999, -28.4, -26.4, -29.9, -17.5, -7.5, -7.199999999999999, -5.300000000000001, -11.2, -23.3, -22.0, -26.4, -7.800000000000001, -13.7, -7.0, -17.4], \"mode\": \"lines\", \"connectgaps\": false, \"yaxis\": \"y2\", \"x\": [\"Mazda RX4\", \"Mazda RX4 Wag\", \"Datsun 710\", \"Hornet 4 Drive\", \"Hornet Sportabout\", \"Valiant\", \"Duster 360\", \"Merc 240D\", \"Merc 230\", \"Merc 280\", \"Merc 280C\", \"Merc 450SE\", \"Merc 450SL\", \"Merc 450SLC\", \"Cadillac Fleetwood\", \"Lincoln Continental\", \"Chrysler Imperial\", \"Fiat 128\", \"Honda Civic\", \"Toyota Corolla\", \"Toyota Corona\", \"Dodge Challenger\", \"AMC Javelin\", \"Camaro Z28\", \"Pontiac Firebird\", \"Fiat X1-9\", \"Porsche 914-2\", \"Lotus Europa\", \"Ford Pantera L\", \"Ferrari Dino\", \"Maserati Bora\", \"Volvo 142E\"], \"showlegend\": false, \"name\": \"Spread\"}, {\"type\": \"scatter\", \"fill\": \"tozeroy\", \"line\": {\"dash\": \"solid\", \"color\": \"green\", \"width\": 0.5}, \"xaxis\": \"x2\", \"y\": [\"\", \"\", \"\", \"\", \"\", \"\", \"\", \"\", \"\", \"\", \"\", \"\", \"\", \"\", \"\", \"\", \"\", \"\", \"\", \"\", \"\", \"\", \"\", \"\", \"\", \"\", \"\", \"\", \"\", \"\", \"\", \"\"], \"mode\": \"lines\", \"connectgaps\": false, \"yaxis\": \"y2\", \"x\": [\"Mazda RX4\", \"Mazda RX4 Wag\", \"Datsun 710\", \"Hornet 4 Drive\", \"Hornet Sportabout\", \"Valiant\", \"Duster 360\", \"Merc 240D\", \"Merc 230\", \"Merc 280\", \"Merc 280C\", \"Merc 450SE\", \"Merc 450SL\", \"Merc 450SLC\", \"Cadillac Fleetwood\", \"Lincoln Continental\", \"Chrysler Imperial\", \"Fiat 128\", \"Honda Civic\", \"Toyota Corolla\", \"Toyota Corona\", \"Dodge Challenger\", \"AMC Javelin\", \"Camaro Z28\", \"Pontiac Firebird\", \"Fiat X1-9\", \"Porsche 914-2\", \"Lotus Europa\", \"Ford Pantera L\", \"Ferrari Dino\", \"Maserati Bora\", \"Volvo 142E\"], \"showlegend\": false, \"name\": \"Spread\"}], {\"xaxis2\": {\"title\": \"\", \"zerolinecolor\": \"#F6F6F6\", \"showgrid\": true, \"tickfont\": {\"color\": \"#666666\"}, \"gridcolor\": \"#F6F6F6\", \"anchor\": \"y2\", \"showticklabels\": false, \"titlefont\": {\"color\": \"#666666\"}}, \"hovermode\": \"x\", \"paper_bgcolor\": \"#FFFFFF\", \"yaxis2\": {\"title\": \"Spread\", \"showgrid\": true, \"domain\": [0, 0.25], \"gridcolor\": \"#F6F6F6\", \"tickfont\": {\"color\": \"#666666\"}, \"zerolinecolor\": \"#F6F6F6\", \"titlefont\": {\"color\": \"#666666\"}}, \"yaxis1\": {\"title\": \"\", \"showgrid\": true, \"domain\": [0.3, 1], \"gridcolor\": \"#F6F6F6\", \"tickfont\": {\"color\": \"#666666\"}, \"zerolinecolor\": \"#F6F6F6\", \"titlefont\": {\"color\": \"#666666\"}}, \"legend\": {\"font\": {\"color\": \"#666666\"}, \"bgcolor\": \"#FFFFFF\"}, \"xaxis1\": {\"title\": \"\", \"showgrid\": true, \"gridcolor\": \"#F6F6F6\", \"tickfont\": {\"color\": \"#666666\"}, \"zerolinecolor\": \"#F6F6F6\", \"titlefont\": {\"color\": \"#666666\"}}, \"titlefont\": {\"color\": \"#151516\"}, \"plot_bgcolor\": \"#E5E5E5\"}, {\"linkText\": \"Export to plot.ly\", \"showLink\": true}).then(function() {\n",
       "    $(\".8382e50f-3286-4448-98aa-58edaeb49f01.loading\").remove();\n",
       "})</script>"
      ],
      "text/plain": [
       "<IPython.core.display.HTML object>"
      ]
     },
     "metadata": {},
     "output_type": "display_data"
    }
   ],
   "source": [
    "mtcars[['cyl', 'mpg']].iplot(kind='spread')"
   ]
  },
  {
   "cell_type": "markdown",
   "metadata": {},
   "source": [
    "## `Boxplot()`"
   ]
  },
  {
   "cell_type": "code",
   "execution_count": 130,
   "metadata": {
    "collapsed": false
   },
   "outputs": [
    {
     "data": {
      "text/html": [
       "<script type=\"text/javascript\">window.PLOTLYENV=window.PLOTLYENV || {};window.PLOTLYENV.BASE_URL=\"https://plot.ly\";</script>"
      ],
      "text/plain": [
       "<IPython.core.display.HTML object>"
      ]
     },
     "metadata": {},
     "output_type": "display_data"
    },
    {
     "data": {
      "text/html": [
       "<div class=\"7686dcea-7cce-4b32-bf6e-2edf82d977d6 loading\" style=\"color: rgb(50,50,50);\">Drawing...</div><div id=\"7686dcea-7cce-4b32-bf6e-2edf82d977d6\" style=\"height: 525; width: 100%;\" class=\"plotly-graph-div\"></div><script type=\"text/javascript\">Plotly.plot(\"7686dcea-7cce-4b32-bf6e-2edf82d977d6\", [{\"type\": \"box\", \"marker\": {\"color\": \"rgba(226, 74, 51, 1.0)\"}, \"boxpoints\": false, \"line\": {\"width\": 1.3}, \"y\": [3.9, 3.9, 3.85, 3.08, 3.15, 2.76, 3.21, 3.69, 3.92, 3.92, 3.92, 3.07, 3.07, 3.07, 2.93, 3.0, 3.23, 4.08, 4.93, 4.22, 3.7, 2.76, 3.15, 3.73, 3.08, 4.08, 4.43, 3.77, 4.22, 3.62, 3.54, 4.11], \"name\": \"drat\"}, {\"type\": \"box\", \"marker\": {\"color\": \"rgba(62, 111, 176, 1.0)\"}, \"boxpoints\": false, \"line\": {\"width\": 1.3}, \"y\": [2.62, 2.875, 2.32, 3.215, 3.44, 3.46, 3.57, 3.19, 3.15, 3.44, 3.44, 4.07, 3.73, 3.78, 5.25, 5.4239999999999995, 5.345, 2.2, 1.615, 1.835, 2.465, 3.52, 3.435, 3.84, 3.845, 1.935, 2.14, 1.5130000000000001, 3.17, 2.77, 3.57, 2.78], \"name\": \"wt\"}, {\"type\": \"box\", \"marker\": {\"color\": \"rgba(132, 118, 202, 1.0)\"}, \"boxpoints\": false, \"line\": {\"width\": 1.3}, \"y\": [4, 4, 4, 3, 3, 3, 3, 4, 4, 4, 4, 3, 3, 3, 3, 3, 3, 4, 4, 4, 3, 3, 3, 3, 3, 4, 5, 5, 5, 5, 5, 4], \"name\": \"gear\"}, {\"type\": \"box\", \"marker\": {\"color\": \"rgba(101, 101, 101, 1.0)\"}, \"boxpoints\": false, \"line\": {\"width\": 1.3}, \"y\": [4, 4, 1, 1, 2, 1, 4, 2, 2, 4, 4, 3, 3, 3, 4, 4, 4, 1, 2, 1, 1, 2, 2, 4, 2, 1, 2, 2, 4, 6, 8, 2], \"name\": \"carb\"}, {\"type\": \"box\", \"marker\": {\"color\": \"rgba(251, 193, 94, 1.0)\"}, \"boxpoints\": false, \"line\": {\"width\": 1.3}, \"y\": [1, 1, 1, 0, 0, 0, 0, 0, 0, 0, 0, 0, 0, 0, 0, 0, 0, 1, 1, 1, 0, 0, 0, 0, 0, 1, 1, 1, 1, 1, 1, 1], \"name\": \"am\"}], {\"paper_bgcolor\": \"#FFFFFF\", \"yaxis1\": {\"title\": \"\", \"showgrid\": true, \"gridcolor\": \"#F6F6F6\", \"tickfont\": {\"color\": \"#666666\"}, \"zerolinecolor\": \"#F6F6F6\", \"titlefont\": {\"color\": \"#666666\"}}, \"legend\": {\"font\": {\"color\": \"#666666\"}, \"bgcolor\": \"#FFFFFF\"}, \"xaxis1\": {\"title\": \"\", \"showgrid\": true, \"gridcolor\": \"#F6F6F6\", \"tickfont\": {\"color\": \"#666666\"}, \"zerolinecolor\": \"#F6F6F6\", \"titlefont\": {\"color\": \"#666666\"}}, \"plot_bgcolor\": \"#E5E5E5\", \"titlefont\": {\"color\": \"#151516\"}}, {\"linkText\": \"Export to plot.ly\", \"showLink\": true}).then(function() {\n",
       "    $(\".7686dcea-7cce-4b32-bf6e-2edf82d977d6.loading\").remove();\n",
       "})</script>"
      ],
      "text/plain": [
       "<IPython.core.display.HTML object>"
      ]
     },
     "metadata": {},
     "output_type": "display_data"
    }
   ],
   "source": [
    "mtcars[['drat','wt', 'gear', 'carb', 'am']].iplot(kind='box')"
   ]
  },
  {
   "cell_type": "markdown",
   "metadata": {},
   "source": [
    "## `Bubble Plot`"
   ]
  },
  {
   "cell_type": "code",
   "execution_count": 131,
   "metadata": {
    "collapsed": false
   },
   "outputs": [
    {
     "data": {
      "text/html": [
       "<script type=\"text/javascript\">window.PLOTLYENV=window.PLOTLYENV || {};window.PLOTLYENV.BASE_URL=\"https://plot.ly\";</script>"
      ],
      "text/plain": [
       "<IPython.core.display.HTML object>"
      ]
     },
     "metadata": {},
     "output_type": "display_data"
    },
    {
     "data": {
      "text/html": [
       "<div class=\"cca722c0-9877-480b-a6b1-58a885c29734 loading\" style=\"color: rgb(50,50,50);\">Drawing...</div><div id=\"cca722c0-9877-480b-a6b1-58a885c29734\" style=\"height: 525; width: 100%;\" class=\"plotly-graph-div\"></div><script type=\"text/javascript\">Plotly.plot(\"cca722c0-9877-480b-a6b1-58a885c29734\", [{\"type\": \"scatter\", \"marker\": {\"size\": [62, 62, 12, 62, 112, 62, 112, 12, 12, 62, 62, 112, 112, 112, 112, 112, 112, 12, 12, 12, 12, 112, 112, 112, 112, 12, 12, 12, 112, 62, 112, 12], \"symbol\": \"dot\", \"color\": [\"rgb(226, 74, 51)\", \"rgb(226, 74, 51)\", \"rgb(226, 74, 51)\", \"rgb(226, 74, 51)\", \"rgb(226, 74, 51)\", \"rgb(226, 74, 51)\", \"rgb(226, 74, 51)\", \"rgb(226, 74, 51)\", \"rgb(226, 74, 51)\", \"rgb(226, 74, 51)\", \"rgb(226, 74, 51)\", \"rgb(226, 74, 51)\", \"rgb(226, 74, 51)\", \"rgb(226, 74, 51)\", \"rgb(226, 74, 51)\", \"rgb(226, 74, 51)\", \"rgb(226, 74, 51)\", \"rgb(226, 74, 51)\", \"rgb(226, 74, 51)\", \"rgb(226, 74, 51)\", \"rgb(226, 74, 51)\", \"rgb(226, 74, 51)\", \"rgb(226, 74, 51)\", \"rgb(226, 74, 51)\", \"rgb(226, 74, 51)\", \"rgb(226, 74, 51)\", \"rgb(226, 74, 51)\", \"rgb(226, 74, 51)\", \"rgb(226, 74, 51)\", \"rgb(226, 74, 51)\", \"rgb(226, 74, 51)\", \"rgb(226, 74, 51)\"], \"line\": {\"width\": 1.3}}, \"text\": \"\", \"mode\": \"markers\", \"y\": [110, 110, 93, 110, 175, 105, 245, 62, 95, 123, 123, 180, 180, 180, 205, 215, 230, 66, 52, 65, 97, 150, 150, 245, 175, 66, 91, 113, 264, 175, 335, 109], \"x\": [21.0, 21.0, 22.8, 21.4, 18.7, 18.1, 14.3, 24.4, 22.8, 19.2, 17.8, 16.4, 17.3, 15.2, 10.4, 10.4, 14.7, 32.4, 30.4, 33.9, 21.5, 15.5, 15.2, 13.3, 19.2, 27.3, 26.0, 30.4, 15.8, 19.7, 15.0, 21.4]}], {\"paper_bgcolor\": \"#FFFFFF\", \"yaxis1\": {\"title\": \"Horsepower\", \"showgrid\": true, \"gridcolor\": \"#F6F6F6\", \"tickfont\": {\"color\": \"#666666\"}, \"zerolinecolor\": \"#F6F6F6\", \"titlefont\": {\"color\": \"#666666\"}}, \"legend\": {\"font\": {\"color\": \"#666666\"}, \"bgcolor\": \"#FFFFFF\"}, \"xaxis1\": {\"title\": \"MPG\", \"showgrid\": true, \"gridcolor\": \"#F6F6F6\", \"tickfont\": {\"color\": \"#666666\"}, \"zerolinecolor\": \"#F6F6F6\", \"titlefont\": {\"color\": \"#666666\"}}, \"plot_bgcolor\": \"#E5E5E5\", \"titlefont\": {\"color\": \"#151516\"}}, {\"linkText\": \"Export to plot.ly\", \"showLink\": true}).then(function() {\n",
       "    $(\".cca722c0-9877-480b-a6b1-58a885c29734.loading\").remove();\n",
       "})</script>"
      ],
      "text/plain": [
       "<IPython.core.display.HTML object>"
      ]
     },
     "metadata": {},
     "output_type": "display_data"
    }
   ],
   "source": [
    "mtcars.iplot(kind='bubble', x='mpg', y='hp', size='cyl', xTitle='MPG', yTitle='Horsepower')"
   ]
  },
  {
   "cell_type": "markdown",
   "metadata": {},
   "source": [
    "## `Subplots`"
   ]
  },
  {
   "cell_type": "code",
   "execution_count": 132,
   "metadata": {
    "collapsed": false
   },
   "outputs": [
    {
     "data": {
      "text/html": [
       "<script type=\"text/javascript\">window.PLOTLYENV=window.PLOTLYENV || {};window.PLOTLYENV.BASE_URL=\"https://plot.ly\";</script>"
      ],
      "text/plain": [
       "<IPython.core.display.HTML object>"
      ]
     },
     "metadata": {},
     "output_type": "display_data"
    },
    {
     "data": {
      "text/html": [
       "<div class=\"06210965-4235-4ca1-8e23-44917a7bb79f loading\" style=\"color: rgb(50,50,50);\">Drawing...</div><div id=\"06210965-4235-4ca1-8e23-44917a7bb79f\" style=\"height: 525; width: 100%;\" class=\"plotly-graph-div\"></div><script type=\"text/javascript\">Plotly.plot(\"06210965-4235-4ca1-8e23-44917a7bb79f\", [{\"type\": \"scatter\", \"fill\": \"tozeroy\", \"line\": {\"dash\": \"solid\", \"color\": \"rgba(226, 74, 51, 1.0)\", \"width\": 1.3}, \"xaxis\": \"x1\", \"text\": \"\", \"mode\": \"lines\", \"y\": [3.9, 3.9, 3.85, 3.08, 3.15, 2.76, 3.21, 3.69, 3.92, 3.92, 3.92, 3.07, 3.07, 3.07, 2.93, 3.0, 3.23, 4.08, 4.93, 4.22, 3.7, 2.76, 3.15, 3.73, 3.08, 4.08, 4.43, 3.77, 4.22, 3.62, 3.54, 4.11], \"yaxis\": \"y1\", \"name\": \"drat\", \"fillcolor\": \"rgba(226, 74, 51, 0.3)\", \"x\": [\"Mazda RX4\", \"Mazda RX4 Wag\", \"Datsun 710\", \"Hornet 4 Drive\", \"Hornet Sportabout\", \"Valiant\", \"Duster 360\", \"Merc 240D\", \"Merc 230\", \"Merc 280\", \"Merc 280C\", \"Merc 450SE\", \"Merc 450SL\", \"Merc 450SLC\", \"Cadillac Fleetwood\", \"Lincoln Continental\", \"Chrysler Imperial\", \"Fiat 128\", \"Honda Civic\", \"Toyota Corolla\", \"Toyota Corona\", \"Dodge Challenger\", \"AMC Javelin\", \"Camaro Z28\", \"Pontiac Firebird\", \"Fiat X1-9\", \"Porsche 914-2\", \"Lotus Europa\", \"Ford Pantera L\", \"Ferrari Dino\", \"Maserati Bora\", \"Volvo 142E\"]}, {\"type\": \"scatter\", \"fill\": \"tozeroy\", \"line\": {\"dash\": \"solid\", \"color\": \"rgba(62, 111, 176, 1.0)\", \"width\": 1.3}, \"xaxis\": \"x1\", \"text\": \"\", \"mode\": \"lines\", \"y\": [4, 4, 4, 3, 3, 3, 3, 4, 4, 4, 4, 3, 3, 3, 3, 3, 3, 4, 4, 4, 3, 3, 3, 3, 3, 4, 5, 5, 5, 5, 5, 4], \"yaxis\": \"y2\", \"name\": \"gear\", \"fillcolor\": \"rgba(62, 111, 176, 0.3)\", \"x\": [\"Mazda RX4\", \"Mazda RX4 Wag\", \"Datsun 710\", \"Hornet 4 Drive\", \"Hornet Sportabout\", \"Valiant\", \"Duster 360\", \"Merc 240D\", \"Merc 230\", \"Merc 280\", \"Merc 280C\", \"Merc 450SE\", \"Merc 450SL\", \"Merc 450SLC\", \"Cadillac Fleetwood\", \"Lincoln Continental\", \"Chrysler Imperial\", \"Fiat 128\", \"Honda Civic\", \"Toyota Corolla\", \"Toyota Corona\", \"Dodge Challenger\", \"AMC Javelin\", \"Camaro Z28\", \"Pontiac Firebird\", \"Fiat X1-9\", \"Porsche 914-2\", \"Lotus Europa\", \"Ford Pantera L\", \"Ferrari Dino\", \"Maserati Bora\", \"Volvo 142E\"]}, {\"type\": \"scatter\", \"fill\": \"tozeroy\", \"line\": {\"dash\": \"solid\", \"color\": \"rgba(132, 118, 202, 1.0)\", \"width\": 1.3}, \"xaxis\": \"x1\", \"text\": \"\", \"mode\": \"lines\", \"y\": [4, 4, 1, 1, 2, 1, 4, 2, 2, 4, 4, 3, 3, 3, 4, 4, 4, 1, 2, 1, 1, 2, 2, 4, 2, 1, 2, 2, 4, 6, 8, 2], \"yaxis\": \"y3\", \"name\": \"carb\", \"fillcolor\": \"rgba(132, 118, 202, 0.3)\", \"x\": [\"Mazda RX4\", \"Mazda RX4 Wag\", \"Datsun 710\", \"Hornet 4 Drive\", \"Hornet Sportabout\", \"Valiant\", \"Duster 360\", \"Merc 240D\", \"Merc 230\", \"Merc 280\", \"Merc 280C\", \"Merc 450SE\", \"Merc 450SL\", \"Merc 450SLC\", \"Cadillac Fleetwood\", \"Lincoln Continental\", \"Chrysler Imperial\", \"Fiat 128\", \"Honda Civic\", \"Toyota Corolla\", \"Toyota Corona\", \"Dodge Challenger\", \"AMC Javelin\", \"Camaro Z28\", \"Pontiac Firebird\", \"Fiat X1-9\", \"Porsche 914-2\", \"Lotus Europa\", \"Ford Pantera L\", \"Ferrari Dino\", \"Maserati Bora\", \"Volvo 142E\"]}], {\"yaxis3\": {\"anchor\": \"x1\", \"domain\": [0.0, 0.3]}, \"paper_bgcolor\": \"#FFFFFF\", \"yaxis2\": {\"anchor\": \"free\", \"position\": 0.0, \"domain\": [0.35, 0.6499999999999999]}, \"yaxis1\": {\"title\": \"\", \"position\": 0.0, \"zerolinecolor\": \"#F6F6F6\", \"showgrid\": true, \"domain\": [0.7, 1.0], \"gridcolor\": \"#F6F6F6\", \"tickfont\": {\"color\": \"#666666\"}, \"anchor\": \"free\", \"titlefont\": {\"color\": \"#666666\"}}, \"legend\": {\"font\": {\"color\": \"#666666\"}, \"bgcolor\": \"#FFFFFF\"}, \"xaxis1\": {\"title\": \"\", \"zerolinecolor\": \"#F6F6F6\", \"showgrid\": true, \"domain\": [0.0, 1.0], \"gridcolor\": \"#F6F6F6\", \"tickfont\": {\"color\": \"#666666\"}, \"anchor\": \"y3\", \"titlefont\": {\"color\": \"#666666\"}}, \"plot_bgcolor\": \"#E5E5E5\", \"titlefont\": {\"color\": \"#151516\"}}, {\"linkText\": \"Export to plot.ly\", \"showLink\": true}).then(function() {\n",
       "    $(\".06210965-4235-4ca1-8e23-44917a7bb79f.loading\").remove();\n",
       "})</script>"
      ],
      "text/plain": [
       "<IPython.core.display.HTML object>"
      ]
     },
     "metadata": {},
     "output_type": "display_data"
    }
   ],
   "source": [
    "df = mtcars[['drat', 'gear', 'carb']]\n",
    "df.iplot(subplots=True, shape=(3,1), shared_xaxes=True, fill=True, vertical_spacing=.05)"
   ]
  },
  {
   "cell_type": "markdown",
   "metadata": {
    "collapsed": true
   },
   "source": [
    "### Area Plot"
   ]
  },
  {
   "cell_type": "code",
   "execution_count": 27,
   "metadata": {
    "collapsed": false
   },
   "outputs": [
    {
     "data": {
      "text/html": [
       "<script type=\"text/javascript\">window.PLOTLYENV=window.PLOTLYENV || {};window.PLOTLYENV.BASE_URL=\"https://plot.ly\";</script>"
      ],
      "text/plain": [
       "<IPython.core.display.HTML object>"
      ]
     },
     "metadata": {},
     "output_type": "display_data"
    },
    {
     "data": {
      "text/html": [
       "<div class=\"349bda02-c850-4a89-bc0c-707d21476caa loading\" style=\"color: rgb(50,50,50);\">Drawing...</div><div id=\"349bda02-c850-4a89-bc0c-707d21476caa\" style=\"height: 525; width: 100%;\" class=\"plotly-graph-div\"></div><script type=\"text/javascript\">Plotly.plot(\"349bda02-c850-4a89-bc0c-707d21476caa\", [{\"xaxis\": \"x1\", \"yaxis\": \"y1\", \"name\": \"a\", \"fillcolor\": \"rgba(226, 74, 51, 0.3)\", \"x\": [0, 1, 2, 3, 4, 5, 6, 7, 8, 9], \"mode\": \"lines\", \"line\": {\"width\": 1.3, \"color\": \"rgba(226, 74, 51, 1.0)\", \"dash\": \"solid\"}, \"text\": \"\", \"fill\": \"tozeroy\", \"type\": \"scatter\", \"y\": [0.6891206968929591, 0.32358825034296435, 0.5870228059015437, 0.5035838385120252, 0.8450269189810137, 0.24479159153344154, 0.7651836037795214, 0.06884546380487067, 0.6712142498464665, 0.09856478448618045]}, {\"xaxis\": \"x2\", \"yaxis\": \"y1\", \"name\": \"b\", \"fillcolor\": \"rgba(62, 111, 176, 0.3)\", \"x\": [0, 1, 2, 3, 4, 5, 6, 7, 8, 9], \"mode\": \"lines\", \"line\": {\"width\": 1.3, \"color\": \"rgba(62, 111, 176, 1.0)\", \"dash\": \"solid\"}, \"text\": \"\", \"fill\": \"tozeroy\", \"type\": \"scatter\", \"y\": [0.6661138331847658, 0.5724772365445281, 0.3195287434115409, 0.6510424787548234, 0.8580502109847323, 0.44880305407207066, 0.9155707664229863, 0.43420746039513747, 0.6574543433583342, 0.9965173360998606]}, {\"xaxis\": \"x3\", \"yaxis\": \"y1\", \"name\": \"c\", \"fillcolor\": \"rgba(132, 118, 202, 0.3)\", \"x\": [0, 1, 2, 3, 4, 5, 6, 7, 8, 9], \"mode\": \"lines\", \"line\": {\"width\": 1.3, \"color\": \"rgba(132, 118, 202, 1.0)\", \"dash\": \"solid\"}, \"text\": \"\", \"fill\": \"tozeroy\", \"type\": \"scatter\", \"y\": [0.5214222061181171, 0.5381734728531553, 0.38212306283066577, 0.40062717640794876, 0.7601898500129431, 0.39189003624223584, 0.4479070819707863, 0.23865581939529878, 0.829636664729005, 0.22306102978568476]}], {\"xaxis2\": {\"anchor\": \"free\", \"position\": 0.0, \"domain\": [0.35555555555555557, 0.6444444444444445]}, \"xaxis3\": {\"anchor\": \"free\", \"position\": 0.0, \"domain\": [0.7111111111111111, 1.0]}, \"legend\": {\"font\": {\"color\": \"#666666\"}, \"bgcolor\": \"#FFFFFF\"}, \"plot_bgcolor\": \"#E5E5E5\", \"titlefont\": {\"color\": \"#151516\"}, \"paper_bgcolor\": \"#FFFFFF\", \"yaxis1\": {\"anchor\": \"x1\", \"domain\": [0.0, 1.0], \"tickfont\": {\"color\": \"#666666\"}, \"showgrid\": true, \"titlefont\": {\"color\": \"#666666\"}, \"title\": \"\", \"gridcolor\": \"#F6F6F6\", \"zerolinecolor\": \"#F6F6F6\"}, \"xaxis1\": {\"anchor\": \"y1\", \"domain\": [0.0, 0.2888888888888889], \"tickfont\": {\"color\": \"#666666\"}, \"showgrid\": true, \"titlefont\": {\"color\": \"#666666\"}, \"title\": \"\", \"gridcolor\": \"#F6F6F6\", \"zerolinecolor\": \"#F6F6F6\"}}, {\"linkText\": \"Export to plot.ly\", \"showLink\": true}).then(function() {\n",
       "    $(\".349bda02-c850-4a89-bc0c-707d21476caa.loading\").remove();\n",
       "})</script>"
      ],
      "text/plain": [
       "<IPython.core.display.HTML object>"
      ]
     },
     "metadata": {},
     "output_type": "display_data"
    }
   ],
   "source": [
    "df = pd.DataFrame(np.random.rand(10, 3), columns=['a', 'b', 'c'])\n",
    "df.iplot(kind='scatter', subplots=True, shape=(1,3), fill=True, shared_yaxes=True)"
   ]
  },
  {
   "cell_type": "code",
   "execution_count": null,
   "metadata": {
    "collapsed": true
   },
   "outputs": [],
   "source": []
  },
  {
   "cell_type": "markdown",
   "metadata": {},
   "source": [
    "## `Bubble Charts` in `Pandas`"
   ]
  },
  {
   "cell_type": "code",
   "execution_count": 114,
   "metadata": {
    "collapsed": false
   },
   "outputs": [
    {
     "name": "stdout",
     "output_type": "stream",
     "text": [
      "        country  year       pop continent  lifeExp    gdpPercap\n",
      "10  Afghanistan  2002  25268405      Asia   42.129   726.734055\n",
      "22      Albania  2002   3508512    Europe   75.651  4604.211737\n",
      "34      Algeria  2002  31287142    Africa   70.994  5288.040382\n"
     ]
    },
    {
     "data": {
      "text/html": [
       "<iframe id=\"igraph\" scrolling=\"no\" style=\"border:none;\"seamless=\"seamless\" src=\"https://plot.ly/~RichardAfolabi/97.embed\" height=\"525px\" width=\"100%\"></iframe>"
      ],
      "text/plain": [
       "<plotly.tools.PlotlyDisplay object>"
      ]
     },
     "execution_count": 114,
     "metadata": {},
     "output_type": "execute_result"
    }
   ],
   "source": [
    "data_url = 'http://www.stat.ubc.ca/~jenny/notOcto/STAT545A/examples/gapminder/data/gapminderDataFiveYear.txt'\n",
    "dframe = pd.read_csv(data_url, sep='\\t')\n",
    "\n",
    "cf.set_config_file(offline=False, world_readable=True, theme='pearl')\n",
    "\n",
    "\n",
    "def GapMinderByYear(yr):\n",
    "    \"\"\" Returns frame based on year \"\"\"\n",
    "    if yr not in dframe.year.values:\n",
    "        print(\"No Data for given year. Use {} to {}\".format(dframe.year.values.min(), dframe.year.values.max()))\n",
    "        return \n",
    "    else:\n",
    "        return dframe[dframe.year == yr]\n",
    "\n",
    "    \n",
    "    \n",
    "# Set year\n",
    "set_year = 2002\n",
    "gap_data = GapMinderByYear(set_year)\n",
    "print(gap_data.head(3))\n",
    "\n",
    "gap_data.iplot(kind='bubble', x='gdpPercap', y='lifeExp', size='pop', text='country',\n",
    "               xTitle='GDP per Capita', yTitle='Life Expectancy')\n",
    "\n"
   ]
  },
  {
   "cell_type": "code",
   "execution_count": null,
   "metadata": {
    "collapsed": true
   },
   "outputs": [],
   "source": []
  }
 ],
 "metadata": {
  "kernelspec": {
   "display_name": "Python 3",
   "language": "python",
   "name": "python3"
  },
  "language_info": {
   "codemirror_mode": {
    "name": "ipython",
    "version": 3
   },
   "file_extension": ".py",
   "mimetype": "text/x-python",
   "name": "python",
   "nbconvert_exporter": "python",
   "pygments_lexer": "ipython3",
   "version": "3.5.0"
  }
 },
 "nbformat": 4,
 "nbformat_minor": 0
}
