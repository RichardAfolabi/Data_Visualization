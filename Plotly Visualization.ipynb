{
 "cells": [
  {
   "cell_type": "markdown",
   "metadata": {},
   "source": [
    "# Visualization using `Plotly API`"
   ]
  },
  {
   "cell_type": "code",
   "execution_count": 49,
   "metadata": {
    "collapsed": false
   },
   "outputs": [],
   "source": [
    "%matplotlib inline\n",
    "\n",
    "import numpy as np\n",
    "import pandas as pd\n",
    "# While importing module, it looks for credential file and uses it to sign in to API server for communications.\n",
    "import plotly.plotly as py\n",
    "\n",
    "# Other useful tools\n",
    "import plotly.tools as tls\n",
    "\n",
    "# Graph object to piece together all Plotly plots\n",
    "import plotly.graph_objs as go\n",
    "\n",
    "# Cufflinks binds plotly to pandas dataframes in IPython\n",
    "import cufflinks as cf\n",
    "\n",
    "# Insert Credentials\n",
    "# tls.set_credentials_file(username='', api_key='')\n",
    "\n",
    "# Write credentials to Python dictionary\n",
    "tls.get_credentials_file()\n",
    "\n",
    "cf.set_config_file(theme='ggplot', sharing=True, offline=False, world_readable=True)"
   ]
  },
  {
   "cell_type": "markdown",
   "metadata": {},
   "source": [
    "## Dataset"
   ]
  },
  {
   "cell_type": "code",
   "execution_count": 38,
   "metadata": {
    "collapsed": false
   },
   "outputs": [
    {
     "data": {
      "text/html": [
       "<div>\n",
       "<table border=\"1\" class=\"dataframe\">\n",
       "  <thead>\n",
       "    <tr style=\"text-align: right;\">\n",
       "      <th></th>\n",
       "      <th>mpg</th>\n",
       "      <th>cyl</th>\n",
       "      <th>disp</th>\n",
       "      <th>hp</th>\n",
       "      <th>drat</th>\n",
       "      <th>wt</th>\n",
       "      <th>qsec</th>\n",
       "      <th>vs</th>\n",
       "      <th>am</th>\n",
       "      <th>gear</th>\n",
       "      <th>carb</th>\n",
       "    </tr>\n",
       "  </thead>\n",
       "  <tbody>\n",
       "    <tr>\n",
       "      <th>Mazda RX4</th>\n",
       "      <td>21.0</td>\n",
       "      <td>6</td>\n",
       "      <td>160</td>\n",
       "      <td>110</td>\n",
       "      <td>3.90</td>\n",
       "      <td>2.620</td>\n",
       "      <td>16.46</td>\n",
       "      <td>0</td>\n",
       "      <td>1</td>\n",
       "      <td>4</td>\n",
       "      <td>4</td>\n",
       "    </tr>\n",
       "    <tr>\n",
       "      <th>Mazda RX4 Wag</th>\n",
       "      <td>21.0</td>\n",
       "      <td>6</td>\n",
       "      <td>160</td>\n",
       "      <td>110</td>\n",
       "      <td>3.90</td>\n",
       "      <td>2.875</td>\n",
       "      <td>17.02</td>\n",
       "      <td>0</td>\n",
       "      <td>1</td>\n",
       "      <td>4</td>\n",
       "      <td>4</td>\n",
       "    </tr>\n",
       "    <tr>\n",
       "      <th>Datsun 710</th>\n",
       "      <td>22.8</td>\n",
       "      <td>4</td>\n",
       "      <td>108</td>\n",
       "      <td>93</td>\n",
       "      <td>3.85</td>\n",
       "      <td>2.320</td>\n",
       "      <td>18.61</td>\n",
       "      <td>1</td>\n",
       "      <td>1</td>\n",
       "      <td>4</td>\n",
       "      <td>1</td>\n",
       "    </tr>\n",
       "    <tr>\n",
       "      <th>Hornet 4 Drive</th>\n",
       "      <td>21.4</td>\n",
       "      <td>6</td>\n",
       "      <td>258</td>\n",
       "      <td>110</td>\n",
       "      <td>3.08</td>\n",
       "      <td>3.215</td>\n",
       "      <td>19.44</td>\n",
       "      <td>1</td>\n",
       "      <td>0</td>\n",
       "      <td>3</td>\n",
       "      <td>1</td>\n",
       "    </tr>\n",
       "    <tr>\n",
       "      <th>Hornet Sportabout</th>\n",
       "      <td>18.7</td>\n",
       "      <td>8</td>\n",
       "      <td>360</td>\n",
       "      <td>175</td>\n",
       "      <td>3.15</td>\n",
       "      <td>3.440</td>\n",
       "      <td>17.02</td>\n",
       "      <td>0</td>\n",
       "      <td>0</td>\n",
       "      <td>3</td>\n",
       "      <td>2</td>\n",
       "    </tr>\n",
       "  </tbody>\n",
       "</table>\n",
       "</div>"
      ],
      "text/plain": [
       "                    mpg  cyl  disp   hp  drat     wt   qsec  vs  am  gear  \\\n",
       "Mazda RX4          21.0    6   160  110  3.90  2.620  16.46   0   1     4   \n",
       "Mazda RX4 Wag      21.0    6   160  110  3.90  2.875  17.02   0   1     4   \n",
       "Datsun 710         22.8    4   108   93  3.85  2.320  18.61   1   1     4   \n",
       "Hornet 4 Drive     21.4    6   258  110  3.08  3.215  19.44   1   0     3   \n",
       "Hornet Sportabout  18.7    8   360  175  3.15  3.440  17.02   0   0     3   \n",
       "\n",
       "                   carb  \n",
       "Mazda RX4             4  \n",
       "Mazda RX4 Wag         4  \n",
       "Datsun 710            1  \n",
       "Hornet 4 Drive        1  \n",
       "Hornet Sportabout     2  "
      ]
     },
     "execution_count": 38,
     "metadata": {},
     "output_type": "execute_result"
    }
   ],
   "source": [
    "url = 'https://raw.githubusercontent.com/cs109/2014_data/master/mtcars.csv'\n",
    "mtcars = pd.read_csv(url, sep = ',', index_col=0)\n",
    "mtcars.head()\n"
   ]
  },
  {
   "cell_type": "markdown",
   "metadata": {},
   "source": [
    "## `Histogram`"
   ]
  },
  {
   "cell_type": "code",
   "execution_count": 40,
   "metadata": {
    "collapsed": false
   },
   "outputs": [
    {
     "data": {
      "text/html": [
       "<script type=\"text/javascript\">window.PLOTLYENV=window.PLOTLYENV || {};window.PLOTLYENV.BASE_URL=\"https://plot.ly\";</script>"
      ],
      "text/plain": [
       "<IPython.core.display.HTML object>"
      ]
     },
     "metadata": {},
     "output_type": "display_data"
    },
    {
     "data": {
      "text/html": [
       "<div class=\"def1eaef-3366-4bc8-9737-5c67c31a2e1d loading\" style=\"color: rgb(50,50,50);\">Drawing...</div><div id=\"def1eaef-3366-4bc8-9737-5c67c31a2e1d\" style=\"height: 525; width: 100%;\" class=\"plotly-graph-div\"></div><script type=\"text/javascript\">Plotly.plot(\"def1eaef-3366-4bc8-9737-5c67c31a2e1d\", [{\"x\": [21.0, 21.0, 22.8, 21.4, 18.7, 18.1, 14.3, 24.4, 22.8, 19.2, 17.8, 16.4, 17.3, 15.2, 10.4, 10.4, 14.7, 32.4, 30.4, 33.9, 21.5, 15.5, 15.2, 13.3, 19.2, 27.3, 26.0, 30.4, 15.8, 19.7, 15.0, 21.4], \"opacity\": 0.8, \"type\": \"histogram\", \"marker\": {\"line\": {\"color\": \"#D9D9D9\", \"width\": 1.3}, \"color\": \"rgba(226, 74, 51, 1.0)\"}, \"name\": \"mpg\", \"nbinsx\": 10, \"orientation\": \"v\", \"histnorm\": \"\", \"histfunc\": \"count\"}], {\"yaxis1\": {\"gridcolor\": \"#F6F6F6\", \"title\": \"Miles Per Gallon\", \"tickfont\": {\"color\": \"#666666\"}, \"titlefont\": {\"color\": \"#666666\"}, \"showgrid\": true, \"zerolinecolor\": \"#F6F6F6\"}, \"barmode\": \"overlay\", \"paper_bgcolor\": \"#FFFFFF\", \"xaxis1\": {\"gridcolor\": \"#F6F6F6\", \"title\": \"Distribution of MPG\", \"tickfont\": {\"color\": \"#666666\"}, \"titlefont\": {\"color\": \"#666666\"}, \"showgrid\": true, \"zerolinecolor\": \"#F6F6F6\"}, \"legend\": {\"font\": {\"color\": \"#666666\"}, \"bgcolor\": \"#FFFFFF\"}, \"titlefont\": {\"color\": \"#151516\"}, \"plot_bgcolor\": \"#E5E5E5\"}, {\"linkText\": \"Export to plot.ly\", \"showLink\": true}).then(function() {\n",
       "    $(\".def1eaef-3366-4bc8-9737-5c67c31a2e1d.loading\").remove();\n",
       "})</script>"
      ],
      "text/plain": [
       "<IPython.core.display.HTML object>"
      ]
     },
     "metadata": {},
     "output_type": "display_data"
    }
   ],
   "source": [
    "mtcars.mpg.iplot(kind='hist', bins=10,\n",
    "                xTitle='Distribution of MPG', yTitle='Miles Per Gallon', filename='pandas_plot/histogram')"
   ]
  },
  {
   "cell_type": "markdown",
   "metadata": {},
   "source": [
    "## Relationships between `CYL` and `MPG`"
   ]
  },
  {
   "cell_type": "code",
   "execution_count": 41,
   "metadata": {
    "collapsed": false
   },
   "outputs": [
    {
     "data": {
      "text/html": [
       "<script type=\"text/javascript\">window.PLOTLYENV=window.PLOTLYENV || {};window.PLOTLYENV.BASE_URL=\"https://plot.ly\";</script>"
      ],
      "text/plain": [
       "<IPython.core.display.HTML object>"
      ]
     },
     "metadata": {},
     "output_type": "display_data"
    },
    {
     "data": {
      "text/html": [
       "<div class=\"e8b5c471-d55a-4d10-8060-c8580c545783 loading\" style=\"color: rgb(50,50,50);\">Drawing...</div><div id=\"e8b5c471-d55a-4d10-8060-c8580c545783\" style=\"height: 525; width: 100%;\" class=\"plotly-graph-div\"></div><script type=\"text/javascript\">Plotly.plot(\"e8b5c471-d55a-4d10-8060-c8580c545783\", [{\"x\": [6, 6, 4, 6, 8, 6, 8, 4, 4, 6, 6, 8, 8, 8, 8, 8, 8, 4, 4, 4, 4, 8, 8, 8, 8, 4, 4, 4, 8, 6, 8, 4], \"line\": {\"dash\": \"solid\", \"color\": \"rgba(139, 0, 0, 1.0)\", \"width\": 1.3}, \"type\": \"scatter\", \"mode\": \"markers\", \"marker\": {\"size\": 12, \"symbol\": \"dot\"}, \"name\": \"mpg\", \"text\": \"\", \"y\": [21.0, 21.0, 22.8, 21.4, 18.7, 18.1, 14.3, 24.4, 22.8, 19.2, 17.8, 16.4, 17.3, 15.2, 10.4, 10.4, 14.7, 32.4, 30.4, 33.9, 21.5, 15.5, 15.2, 13.3, 19.2, 27.3, 26.0, 30.4, 15.8, 19.7, 15.0, 21.4]}], {\"plot_bgcolor\": \"#E5E5E5\", \"title\": \"Relationship between cylinders and MPG\", \"paper_bgcolor\": \"#FFFFFF\", \"xaxis1\": {\"gridcolor\": \"#F6F6F6\", \"title\": \"Cylinder\", \"tickfont\": {\"color\": \"#666666\"}, \"titlefont\": {\"color\": \"#666666\"}, \"showgrid\": true, \"zerolinecolor\": \"#F6F6F6\"}, \"legend\": {\"font\": {\"color\": \"#666666\"}, \"bgcolor\": \"#FFFFFF\"}, \"titlefont\": {\"color\": \"#151516\"}, \"yaxis1\": {\"gridcolor\": \"#F6F6F6\", \"title\": \"MPG\", \"tickfont\": {\"color\": \"#666666\"}, \"titlefont\": {\"color\": \"#666666\"}, \"showgrid\": true, \"zerolinecolor\": \"#F6F6F6\"}}, {\"linkText\": \"Export to plot.ly\", \"showLink\": true}).then(function() {\n",
       "    $(\".e8b5c471-d55a-4d10-8060-c8580c545783.loading\").remove();\n",
       "})</script>"
      ],
      "text/plain": [
       "<IPython.core.display.HTML object>"
      ]
     },
     "metadata": {},
     "output_type": "display_data"
    }
   ],
   "source": [
    "# Relationship between cyl and mpg\n",
    "mtcars[['cyl','mpg']].iplot(kind='scatter', x='cyl', y='mpg', mode='markers', \n",
    "                            colors='darkred', xTitle='Cylinder', yTitle='MPG', \n",
    "                            title='Relationship between cylinders and MPG', filename='pandas_plot/scatter')"
   ]
  },
  {
   "cell_type": "markdown",
   "metadata": {},
   "source": [
    "## Relationship between `Horsepower` and `MPG`"
   ]
  },
  {
   "cell_type": "code",
   "execution_count": 42,
   "metadata": {
    "collapsed": false
   },
   "outputs": [
    {
     "data": {
      "text/html": [
       "<script type=\"text/javascript\">window.PLOTLYENV=window.PLOTLYENV || {};window.PLOTLYENV.BASE_URL=\"https://plot.ly\";</script>"
      ],
      "text/plain": [
       "<IPython.core.display.HTML object>"
      ]
     },
     "metadata": {},
     "output_type": "display_data"
    },
    {
     "data": {
      "text/html": [
       "<div class=\"6433c134-570d-43aa-a3c4-b4f5878cfa9d loading\" style=\"color: rgb(50,50,50);\">Drawing...</div><div id=\"6433c134-570d-43aa-a3c4-b4f5878cfa9d\" style=\"height: 525; width: 100%;\" class=\"plotly-graph-div\"></div><script type=\"text/javascript\">Plotly.plot(\"6433c134-570d-43aa-a3c4-b4f5878cfa9d\", [{\"x\": [110, 110, 93, 110, 175, 105, 245, 62, 95, 123, 123, 180, 180, 180, 205, 215, 230, 66, 52, 65, 97, 150, 150, 245, 175, 66, 91, 113, 264, 175, 335, 109], \"line\": {\"dash\": \"solid\", \"color\": \"rgba(0, 128, 0, 1.0)\", \"width\": 1.3}, \"type\": \"scatter\", \"mode\": \"markers\", \"marker\": {\"size\": 12, \"symbol\": \"dot\"}, \"name\": \"mpg\", \"text\": \"\", \"y\": [21.0, 21.0, 22.8, 21.4, 18.7, 18.1, 14.3, 24.4, 22.8, 19.2, 17.8, 16.4, 17.3, 15.2, 10.4, 10.4, 14.7, 32.4, 30.4, 33.9, 21.5, 15.5, 15.2, 13.3, 19.2, 27.3, 26.0, 30.4, 15.8, 19.7, 15.0, 21.4]}], {\"plot_bgcolor\": \"#E5E5E5\", \"title\": \"Relationship between horsepower and MPG\", \"paper_bgcolor\": \"#FFFFFF\", \"xaxis1\": {\"gridcolor\": \"#F6F6F6\", \"title\": \"Horsepower\", \"tickfont\": {\"color\": \"#666666\"}, \"titlefont\": {\"color\": \"#666666\"}, \"showgrid\": true, \"zerolinecolor\": \"#F6F6F6\"}, \"legend\": {\"font\": {\"color\": \"#666666\"}, \"bgcolor\": \"#FFFFFF\"}, \"titlefont\": {\"color\": \"#151516\"}, \"yaxis1\": {\"gridcolor\": \"#F6F6F6\", \"title\": \"MPG\", \"tickfont\": {\"color\": \"#666666\"}, \"titlefont\": {\"color\": \"#666666\"}, \"showgrid\": true, \"zerolinecolor\": \"#F6F6F6\"}}, {\"linkText\": \"Export to plot.ly\", \"showLink\": true}).then(function() {\n",
       "    $(\".6433c134-570d-43aa-a3c4-b4f5878cfa9d.loading\").remove();\n",
       "})</script>"
      ],
      "text/plain": [
       "<IPython.core.display.HTML object>"
      ]
     },
     "metadata": {},
     "output_type": "display_data"
    }
   ],
   "source": [
    "mtcars[['hp', 'mpg']].iplot(kind='scatter', mode='markers', x='hp', y='mpg', \n",
    "                            xTitle='Horsepower', yTitle='MPG', colors='green',\n",
    "                            title='Relationship between horsepower and MPG', filename='pandas_plot/scatter2')"
   ]
  },
  {
   "cell_type": "markdown",
   "metadata": {},
   "source": [
    "## Generate `Correlation Matrix`"
   ]
  },
  {
   "cell_type": "code",
   "execution_count": 19,
   "metadata": {
    "collapsed": false
   },
   "outputs": [
    {
     "data": {
      "text/html": [
       "<script type=\"text/javascript\">window.PLOTLYENV=window.PLOTLYENV || {};window.PLOTLYENV.BASE_URL=\"https://plot.ly\";</script>"
      ],
      "text/plain": [
       "<IPython.core.display.HTML object>"
      ]
     },
     "metadata": {},
     "output_type": "display_data"
    },
    {
     "data": {
      "text/html": [
       "<div class=\"d1692832-80ed-437e-a4a8-228d71a6f24b loading\" style=\"color: rgb(50,50,50);\">Drawing...</div><div id=\"d1692832-80ed-437e-a4a8-228d71a6f24b\" style=\"height: 525; width: 100%;\" class=\"plotly-graph-div\"></div><script type=\"text/javascript\">Plotly.plot(\"d1692832-80ed-437e-a4a8-228d71a6f24b\", [{\"x\": [21.0, 21.0, 22.8, 21.4, 18.7, 18.1, 14.3, 24.4, 22.8, 19.2, 17.8, 16.4, 17.3, 15.2, 10.4, 10.4, 14.7, 32.4, 30.4, 33.9, 21.5, 15.5, 15.2, 13.3, 19.2, 27.3, 26.0, 30.4, 15.8, 19.7, 15.0, 21.4], \"opacity\": 0.8, \"type\": \"histogram\", \"marker\": {\"line\": {\"color\": \"#D9D9D9\", \"width\": 1.3}, \"color\": \"rgba(226, 74, 51, 1.0)\"}, \"yaxis\": \"y1\", \"xaxis\": \"x1\", \"name\": \"mpg\", \"nbinsx\": 10, \"orientation\": \"v\", \"histnorm\": \"\", \"histfunc\": \"count\"}, {\"x\": [110, 110, 93, 110, 175, 105, 245, 62, 95, 123, 123, 180, 180, 180, 205, 215, 230, 66, 52, 65, 97, 150, 150, 245, 175, 66, 91, 113, 264, 175, 335, 109], \"line\": {\"dash\": \"solid\", \"color\": \"rgba(128, 128, 128, 1.0)\", \"width\": 1.3}, \"type\": \"scatter\", \"mode\": \"markers\", \"marker\": {\"size\": 2, \"symbol\": \"dot\"}, \"yaxis\": \"y2\", \"xaxis\": \"x2\", \"name\": \"mpg\", \"text\": \"\", \"y\": [21.0, 21.0, 22.8, 21.4, 18.7, 18.1, 14.3, 24.4, 22.8, 19.2, 17.8, 16.4, 17.3, 15.2, 10.4, 10.4, 14.7, 32.4, 30.4, 33.9, 21.5, 15.5, 15.2, 13.3, 19.2, 27.3, 26.0, 30.4, 15.8, 19.7, 15.0, 21.4]}, {\"x\": [6, 6, 4, 6, 8, 6, 8, 4, 4, 6, 6, 8, 8, 8, 8, 8, 8, 4, 4, 4, 4, 8, 8, 8, 8, 4, 4, 4, 8, 6, 8, 4], \"line\": {\"dash\": \"solid\", \"color\": \"rgba(128, 128, 128, 1.0)\", \"width\": 1.3}, \"type\": \"scatter\", \"mode\": \"markers\", \"marker\": {\"size\": 2, \"symbol\": \"dot\"}, \"yaxis\": \"y3\", \"xaxis\": \"x3\", \"name\": \"mpg\", \"text\": \"\", \"y\": [21.0, 21.0, 22.8, 21.4, 18.7, 18.1, 14.3, 24.4, 22.8, 19.2, 17.8, 16.4, 17.3, 15.2, 10.4, 10.4, 14.7, 32.4, 30.4, 33.9, 21.5, 15.5, 15.2, 13.3, 19.2, 27.3, 26.0, 30.4, 15.8, 19.7, 15.0, 21.4]}, {\"x\": [21.0, 21.0, 22.8, 21.4, 18.7, 18.1, 14.3, 24.4, 22.8, 19.2, 17.8, 16.4, 17.3, 15.2, 10.4, 10.4, 14.7, 32.4, 30.4, 33.9, 21.5, 15.5, 15.2, 13.3, 19.2, 27.3, 26.0, 30.4, 15.8, 19.7, 15.0, 21.4], \"line\": {\"dash\": \"solid\", \"color\": \"rgba(128, 128, 128, 1.0)\", \"width\": 1.3}, \"type\": \"scatter\", \"mode\": \"markers\", \"marker\": {\"size\": 2, \"symbol\": \"dot\"}, \"yaxis\": \"y4\", \"xaxis\": \"x4\", \"name\": \"hp\", \"text\": \"\", \"y\": [110, 110, 93, 110, 175, 105, 245, 62, 95, 123, 123, 180, 180, 180, 205, 215, 230, 66, 52, 65, 97, 150, 150, 245, 175, 66, 91, 113, 264, 175, 335, 109]}, {\"x\": [110, 110, 93, 110, 175, 105, 245, 62, 95, 123, 123, 180, 180, 180, 205, 215, 230, 66, 52, 65, 97, 150, 150, 245, 175, 66, 91, 113, 264, 175, 335, 109], \"opacity\": 0.8, \"type\": \"histogram\", \"marker\": {\"line\": {\"color\": \"#D9D9D9\", \"width\": 1.3}, \"color\": \"rgba(62, 111, 176, 1.0)\"}, \"yaxis\": \"y5\", \"xaxis\": \"x5\", \"name\": \"hp\", \"nbinsx\": 10, \"orientation\": \"v\", \"histnorm\": \"\", \"histfunc\": \"count\"}, {\"x\": [6, 6, 4, 6, 8, 6, 8, 4, 4, 6, 6, 8, 8, 8, 8, 8, 8, 4, 4, 4, 4, 8, 8, 8, 8, 4, 4, 4, 8, 6, 8, 4], \"line\": {\"dash\": \"solid\", \"color\": \"rgba(128, 128, 128, 1.0)\", \"width\": 1.3}, \"type\": \"scatter\", \"mode\": \"markers\", \"marker\": {\"size\": 2, \"symbol\": \"dot\"}, \"yaxis\": \"y6\", \"xaxis\": \"x6\", \"name\": \"hp\", \"text\": \"\", \"y\": [110, 110, 93, 110, 175, 105, 245, 62, 95, 123, 123, 180, 180, 180, 205, 215, 230, 66, 52, 65, 97, 150, 150, 245, 175, 66, 91, 113, 264, 175, 335, 109]}, {\"x\": [21.0, 21.0, 22.8, 21.4, 18.7, 18.1, 14.3, 24.4, 22.8, 19.2, 17.8, 16.4, 17.3, 15.2, 10.4, 10.4, 14.7, 32.4, 30.4, 33.9, 21.5, 15.5, 15.2, 13.3, 19.2, 27.3, 26.0, 30.4, 15.8, 19.7, 15.0, 21.4], \"line\": {\"dash\": \"solid\", \"color\": \"rgba(128, 128, 128, 1.0)\", \"width\": 1.3}, \"type\": \"scatter\", \"mode\": \"markers\", \"marker\": {\"size\": 2, \"symbol\": \"dot\"}, \"yaxis\": \"y7\", \"xaxis\": \"x7\", \"name\": \"cyl\", \"text\": \"\", \"y\": [6, 6, 4, 6, 8, 6, 8, 4, 4, 6, 6, 8, 8, 8, 8, 8, 8, 4, 4, 4, 4, 8, 8, 8, 8, 4, 4, 4, 8, 6, 8, 4]}, {\"x\": [110, 110, 93, 110, 175, 105, 245, 62, 95, 123, 123, 180, 180, 180, 205, 215, 230, 66, 52, 65, 97, 150, 150, 245, 175, 66, 91, 113, 264, 175, 335, 109], \"line\": {\"dash\": \"solid\", \"color\": \"rgba(128, 128, 128, 1.0)\", \"width\": 1.3}, \"type\": \"scatter\", \"mode\": \"markers\", \"marker\": {\"size\": 2, \"symbol\": \"dot\"}, \"yaxis\": \"y8\", \"xaxis\": \"x8\", \"name\": \"cyl\", \"text\": \"\", \"y\": [6, 6, 4, 6, 8, 6, 8, 4, 4, 6, 6, 8, 8, 8, 8, 8, 8, 4, 4, 4, 4, 8, 8, 8, 8, 4, 4, 4, 8, 6, 8, 4]}, {\"x\": [6, 6, 4, 6, 8, 6, 8, 4, 4, 6, 6, 8, 8, 8, 8, 8, 8, 4, 4, 4, 4, 8, 8, 8, 8, 4, 4, 4, 8, 6, 8, 4], \"opacity\": 0.8, \"type\": \"histogram\", \"marker\": {\"line\": {\"color\": \"#D9D9D9\", \"width\": 1.3}, \"color\": \"rgba(132, 118, 202, 1.0)\"}, \"yaxis\": \"y9\", \"xaxis\": \"x9\", \"name\": \"cyl\", \"nbinsx\": 10, \"orientation\": \"v\", \"histnorm\": \"\", \"histfunc\": \"count\"}], {\"xaxis2\": {\"domain\": [0.35, 0.6499999999999999], \"anchor\": \"y2\"}, \"xaxis4\": {\"domain\": [0.0, 0.3], \"anchor\": \"y4\"}, \"xaxis1\": {\"domain\": [0.0, 0.3], \"gridcolor\": \"#F6F6F6\", \"anchor\": \"y1\", \"title\": \"\", \"tickfont\": {\"color\": \"#666666\"}, \"titlefont\": {\"color\": \"#666666\"}, \"showgrid\": false, \"zerolinecolor\": \"#F6F6F6\"}, \"xaxis9\": {\"domain\": [0.7, 1.0], \"anchor\": \"y9\"}, \"yaxis2\": {\"domain\": [0.7133333333333334, 1.0], \"anchor\": \"x2\"}, \"yaxis3\": {\"domain\": [0.7133333333333334, 1.0], \"anchor\": \"x3\"}, \"xaxis5\": {\"domain\": [0.35, 0.6499999999999999], \"anchor\": \"y5\"}, \"xaxis3\": {\"domain\": [0.7, 1.0], \"anchor\": \"y3\"}, \"legend\": {\"font\": {\"color\": \"#666666\"}, \"bgcolor\": \"#FFFFFF\"}, \"bargap\": 0.02, \"yaxis1\": {\"domain\": [0.7133333333333334, 1.0], \"gridcolor\": \"#F6F6F6\", \"anchor\": \"x1\", \"title\": \"\", \"tickfont\": {\"color\": \"#666666\"}, \"titlefont\": {\"color\": \"#666666\"}, \"showgrid\": false, \"zerolinecolor\": \"#F6F6F6\"}, \"xaxis7\": {\"domain\": [0.0, 0.3], \"anchor\": \"y7\"}, \"titlefont\": {\"color\": \"#151516\"}, \"yaxis4\": {\"domain\": [0.3566666666666667, 0.6433333333333333], \"anchor\": \"x4\"}, \"xaxis6\": {\"domain\": [0.7, 1.0], \"anchor\": \"y6\"}, \"paper_bgcolor\": \"#FFFFFF\", \"yaxis8\": {\"domain\": [0.0, 0.2866666666666667], \"anchor\": \"x8\"}, \"xaxis8\": {\"domain\": [0.35, 0.6499999999999999], \"anchor\": \"y8\"}, \"yaxis5\": {\"domain\": [0.3566666666666667, 0.6433333333333333], \"anchor\": \"x5\"}, \"yaxis6\": {\"domain\": [0.3566666666666667, 0.6433333333333333], \"anchor\": \"x6\"}, \"showlegend\": false, \"yaxis9\": {\"domain\": [0.0, 0.2866666666666667], \"anchor\": \"x9\"}, \"yaxis7\": {\"domain\": [0.0, 0.2866666666666667], \"anchor\": \"x7\"}, \"plot_bgcolor\": \"#E5E5E5\"}, {\"linkText\": \"Export to plot.ly\", \"showLink\": true}).then(function() {\n",
       "    $(\".d1692832-80ed-437e-a4a8-228d71a6f24b.loading\").remove();\n",
       "})</script>"
      ],
      "text/plain": [
       "<IPython.core.display.HTML object>"
      ]
     },
     "metadata": {},
     "output_type": "display_data"
    }
   ],
   "source": [
    "df = mtcars[['mpg', 'hp', 'cyl']]\n",
    "df.scatter_matrix(filename='pandas_plot/scatter_matrix')"
   ]
  },
  {
   "cell_type": "markdown",
   "metadata": {},
   "source": [
    "## `Spread()` and `Ratio()` charts"
   ]
  },
  {
   "cell_type": "code",
   "execution_count": 48,
   "metadata": {
    "collapsed": false
   },
   "outputs": [
    {
     "data": {
      "text/html": [
       "<script type=\"text/javascript\">window.PLOTLYENV=window.PLOTLYENV || {};window.PLOTLYENV.BASE_URL=\"https://plot.ly\";</script>"
      ],
      "text/plain": [
       "<IPython.core.display.HTML object>"
      ]
     },
     "metadata": {},
     "output_type": "display_data"
    },
    {
     "data": {
      "text/html": [
       "<div class=\"737b6b29-b92d-4758-9881-d12c09e3c15d loading\" style=\"color: rgb(50,50,50);\">Drawing...</div><div id=\"737b6b29-b92d-4758-9881-d12c09e3c15d\" style=\"height: 525; width: 100%;\" class=\"plotly-graph-div\"></div><script type=\"text/javascript\">Plotly.plot(\"737b6b29-b92d-4758-9881-d12c09e3c15d\", [{\"x\": [\"Mazda RX4\", \"Mazda RX4 Wag\", \"Datsun 710\", \"Hornet 4 Drive\", \"Hornet Sportabout\", \"Valiant\", \"Duster 360\", \"Merc 240D\", \"Merc 230\", \"Merc 280\", \"Merc 280C\", \"Merc 450SE\", \"Merc 450SL\", \"Merc 450SLC\", \"Cadillac Fleetwood\", \"Lincoln Continental\", \"Chrysler Imperial\", \"Fiat 128\", \"Honda Civic\", \"Toyota Corolla\", \"Toyota Corona\", \"Dodge Challenger\", \"AMC Javelin\", \"Camaro Z28\", \"Pontiac Firebird\", \"Fiat X1-9\", \"Porsche 914-2\", \"Lotus Europa\", \"Ford Pantera L\", \"Ferrari Dino\", \"Maserati Bora\", \"Volvo 142E\"], \"line\": {\"dash\": \"solid\", \"color\": \"rgba(226, 74, 51, 1.0)\", \"width\": 1.3}, \"type\": \"scatter\", \"mode\": \"lines\", \"name\": \"mpg\", \"text\": \"\", \"y\": [21.0, 21.0, 22.8, 21.4, 18.7, 18.1, 14.3, 24.4, 22.8, 19.2, 17.8, 16.4, 17.3, 15.2, 10.4, 10.4, 14.7, 32.4, 30.4, 33.9, 21.5, 15.5, 15.2, 13.3, 19.2, 27.3, 26.0, 30.4, 15.8, 19.7, 15.0, 21.4]}, {\"x\": [\"Mazda RX4\", \"Mazda RX4 Wag\", \"Datsun 710\", \"Hornet 4 Drive\", \"Hornet Sportabout\", \"Valiant\", \"Duster 360\", \"Merc 240D\", \"Merc 230\", \"Merc 280\", \"Merc 280C\", \"Merc 450SE\", \"Merc 450SL\", \"Merc 450SLC\", \"Cadillac Fleetwood\", \"Lincoln Continental\", \"Chrysler Imperial\", \"Fiat 128\", \"Honda Civic\", \"Toyota Corolla\", \"Toyota Corona\", \"Dodge Challenger\", \"AMC Javelin\", \"Camaro Z28\", \"Pontiac Firebird\", \"Fiat X1-9\", \"Porsche 914-2\", \"Lotus Europa\", \"Ford Pantera L\", \"Ferrari Dino\", \"Maserati Bora\", \"Volvo 142E\"], \"line\": {\"dash\": \"solid\", \"color\": \"rgba(62, 111, 176, 1.0)\", \"width\": 1.3}, \"type\": \"scatter\", \"mode\": \"lines\", \"name\": \"hp\", \"text\": \"\", \"y\": [110, 110, 93, 110, 175, 105, 245, 62, 95, 123, 123, 180, 180, 180, 205, 215, 230, 66, 52, 65, 97, 150, 150, 245, 175, 66, 91, 113, 264, 175, 335, 109]}, {\"x\": [\"Mazda RX4\", \"Mazda RX4 Wag\", \"Datsun 710\", \"Hornet 4 Drive\", \"Hornet Sportabout\", \"Valiant\", \"Duster 360\", \"Merc 240D\", \"Merc 230\", \"Merc 280\", \"Merc 280C\", \"Merc 450SE\", \"Merc 450SL\", \"Merc 450SLC\", \"Cadillac Fleetwood\", \"Lincoln Continental\", \"Chrysler Imperial\", \"Fiat 128\", \"Honda Civic\", \"Toyota Corolla\", \"Toyota Corona\", \"Dodge Challenger\", \"AMC Javelin\", \"Camaro Z28\", \"Pontiac Firebird\", \"Fiat X1-9\", \"Porsche 914-2\", \"Lotus Europa\", \"Ford Pantera L\", \"Ferrari Dino\", \"Maserati Bora\", \"Volvo 142E\"], \"line\": {\"dash\": \"solid\", \"color\": \"rgba(0, 128, 0, 1.0)\", \"width\": 1}, \"type\": \"scatter\", \"fill\": \"tozeroy\", \"mode\": \"lines\", \"yaxis\": \"y2\", \"xaxis\": \"x2\", \"name\": \"Ratio\", \"connectgaps\": false, \"y\": [0.19090909090909092, 0.19090909090909092, 0.24516129032258066, 0.19454545454545452, 0.10685714285714286, 0.17238095238095238, 0.058367346938775516, 0.39354838709677414, 0.24000000000000002, 0.15609756097560976, 0.14471544715447154, 0.0911111111111111, 0.09611111111111112, 0.08444444444444445, 0.050731707317073174, 0.04837209302325582, 0.06391304347826086, 0.4909090909090909, 0.5846153846153845, 0.5215384615384615, 0.22164948453608246, 0.10333333333333333, 0.10133333333333333, 0.05428571428571429, 0.10971428571428571, 0.41363636363636364, 0.2857142857142857, 0.26902654867256637, 0.05984848484848485, 0.11257142857142857, 0.04477611940298507, 0.19633027522935778], \"showlegend\": false}], {\"xaxis2\": {\"gridcolor\": \"#F6F6F6\", \"anchor\": \"y2\", \"showticklabels\": false, \"title\": \"\", \"tickfont\": {\"color\": \"#666666\"}, \"titlefont\": {\"color\": \"#666666\"}, \"showgrid\": true, \"zerolinecolor\": \"#F6F6F6\"}, \"hovermode\": \"x\", \"yaxis1\": {\"domain\": [0.3, 1], \"gridcolor\": \"#F6F6F6\", \"title\": \"\", \"tickfont\": {\"color\": \"#666666\"}, \"titlefont\": {\"color\": \"#666666\"}, \"showgrid\": true, \"zerolinecolor\": \"#F6F6F6\"}, \"yaxis2\": {\"domain\": [0, 0.25], \"gridcolor\": \"#F6F6F6\", \"title\": \"Ratio\", \"tickfont\": {\"color\": \"#666666\"}, \"titlefont\": {\"color\": \"#666666\"}, \"showgrid\": true, \"zerolinecolor\": \"#F6F6F6\"}, \"paper_bgcolor\": \"#FFFFFF\", \"xaxis1\": {\"gridcolor\": \"#F6F6F6\", \"title\": \"\", \"tickfont\": {\"color\": \"#666666\"}, \"titlefont\": {\"color\": \"#666666\"}, \"showgrid\": true, \"zerolinecolor\": \"#F6F6F6\"}, \"legend\": {\"font\": {\"color\": \"#666666\"}, \"bgcolor\": \"#FFFFFF\"}, \"titlefont\": {\"color\": \"#151516\"}, \"plot_bgcolor\": \"#E5E5E5\"}, {\"linkText\": \"Export to plot.ly\", \"showLink\": true}).then(function() {\n",
       "    $(\".737b6b29-b92d-4758-9881-d12c09e3c15d.loading\").remove();\n",
       "})</script>"
      ],
      "text/plain": [
       "<IPython.core.display.HTML object>"
      ]
     },
     "metadata": {},
     "output_type": "display_data"
    }
   ],
   "source": [
    "mtcars[['mpg', 'hp']].iplot(kind='ratio', filename='pandas_plot/ratio_plot')"
   ]
  },
  {
   "cell_type": "code",
   "execution_count": 50,
   "metadata": {
    "collapsed": false
   },
   "outputs": [
    {
     "data": {
      "text/html": [
       "<script type=\"text/javascript\">window.PLOTLYENV=window.PLOTLYENV || {};window.PLOTLYENV.BASE_URL=\"https://plot.ly\";</script>"
      ],
      "text/plain": [
       "<IPython.core.display.HTML object>"
      ]
     },
     "metadata": {},
     "output_type": "display_data"
    },
    {
     "data": {
      "text/html": [
       "<div class=\"a4a9cae1-91c1-4144-aed6-51df6ef34dfa loading\" style=\"color: rgb(50,50,50);\">Drawing...</div><div id=\"a4a9cae1-91c1-4144-aed6-51df6ef34dfa\" style=\"height: 525; width: 100%;\" class=\"plotly-graph-div\"></div><script type=\"text/javascript\">Plotly.plot(\"a4a9cae1-91c1-4144-aed6-51df6ef34dfa\", [{\"x\": [\"Mazda RX4\", \"Mazda RX4 Wag\", \"Datsun 710\", \"Hornet 4 Drive\", \"Hornet Sportabout\", \"Valiant\", \"Duster 360\", \"Merc 240D\", \"Merc 230\", \"Merc 280\", \"Merc 280C\", \"Merc 450SE\", \"Merc 450SL\", \"Merc 450SLC\", \"Cadillac Fleetwood\", \"Lincoln Continental\", \"Chrysler Imperial\", \"Fiat 128\", \"Honda Civic\", \"Toyota Corolla\", \"Toyota Corona\", \"Dodge Challenger\", \"AMC Javelin\", \"Camaro Z28\", \"Pontiac Firebird\", \"Fiat X1-9\", \"Porsche 914-2\", \"Lotus Europa\", \"Ford Pantera L\", \"Ferrari Dino\", \"Maserati Bora\", \"Volvo 142E\"], \"line\": {\"dash\": \"solid\", \"color\": \"rgba(226, 74, 51, 1.0)\", \"width\": 1.3}, \"type\": \"scatter\", \"mode\": \"lines\", \"name\": \"cyl\", \"text\": \"\", \"y\": [6, 6, 4, 6, 8, 6, 8, 4, 4, 6, 6, 8, 8, 8, 8, 8, 8, 4, 4, 4, 4, 8, 8, 8, 8, 4, 4, 4, 8, 6, 8, 4]}, {\"x\": [\"Mazda RX4\", \"Mazda RX4 Wag\", \"Datsun 710\", \"Hornet 4 Drive\", \"Hornet Sportabout\", \"Valiant\", \"Duster 360\", \"Merc 240D\", \"Merc 230\", \"Merc 280\", \"Merc 280C\", \"Merc 450SE\", \"Merc 450SL\", \"Merc 450SLC\", \"Cadillac Fleetwood\", \"Lincoln Continental\", \"Chrysler Imperial\", \"Fiat 128\", \"Honda Civic\", \"Toyota Corolla\", \"Toyota Corona\", \"Dodge Challenger\", \"AMC Javelin\", \"Camaro Z28\", \"Pontiac Firebird\", \"Fiat X1-9\", \"Porsche 914-2\", \"Lotus Europa\", \"Ford Pantera L\", \"Ferrari Dino\", \"Maserati Bora\", \"Volvo 142E\"], \"line\": {\"dash\": \"solid\", \"color\": \"rgba(62, 111, 176, 1.0)\", \"width\": 1.3}, \"type\": \"scatter\", \"mode\": \"lines\", \"name\": \"mpg\", \"text\": \"\", \"y\": [21.0, 21.0, 22.8, 21.4, 18.7, 18.1, 14.3, 24.4, 22.8, 19.2, 17.8, 16.4, 17.3, 15.2, 10.4, 10.4, 14.7, 32.4, 30.4, 33.9, 21.5, 15.5, 15.2, 13.3, 19.2, 27.3, 26.0, 30.4, 15.8, 19.7, 15.0, 21.4]}, {\"x\": [\"Mazda RX4\", \"Mazda RX4 Wag\", \"Datsun 710\", \"Hornet 4 Drive\", \"Hornet Sportabout\", \"Valiant\", \"Duster 360\", \"Merc 240D\", \"Merc 230\", \"Merc 280\", \"Merc 280C\", \"Merc 450SE\", \"Merc 450SL\", \"Merc 450SLC\", \"Cadillac Fleetwood\", \"Lincoln Continental\", \"Chrysler Imperial\", \"Fiat 128\", \"Honda Civic\", \"Toyota Corolla\", \"Toyota Corona\", \"Dodge Challenger\", \"AMC Javelin\", \"Camaro Z28\", \"Pontiac Firebird\", \"Fiat X1-9\", \"Porsche 914-2\", \"Lotus Europa\", \"Ford Pantera L\", \"Ferrari Dino\", \"Maserati Bora\", \"Volvo 142E\"], \"line\": {\"dash\": \"solid\", \"color\": \"red\", \"width\": 0.5}, \"type\": \"scatter\", \"fill\": \"tozeroy\", \"mode\": \"lines\", \"yaxis\": \"y2\", \"xaxis\": \"x2\", \"name\": \"Spread\", \"connectgaps\": false, \"y\": [-15.0, -15.0, -18.8, -15.399999999999999, -10.7, -12.100000000000001, -6.300000000000001, -20.4, -18.8, -13.2, -11.8, -8.399999999999999, -9.3, -7.199999999999999, -2.4000000000000004, -2.4000000000000004, -6.699999999999999, -28.4, -26.4, -29.9, -17.5, -7.5, -7.199999999999999, -5.300000000000001, -11.2, -23.3, -22.0, -26.4, -7.800000000000001, -13.7, -7.0, -17.4], \"showlegend\": false}, {\"x\": [\"Mazda RX4\", \"Mazda RX4 Wag\", \"Datsun 710\", \"Hornet 4 Drive\", \"Hornet Sportabout\", \"Valiant\", \"Duster 360\", \"Merc 240D\", \"Merc 230\", \"Merc 280\", \"Merc 280C\", \"Merc 450SE\", \"Merc 450SL\", \"Merc 450SLC\", \"Cadillac Fleetwood\", \"Lincoln Continental\", \"Chrysler Imperial\", \"Fiat 128\", \"Honda Civic\", \"Toyota Corolla\", \"Toyota Corona\", \"Dodge Challenger\", \"AMC Javelin\", \"Camaro Z28\", \"Pontiac Firebird\", \"Fiat X1-9\", \"Porsche 914-2\", \"Lotus Europa\", \"Ford Pantera L\", \"Ferrari Dino\", \"Maserati Bora\", \"Volvo 142E\"], \"line\": {\"dash\": \"solid\", \"color\": \"green\", \"width\": 0.5}, \"type\": \"scatter\", \"fill\": \"tozeroy\", \"mode\": \"lines\", \"yaxis\": \"y2\", \"xaxis\": \"x2\", \"name\": \"Spread\", \"connectgaps\": false, \"y\": [\"\", \"\", \"\", \"\", \"\", \"\", \"\", \"\", \"\", \"\", \"\", \"\", \"\", \"\", \"\", \"\", \"\", \"\", \"\", \"\", \"\", \"\", \"\", \"\", \"\", \"\", \"\", \"\", \"\", \"\", \"\", \"\"], \"showlegend\": false}], {\"xaxis2\": {\"gridcolor\": \"#F6F6F6\", \"anchor\": \"y2\", \"showticklabels\": false, \"title\": \"\", \"tickfont\": {\"color\": \"#666666\"}, \"titlefont\": {\"color\": \"#666666\"}, \"showgrid\": true, \"zerolinecolor\": \"#F6F6F6\"}, \"hovermode\": \"x\", \"yaxis1\": {\"domain\": [0.3, 1], \"gridcolor\": \"#F6F6F6\", \"title\": \"\", \"tickfont\": {\"color\": \"#666666\"}, \"titlefont\": {\"color\": \"#666666\"}, \"showgrid\": true, \"zerolinecolor\": \"#F6F6F6\"}, \"yaxis2\": {\"domain\": [0, 0.25], \"gridcolor\": \"#F6F6F6\", \"title\": \"Spread\", \"tickfont\": {\"color\": \"#666666\"}, \"titlefont\": {\"color\": \"#666666\"}, \"showgrid\": true, \"zerolinecolor\": \"#F6F6F6\"}, \"paper_bgcolor\": \"#FFFFFF\", \"xaxis1\": {\"gridcolor\": \"#F6F6F6\", \"title\": \"\", \"tickfont\": {\"color\": \"#666666\"}, \"titlefont\": {\"color\": \"#666666\"}, \"showgrid\": true, \"zerolinecolor\": \"#F6F6F6\"}, \"legend\": {\"font\": {\"color\": \"#666666\"}, \"bgcolor\": \"#FFFFFF\"}, \"titlefont\": {\"color\": \"#151516\"}, \"plot_bgcolor\": \"#E5E5E5\"}, {\"linkText\": \"Export to plot.ly\", \"showLink\": true}).then(function() {\n",
       "    $(\".a4a9cae1-91c1-4144-aed6-51df6ef34dfa.loading\").remove();\n",
       "})</script>"
      ],
      "text/plain": [
       "<IPython.core.display.HTML object>"
      ]
     },
     "metadata": {},
     "output_type": "display_data"
    }
   ],
   "source": [
    "mtcars[['cyl', 'mpg']].iplot(kind='spread', filename='pandas_plot/spread_plot')"
   ]
  },
  {
   "cell_type": "markdown",
   "metadata": {},
   "source": [
    "## `Boxplot()`"
   ]
  },
  {
   "cell_type": "code",
   "execution_count": 51,
   "metadata": {
    "collapsed": false
   },
   "outputs": [
    {
     "data": {
      "text/html": [
       "<script type=\"text/javascript\">window.PLOTLYENV=window.PLOTLYENV || {};window.PLOTLYENV.BASE_URL=\"https://plot.ly\";</script>"
      ],
      "text/plain": [
       "<IPython.core.display.HTML object>"
      ]
     },
     "metadata": {},
     "output_type": "display_data"
    },
    {
     "data": {
      "text/html": [
       "<div class=\"7f9db743-4924-480d-9349-4fc4fb093b53 loading\" style=\"color: rgb(50,50,50);\">Drawing...</div><div id=\"7f9db743-4924-480d-9349-4fc4fb093b53\" style=\"height: 525; width: 100%;\" class=\"plotly-graph-div\"></div><script type=\"text/javascript\">Plotly.plot(\"7f9db743-4924-480d-9349-4fc4fb093b53\", [{\"line\": {\"width\": 1.3}, \"type\": \"box\", \"marker\": {\"color\": \"rgba(226, 74, 51, 1.0)\"}, \"boxpoints\": false, \"name\": \"drat\", \"y\": [3.9, 3.9, 3.85, 3.08, 3.15, 2.76, 3.21, 3.69, 3.92, 3.92, 3.92, 3.07, 3.07, 3.07, 2.93, 3.0, 3.23, 4.08, 4.93, 4.22, 3.7, 2.76, 3.15, 3.73, 3.08, 4.08, 4.43, 3.77, 4.22, 3.62, 3.54, 4.11]}, {\"line\": {\"width\": 1.3}, \"type\": \"box\", \"marker\": {\"color\": \"rgba(62, 111, 176, 1.0)\"}, \"boxpoints\": false, \"name\": \"wt\", \"y\": [2.62, 2.875, 2.32, 3.215, 3.44, 3.46, 3.57, 3.19, 3.15, 3.44, 3.44, 4.07, 3.73, 3.78, 5.25, 5.4239999999999995, 5.345, 2.2, 1.615, 1.835, 2.465, 3.52, 3.435, 3.84, 3.845, 1.935, 2.14, 1.5130000000000001, 3.17, 2.77, 3.57, 2.78]}, {\"line\": {\"width\": 1.3}, \"type\": \"box\", \"marker\": {\"color\": \"rgba(132, 118, 202, 1.0)\"}, \"boxpoints\": false, \"name\": \"gear\", \"y\": [4, 4, 4, 3, 3, 3, 3, 4, 4, 4, 4, 3, 3, 3, 3, 3, 3, 4, 4, 4, 3, 3, 3, 3, 3, 4, 5, 5, 5, 5, 5, 4]}, {\"line\": {\"width\": 1.3}, \"type\": \"box\", \"marker\": {\"color\": \"rgba(101, 101, 101, 1.0)\"}, \"boxpoints\": false, \"name\": \"carb\", \"y\": [4, 4, 1, 1, 2, 1, 4, 2, 2, 4, 4, 3, 3, 3, 4, 4, 4, 1, 2, 1, 1, 2, 2, 4, 2, 1, 2, 2, 4, 6, 8, 2]}, {\"line\": {\"width\": 1.3}, \"type\": \"box\", \"marker\": {\"color\": \"rgba(251, 193, 94, 1.0)\"}, \"boxpoints\": false, \"name\": \"am\", \"y\": [1, 1, 1, 0, 0, 0, 0, 0, 0, 0, 0, 0, 0, 0, 0, 0, 0, 1, 1, 1, 0, 0, 0, 0, 0, 1, 1, 1, 1, 1, 1, 1]}], {\"plot_bgcolor\": \"#E5E5E5\", \"paper_bgcolor\": \"#FFFFFF\", \"xaxis1\": {\"gridcolor\": \"#F6F6F6\", \"title\": \"\", \"tickfont\": {\"color\": \"#666666\"}, \"titlefont\": {\"color\": \"#666666\"}, \"showgrid\": true, \"zerolinecolor\": \"#F6F6F6\"}, \"legend\": {\"font\": {\"color\": \"#666666\"}, \"bgcolor\": \"#FFFFFF\"}, \"titlefont\": {\"color\": \"#151516\"}, \"yaxis1\": {\"gridcolor\": \"#F6F6F6\", \"title\": \"\", \"tickfont\": {\"color\": \"#666666\"}, \"titlefont\": {\"color\": \"#666666\"}, \"showgrid\": true, \"zerolinecolor\": \"#F6F6F6\"}}, {\"linkText\": \"Export to plot.ly\", \"showLink\": true}).then(function() {\n",
       "    $(\".7f9db743-4924-480d-9349-4fc4fb093b53.loading\").remove();\n",
       "})</script>"
      ],
      "text/plain": [
       "<IPython.core.display.HTML object>"
      ]
     },
     "metadata": {},
     "output_type": "display_data"
    }
   ],
   "source": [
    "mtcars[['drat','wt', 'gear', 'carb', 'am']].iplot(kind='box', filename='pandas_plot/box_plot')"
   ]
  },
  {
   "cell_type": "markdown",
   "metadata": {},
   "source": [
    "## `Bubble Plot`"
   ]
  },
  {
   "cell_type": "code",
   "execution_count": 52,
   "metadata": {
    "collapsed": false
   },
   "outputs": [
    {
     "data": {
      "text/html": [
       "<script type=\"text/javascript\">window.PLOTLYENV=window.PLOTLYENV || {};window.PLOTLYENV.BASE_URL=\"https://plot.ly\";</script>"
      ],
      "text/plain": [
       "<IPython.core.display.HTML object>"
      ]
     },
     "metadata": {},
     "output_type": "display_data"
    },
    {
     "data": {
      "text/html": [
       "<div class=\"edd686b4-f18a-41cf-a7b4-6abbd925ec66 loading\" style=\"color: rgb(50,50,50);\">Drawing...</div><div id=\"edd686b4-f18a-41cf-a7b4-6abbd925ec66\" style=\"height: 525; width: 100%;\" class=\"plotly-graph-div\"></div><script type=\"text/javascript\">Plotly.plot(\"edd686b4-f18a-41cf-a7b4-6abbd925ec66\", [{\"x\": [21.0, 21.0, 22.8, 21.4, 18.7, 18.1, 14.3, 24.4, 22.8, 19.2, 17.8, 16.4, 17.3, 15.2, 10.4, 10.4, 14.7, 32.4, 30.4, 33.9, 21.5, 15.5, 15.2, 13.3, 19.2, 27.3, 26.0, 30.4, 15.8, 19.7, 15.0, 21.4], \"type\": \"scatter\", \"mode\": \"markers\", \"marker\": {\"line\": {\"width\": 1.3}, \"size\": [62, 62, 12, 62, 112, 62, 112, 12, 12, 62, 62, 112, 112, 112, 112, 112, 112, 12, 12, 12, 12, 112, 112, 112, 112, 12, 12, 12, 112, 62, 112, 12], \"color\": [\"rgb(226, 74, 51)\", \"rgb(226, 74, 51)\", \"rgb(226, 74, 51)\", \"rgb(226, 74, 51)\", \"rgb(226, 74, 51)\", \"rgb(226, 74, 51)\", \"rgb(226, 74, 51)\", \"rgb(226, 74, 51)\", \"rgb(226, 74, 51)\", \"rgb(226, 74, 51)\", \"rgb(226, 74, 51)\", \"rgb(226, 74, 51)\", \"rgb(226, 74, 51)\", \"rgb(226, 74, 51)\", \"rgb(226, 74, 51)\", \"rgb(226, 74, 51)\", \"rgb(226, 74, 51)\", \"rgb(226, 74, 51)\", \"rgb(226, 74, 51)\", \"rgb(226, 74, 51)\", \"rgb(226, 74, 51)\", \"rgb(226, 74, 51)\", \"rgb(226, 74, 51)\", \"rgb(226, 74, 51)\", \"rgb(226, 74, 51)\", \"rgb(226, 74, 51)\", \"rgb(226, 74, 51)\", \"rgb(226, 74, 51)\", \"rgb(226, 74, 51)\", \"rgb(226, 74, 51)\", \"rgb(226, 74, 51)\", \"rgb(226, 74, 51)\"], \"symbol\": \"dot\"}, \"text\": \"\", \"y\": [110, 110, 93, 110, 175, 105, 245, 62, 95, 123, 123, 180, 180, 180, 205, 215, 230, 66, 52, 65, 97, 150, 150, 245, 175, 66, 91, 113, 264, 175, 335, 109]}], {\"plot_bgcolor\": \"#E5E5E5\", \"paper_bgcolor\": \"#FFFFFF\", \"xaxis1\": {\"gridcolor\": \"#F6F6F6\", \"title\": \"MPG\", \"tickfont\": {\"color\": \"#666666\"}, \"titlefont\": {\"color\": \"#666666\"}, \"showgrid\": true, \"zerolinecolor\": \"#F6F6F6\"}, \"legend\": {\"font\": {\"color\": \"#666666\"}, \"bgcolor\": \"#FFFFFF\"}, \"titlefont\": {\"color\": \"#151516\"}, \"yaxis1\": {\"gridcolor\": \"#F6F6F6\", \"title\": \"Horsepower\", \"tickfont\": {\"color\": \"#666666\"}, \"titlefont\": {\"color\": \"#666666\"}, \"showgrid\": true, \"zerolinecolor\": \"#F6F6F6\"}}, {\"linkText\": \"Export to plot.ly\", \"showLink\": true}).then(function() {\n",
       "    $(\".edd686b4-f18a-41cf-a7b4-6abbd925ec66.loading\").remove();\n",
       "})</script>"
      ],
      "text/plain": [
       "<IPython.core.display.HTML object>"
      ]
     },
     "metadata": {},
     "output_type": "display_data"
    }
   ],
   "source": [
    "mtcars.iplot(kind='bubble', x='mpg', y='hp', size='cyl', xTitle='MPG', yTitle='Horsepower', filename='pandas_plot/bubble')"
   ]
  },
  {
   "cell_type": "markdown",
   "metadata": {},
   "source": [
    "## `Subplots`"
   ]
  },
  {
   "cell_type": "code",
   "execution_count": 28,
   "metadata": {
    "collapsed": false
   },
   "outputs": [
    {
     "data": {
      "text/html": [
       "<script type=\"text/javascript\">window.PLOTLYENV=window.PLOTLYENV || {};window.PLOTLYENV.BASE_URL=\"https://plot.ly\";</script>"
      ],
      "text/plain": [
       "<IPython.core.display.HTML object>"
      ]
     },
     "metadata": {},
     "output_type": "display_data"
    },
    {
     "data": {
      "text/html": [
       "<div class=\"e3b65c6a-7703-46c9-8f53-495d4ff0f62a loading\" style=\"color: rgb(50,50,50);\">Drawing...</div><div id=\"e3b65c6a-7703-46c9-8f53-495d4ff0f62a\" style=\"height: 525; width: 100%;\" class=\"plotly-graph-div\"></div><script type=\"text/javascript\">Plotly.plot(\"e3b65c6a-7703-46c9-8f53-495d4ff0f62a\", [{\"x\": [\"Mazda RX4\", \"Mazda RX4 Wag\", \"Datsun 710\", \"Hornet 4 Drive\", \"Hornet Sportabout\", \"Valiant\", \"Duster 360\", \"Merc 240D\", \"Merc 230\", \"Merc 280\", \"Merc 280C\", \"Merc 450SE\", \"Merc 450SL\", \"Merc 450SLC\", \"Cadillac Fleetwood\", \"Lincoln Continental\", \"Chrysler Imperial\", \"Fiat 128\", \"Honda Civic\", \"Toyota Corolla\", \"Toyota Corona\", \"Dodge Challenger\", \"AMC Javelin\", \"Camaro Z28\", \"Pontiac Firebird\", \"Fiat X1-9\", \"Porsche 914-2\", \"Lotus Europa\", \"Ford Pantera L\", \"Ferrari Dino\", \"Maserati Bora\", \"Volvo 142E\"], \"line\": {\"dash\": \"solid\", \"color\": \"rgba(226, 74, 51, 1.0)\", \"width\": 1.3}, \"type\": \"scatter\", \"fill\": \"tozeroy\", \"mode\": \"lines\", \"yaxis\": \"y1\", \"xaxis\": \"x1\", \"name\": \"drat\", \"text\": \"\", \"y\": [3.9, 3.9, 3.85, 3.08, 3.15, 2.76, 3.21, 3.69, 3.92, 3.92, 3.92, 3.07, 3.07, 3.07, 2.93, 3.0, 3.23, 4.08, 4.93, 4.22, 3.7, 2.76, 3.15, 3.73, 3.08, 4.08, 4.43, 3.77, 4.22, 3.62, 3.54, 4.11], \"fillcolor\": \"rgba(226, 74, 51, 0.3)\"}, {\"x\": [\"Mazda RX4\", \"Mazda RX4 Wag\", \"Datsun 710\", \"Hornet 4 Drive\", \"Hornet Sportabout\", \"Valiant\", \"Duster 360\", \"Merc 240D\", \"Merc 230\", \"Merc 280\", \"Merc 280C\", \"Merc 450SE\", \"Merc 450SL\", \"Merc 450SLC\", \"Cadillac Fleetwood\", \"Lincoln Continental\", \"Chrysler Imperial\", \"Fiat 128\", \"Honda Civic\", \"Toyota Corolla\", \"Toyota Corona\", \"Dodge Challenger\", \"AMC Javelin\", \"Camaro Z28\", \"Pontiac Firebird\", \"Fiat X1-9\", \"Porsche 914-2\", \"Lotus Europa\", \"Ford Pantera L\", \"Ferrari Dino\", \"Maserati Bora\", \"Volvo 142E\"], \"line\": {\"dash\": \"solid\", \"color\": \"rgba(62, 111, 176, 1.0)\", \"width\": 1.3}, \"type\": \"scatter\", \"fill\": \"tozeroy\", \"mode\": \"lines\", \"yaxis\": \"y2\", \"xaxis\": \"x1\", \"name\": \"gear\", \"text\": \"\", \"y\": [4, 4, 4, 3, 3, 3, 3, 4, 4, 4, 4, 3, 3, 3, 3, 3, 3, 4, 4, 4, 3, 3, 3, 3, 3, 4, 5, 5, 5, 5, 5, 4], \"fillcolor\": \"rgba(62, 111, 176, 0.3)\"}, {\"x\": [\"Mazda RX4\", \"Mazda RX4 Wag\", \"Datsun 710\", \"Hornet 4 Drive\", \"Hornet Sportabout\", \"Valiant\", \"Duster 360\", \"Merc 240D\", \"Merc 230\", \"Merc 280\", \"Merc 280C\", \"Merc 450SE\", \"Merc 450SL\", \"Merc 450SLC\", \"Cadillac Fleetwood\", \"Lincoln Continental\", \"Chrysler Imperial\", \"Fiat 128\", \"Honda Civic\", \"Toyota Corolla\", \"Toyota Corona\", \"Dodge Challenger\", \"AMC Javelin\", \"Camaro Z28\", \"Pontiac Firebird\", \"Fiat X1-9\", \"Porsche 914-2\", \"Lotus Europa\", \"Ford Pantera L\", \"Ferrari Dino\", \"Maserati Bora\", \"Volvo 142E\"], \"line\": {\"dash\": \"solid\", \"color\": \"rgba(132, 118, 202, 1.0)\", \"width\": 1.3}, \"type\": \"scatter\", \"fill\": \"tozeroy\", \"mode\": \"lines\", \"yaxis\": \"y3\", \"xaxis\": \"x1\", \"name\": \"carb\", \"text\": \"\", \"y\": [4, 4, 1, 1, 2, 1, 4, 2, 2, 4, 4, 3, 3, 3, 4, 4, 4, 1, 2, 1, 1, 2, 2, 4, 2, 1, 2, 2, 4, 6, 8, 2], \"fillcolor\": \"rgba(132, 118, 202, 0.3)\"}], {\"paper_bgcolor\": \"#FFFFFF\", \"yaxis2\": {\"domain\": [0.35, 0.6499999999999999], \"position\": 0.0, \"anchor\": \"free\"}, \"yaxis3\": {\"domain\": [0.0, 0.3], \"anchor\": \"x1\"}, \"titlefont\": {\"color\": \"#151516\"}, \"xaxis1\": {\"domain\": [0.0, 1.0], \"gridcolor\": \"#F6F6F6\", \"anchor\": \"y3\", \"title\": \"\", \"tickfont\": {\"color\": \"#666666\"}, \"titlefont\": {\"color\": \"#666666\"}, \"showgrid\": true, \"zerolinecolor\": \"#F6F6F6\"}, \"legend\": {\"font\": {\"color\": \"#666666\"}, \"bgcolor\": \"#FFFFFF\"}, \"plot_bgcolor\": \"#E5E5E5\", \"yaxis1\": {\"domain\": [0.7, 1.0], \"gridcolor\": \"#F6F6F6\", \"anchor\": \"free\", \"title\": \"\", \"tickfont\": {\"color\": \"#666666\"}, \"titlefont\": {\"color\": \"#666666\"}, \"position\": 0.0, \"showgrid\": true, \"zerolinecolor\": \"#F6F6F6\"}}, {\"linkText\": \"Export to plot.ly\", \"showLink\": true}).then(function() {\n",
       "    $(\".e3b65c6a-7703-46c9-8f53-495d4ff0f62a.loading\").remove();\n",
       "})</script>"
      ],
      "text/plain": [
       "<IPython.core.display.HTML object>"
      ]
     },
     "metadata": {},
     "output_type": "display_data"
    }
   ],
   "source": [
    "df = mtcars[['drat', 'gear', 'carb']]\n",
    "df.iplot(subplots=True, shape=(3,1), shared_xaxes=True, fill=True, vertical_spacing=.05, filename='pandas_plot/subplot')"
   ]
  },
  {
   "cell_type": "markdown",
   "metadata": {
    "collapsed": true
   },
   "source": [
    "### Area Plot"
   ]
  },
  {
   "cell_type": "code",
   "execution_count": 33,
   "metadata": {
    "collapsed": false
   },
   "outputs": [
    {
     "data": {
      "text/html": [
       "<script type=\"text/javascript\">window.PLOTLYENV=window.PLOTLYENV || {};window.PLOTLYENV.BASE_URL=\"https://plot.ly\";</script>"
      ],
      "text/plain": [
       "<IPython.core.display.HTML object>"
      ]
     },
     "metadata": {},
     "output_type": "display_data"
    },
    {
     "data": {
      "text/html": [
       "<div class=\"bfe56026-1877-4150-943f-8d9ad246dae9 loading\" style=\"color: rgb(50,50,50);\">Drawing...</div><div id=\"bfe56026-1877-4150-943f-8d9ad246dae9\" style=\"height: 525; width: 100%;\" class=\"plotly-graph-div\"></div><script type=\"text/javascript\">Plotly.plot(\"bfe56026-1877-4150-943f-8d9ad246dae9\", [{\"x\": [0, 1, 2, 3, 4, 5, 6, 7, 8, 9], \"line\": {\"dash\": \"solid\", \"color\": \"rgba(226, 74, 51, 1.0)\", \"width\": 1.3}, \"type\": \"scatter\", \"fill\": \"tozeroy\", \"mode\": \"lines\", \"yaxis\": \"y1\", \"xaxis\": \"x1\", \"name\": \"a\", \"text\": \"\", \"y\": [0.8991121632911186, 0.7747073912990342, 0.19115770986455394, 0.9203554555969848, 0.7051305029423446, 0.03324794708246648, 0.6981055049665538, 0.7877373231299905, 0.1919199510697176, 0.47600358251523156], \"fillcolor\": \"rgba(226, 74, 51, 0.3)\"}, {\"x\": [0, 1, 2, 3, 4, 5, 6, 7, 8, 9], \"line\": {\"dash\": \"solid\", \"color\": \"rgba(62, 111, 176, 1.0)\", \"width\": 1.3}, \"type\": \"scatter\", \"fill\": \"tozeroy\", \"mode\": \"lines\", \"yaxis\": \"y1\", \"xaxis\": \"x2\", \"name\": \"b\", \"text\": \"\", \"y\": [0.999755415752695, 0.1975002059577261, 0.4852496994811286, 0.47320930583298204, 0.8565519425063584, 0.5974831946439068, 0.832762179383794, 0.39826450339716657, 0.8077522530410006, 0.8901613533507222], \"fillcolor\": \"rgba(62, 111, 176, 0.3)\"}, {\"x\": [0, 1, 2, 3, 4, 5, 6, 7, 8, 9], \"line\": {\"dash\": \"solid\", \"color\": \"rgba(132, 118, 202, 1.0)\", \"width\": 1.3}, \"type\": \"scatter\", \"fill\": \"tozeroy\", \"mode\": \"lines\", \"yaxis\": \"y1\", \"xaxis\": \"x3\", \"name\": \"c\", \"text\": \"\", \"y\": [0.8418139193281612, 0.3041895622873848, 0.7294016054712644, 0.22560023504625004, 0.8122383250719494, 0.9770475159485341, 0.5862499955075158, 0.7583039142810618, 0.2276733327551126, 0.5136838384879879], \"fillcolor\": \"rgba(132, 118, 202, 0.3)\"}], {\"xaxis2\": {\"domain\": [0.35555555555555557, 0.6444444444444445], \"position\": 0.0, \"anchor\": \"free\"}, \"xaxis1\": {\"domain\": [0.0, 0.2888888888888889], \"gridcolor\": \"#F6F6F6\", \"anchor\": \"y1\", \"title\": \"\", \"tickfont\": {\"color\": \"#666666\"}, \"titlefont\": {\"color\": \"#666666\"}, \"showgrid\": true, \"zerolinecolor\": \"#F6F6F6\"}, \"paper_bgcolor\": \"#FFFFFF\", \"titlefont\": {\"color\": \"#151516\"}, \"xaxis3\": {\"domain\": [0.7111111111111111, 1.0], \"position\": 0.0, \"anchor\": \"free\"}, \"legend\": {\"font\": {\"color\": \"#666666\"}, \"bgcolor\": \"#FFFFFF\"}, \"plot_bgcolor\": \"#E5E5E5\", \"yaxis1\": {\"domain\": [0.0, 1.0], \"gridcolor\": \"#F6F6F6\", \"anchor\": \"x1\", \"title\": \"\", \"tickfont\": {\"color\": \"#666666\"}, \"titlefont\": {\"color\": \"#666666\"}, \"showgrid\": true, \"zerolinecolor\": \"#F6F6F6\"}}, {\"linkText\": \"Export to plot.ly\", \"showLink\": true}).then(function() {\n",
       "    $(\".bfe56026-1877-4150-943f-8d9ad246dae9.loading\").remove();\n",
       "})</script>"
      ],
      "text/plain": [
       "<IPython.core.display.HTML object>"
      ]
     },
     "metadata": {},
     "output_type": "display_data"
    }
   ],
   "source": [
    "df = pd.DataFrame(np.random.rand(10, 3), columns=['a', 'b', 'c'])\n",
    "df.iplot(kind='scatter', subplots=True, shape=(1,3), fill=True, shared_yaxes=True, filename='pandas_plot/areaplot')"
   ]
  },
  {
   "cell_type": "code",
   "execution_count": null,
   "metadata": {
    "collapsed": true
   },
   "outputs": [],
   "source": []
  },
  {
   "cell_type": "markdown",
   "metadata": {},
   "source": [
    "## `Bubble Charts` in `Pandas`"
   ]
  },
  {
   "cell_type": "code",
   "execution_count": 35,
   "metadata": {
    "collapsed": false
   },
   "outputs": [
    {
     "name": "stdout",
     "output_type": "stream",
     "text": [
      "        country  year       pop continent  lifeExp    gdpPercap\n",
      "10  Afghanistan  2002  25268405      Asia   42.129   726.734055\n",
      "22      Albania  2002   3508512    Europe   75.651  4604.211737\n",
      "34      Algeria  2002  31287142    Africa   70.994  5288.040382\n"
     ]
    },
    {
     "data": {
      "text/html": [
       "<script type=\"text/javascript\">window.PLOTLYENV=window.PLOTLYENV || {};window.PLOTLYENV.BASE_URL=\"https://plot.ly\";</script>"
      ],
      "text/plain": [
       "<IPython.core.display.HTML object>"
      ]
     },
     "metadata": {},
     "output_type": "display_data"
    },
    {
     "data": {
      "text/html": [
       "<div class=\"859ad986-82fe-4aa5-a1a9-9d7ed2a423c2 loading\" style=\"color: rgb(50,50,50);\">Drawing...</div><div id=\"859ad986-82fe-4aa5-a1a9-9d7ed2a423c2\" style=\"height: 525; width: 100%;\" class=\"plotly-graph-div\"></div><script type=\"text/javascript\">Plotly.plot(\"859ad986-82fe-4aa5-a1a9-9d7ed2a423c2\", [{\"x\": [726.7340548, 4604.211737, 5288.040382, 2773.287312, 8797.640716, 30687.75473, 32417.607689999997, 23403.559269999998, 1136.3904300000002, 30485.88375, 1372.877931, 3413.26269, 6018.975239, 11003.60508, 8131.212843000001, 7696.777725, 1037.645221, 446.4035126, 896.2260152999999, 1934.0114489999999, 33328.96507, 738.6906068, 1156.18186, 10778.78385, 3119.280896, 5755.259962, 1075.811558, 241.16587650000002, 3484.06197, 7723.447195000001, 1648.800823, 11628.38895, 6340.646683, 17596.210219999997, 32166.500060000002, 1908.2608670000002, 4563.808154, 5773.0445119999995, 4754.604414, 5351.568665999999, 7703.4959, 765.3500015, 530.0535319, 28204.59057, 28926.032339999998, 12521.71392, 660.5855997, 30035.80198, 1111.9845779999998, 22514.2548, 4858.347495, 945.5835837000001, 575.7047176, 1270.364932, 3099.72866, 30209.015160000003, 14843.93556, 31163.201960000002, 1746.769454, 2873.91287, 9240.761975, 4390.717312, 34077.04939, 21905.59514, 27968.098169999997, 6994.774861, 28604.5919, 3844.9171939999997, 1287.514732, 1646.758151, 19233.98818, 35110.10566, 9313.93883, 1275.184575, 531.4823679, 9534.677467, 894.6370822, 665.4231186000001, 10206.97794, 951.4097517999999, 1579.0195429999999, 9021.815894, 10742.44053, 2140.7393230000002, 6557.194282, 3258.495584, 633.6179466, 611.0, 4072.3247509999997, 1057.206311, 33724.75778, 23189.80135, 2474.548819, 601.0745012, 1615.2863949999999, 44683.97525, 19774.83687, 2092.712441, 7356.031934000001, 3783.674243, 5909.020073, 2650.921068, 12002.23908, 19970.90787, 18855.606180000002, 6316.1652, 7885.360081, 785.6537647999999, 1353.09239, 19014.54118, 1519.635262, 7236.075251, 699.4897129999999, 36023.1054, 13638.778369999998, 20660.01936, 882.0818218000001, 7710.946444, 24835.47166, 3015.3788329999998, 1993.398314, 4128.116943, 29341.630930000003, 34480.95771, 4090.9253310000004, 23235.42329, 899.0742111, 5913.187529, 886.2205765000001, 11460.60023, 5722.895654999999, 6508.085718, 927.7210018, 29478.99919, 39097.09955, 7727.002004000001, 8605.047831, 1764.456677, 4515.487575, 2234.820827, 1071.6139380000002, 672.0386227000001], \"type\": \"scatter\", \"mode\": \"markers\", \"marker\": {\"line\": {\"width\": 1.3}, \"size\": [13, 12, 14, 12, 14, 13, 12, 12, 22, 12, 12, 12, 12, 12, 26, 12, 12, 12, 12, 13, 14, 12, 12, 13, 112, 15, 12, 16, 12, 12, 13, 12, 12, 12, 12, 12, 12, 12, 17, 12, 12, 12, 17, 12, 16, 12, 12, 18, 13, 12, 12, 12, 12, 12, 12, 12, 12, 12, 92, 28, 17, 13, 12, 12, 16, 12, 21, 12, 14, 13, 15, 12, 12, 12, 12, 12, 13, 12, 13, 12, 12, 12, 19, 12, 12, 14, 13, 15, 12, 14, 13, 12, 12, 12, 21, 12, 12, 23, 12, 12, 14, 18, 15, 12, 12, 12, 13, 12, 12, 13, 12, 12, 12, 12, 12, 12, 12, 15, 15, 13, 14, 12, 12, 12, 13, 13, 14, 16, 12, 12, 12, 17, 13, 16, 34, 12, 13, 18, 12, 13, 12, 12], \"color\": [\"rgb(255, 153, 51)\", \"rgb(255, 153, 51)\", \"rgb(255, 153, 51)\", \"rgb(255, 153, 51)\", \"rgb(255, 153, 51)\", \"rgb(255, 153, 51)\", \"rgb(255, 153, 51)\", \"rgb(255, 153, 51)\", \"rgb(255, 153, 51)\", \"rgb(255, 153, 51)\", \"rgb(255, 153, 51)\", \"rgb(255, 153, 51)\", \"rgb(255, 153, 51)\", \"rgb(255, 153, 51)\", \"rgb(255, 153, 51)\", \"rgb(255, 153, 51)\", \"rgb(255, 153, 51)\", \"rgb(255, 153, 51)\", \"rgb(255, 153, 51)\", \"rgb(255, 153, 51)\", \"rgb(255, 153, 51)\", \"rgb(255, 153, 51)\", \"rgb(255, 153, 51)\", \"rgb(255, 153, 51)\", \"rgb(255, 153, 51)\", \"rgb(255, 153, 51)\", \"rgb(255, 153, 51)\", \"rgb(255, 153, 51)\", \"rgb(255, 153, 51)\", \"rgb(255, 153, 51)\", \"rgb(255, 153, 51)\", \"rgb(255, 153, 51)\", \"rgb(255, 153, 51)\", \"rgb(255, 153, 51)\", \"rgb(255, 153, 51)\", \"rgb(255, 153, 51)\", \"rgb(255, 153, 51)\", \"rgb(255, 153, 51)\", \"rgb(255, 153, 51)\", \"rgb(255, 153, 51)\", \"rgb(255, 153, 51)\", \"rgb(255, 153, 51)\", \"rgb(255, 153, 51)\", \"rgb(255, 153, 51)\", \"rgb(255, 153, 51)\", \"rgb(255, 153, 51)\", \"rgb(255, 153, 51)\", \"rgb(255, 153, 51)\", \"rgb(255, 153, 51)\", \"rgb(255, 153, 51)\", \"rgb(255, 153, 51)\", \"rgb(255, 153, 51)\", \"rgb(255, 153, 51)\", \"rgb(255, 153, 51)\", \"rgb(255, 153, 51)\", \"rgb(255, 153, 51)\", \"rgb(255, 153, 51)\", \"rgb(255, 153, 51)\", \"rgb(255, 153, 51)\", \"rgb(255, 153, 51)\", \"rgb(255, 153, 51)\", \"rgb(255, 153, 51)\", \"rgb(255, 153, 51)\", \"rgb(255, 153, 51)\", \"rgb(255, 153, 51)\", \"rgb(255, 153, 51)\", \"rgb(255, 153, 51)\", \"rgb(255, 153, 51)\", \"rgb(255, 153, 51)\", \"rgb(255, 153, 51)\", \"rgb(255, 153, 51)\", \"rgb(255, 153, 51)\", \"rgb(255, 153, 51)\", \"rgb(255, 153, 51)\", \"rgb(255, 153, 51)\", \"rgb(255, 153, 51)\", \"rgb(255, 153, 51)\", \"rgb(255, 153, 51)\", \"rgb(255, 153, 51)\", \"rgb(255, 153, 51)\", \"rgb(255, 153, 51)\", \"rgb(255, 153, 51)\", \"rgb(255, 153, 51)\", \"rgb(255, 153, 51)\", \"rgb(255, 153, 51)\", \"rgb(255, 153, 51)\", \"rgb(255, 153, 51)\", \"rgb(255, 153, 51)\", \"rgb(255, 153, 51)\", \"rgb(255, 153, 51)\", \"rgb(255, 153, 51)\", \"rgb(255, 153, 51)\", \"rgb(255, 153, 51)\", \"rgb(255, 153, 51)\", \"rgb(255, 153, 51)\", \"rgb(255, 153, 51)\", \"rgb(255, 153, 51)\", \"rgb(255, 153, 51)\", \"rgb(255, 153, 51)\", \"rgb(255, 153, 51)\", \"rgb(255, 153, 51)\", \"rgb(255, 153, 51)\", \"rgb(255, 153, 51)\", \"rgb(255, 153, 51)\", \"rgb(255, 153, 51)\", \"rgb(255, 153, 51)\", \"rgb(255, 153, 51)\", \"rgb(255, 153, 51)\", \"rgb(255, 153, 51)\", \"rgb(255, 153, 51)\", \"rgb(255, 153, 51)\", \"rgb(255, 153, 51)\", \"rgb(255, 153, 51)\", \"rgb(255, 153, 51)\", \"rgb(255, 153, 51)\", \"rgb(255, 153, 51)\", \"rgb(255, 153, 51)\", \"rgb(255, 153, 51)\", \"rgb(255, 153, 51)\", \"rgb(255, 153, 51)\", \"rgb(255, 153, 51)\", \"rgb(255, 153, 51)\", \"rgb(255, 153, 51)\", \"rgb(255, 153, 51)\", \"rgb(255, 153, 51)\", \"rgb(255, 153, 51)\", \"rgb(255, 153, 51)\", \"rgb(255, 153, 51)\", \"rgb(255, 153, 51)\", \"rgb(255, 153, 51)\", \"rgb(255, 153, 51)\", \"rgb(255, 153, 51)\", \"rgb(255, 153, 51)\", \"rgb(255, 153, 51)\", \"rgb(255, 153, 51)\", \"rgb(255, 153, 51)\", \"rgb(255, 153, 51)\", \"rgb(255, 153, 51)\", \"rgb(255, 153, 51)\", \"rgb(255, 153, 51)\", \"rgb(255, 153, 51)\", \"rgb(255, 153, 51)\"], \"symbol\": \"dot\"}, \"text\": [\"Afghanistan\", \"Albania\", \"Algeria\", \"Angola\", \"Argentina\", \"Australia\", \"Austria\", \"Bahrain\", \"Bangladesh\", \"Belgium\", \"Benin\", \"Bolivia\", \"Bosnia and Herzegovina\", \"Botswana\", \"Brazil\", \"Bulgaria\", \"Burkina Faso\", \"Burundi\", \"Cambodia\", \"Cameroon\", \"Canada\", \"Central African Republic\", \"Chad\", \"Chile\", \"China\", \"Colombia\", \"Comoros\", \"Congo, Dem. Rep.\", \"Congo, Rep.\", \"Costa Rica\", \"Cote d'Ivoire\", \"Croatia\", \"Cuba\", \"Czech Republic\", \"Denmark\", \"Djibouti\", \"Dominican Republic\", \"Ecuador\", \"Egypt\", \"El Salvador\", \"Equatorial Guinea\", \"Eritrea\", \"Ethiopia\", \"Finland\", \"France\", \"Gabon\", \"Gambia\", \"Germany\", \"Ghana\", \"Greece\", \"Guatemala\", \"Guinea\", \"Guinea-Bissau\", \"Haiti\", \"Honduras\", \"Hong Kong, China\", \"Hungary\", \"Iceland\", \"India\", \"Indonesia\", \"Iran\", \"Iraq\", \"Ireland\", \"Israel\", \"Italy\", \"Jamaica\", \"Japan\", \"Jordan\", \"Kenya\", \"Korea, Dem. Rep.\", \"Korea, Rep.\", \"Kuwait\", \"Lebanon\", \"Lesotho\", \"Liberia\", \"Libya\", \"Madagascar\", \"Malawi\", \"Malaysia\", \"Mali\", \"Mauritania\", \"Mauritius\", \"Mexico\", \"Mongolia\", \"Montenegro\", \"Morocco\", \"Mozambique\", \"Myanmar\", \"Namibia\", \"Nepal\", \"Netherlands\", \"New Zealand\", \"Nicaragua\", \"Niger\", \"Nigeria\", \"Norway\", \"Oman\", \"Pakistan\", \"Panama\", \"Paraguay\", \"Peru\", \"Philippines\", \"Poland\", \"Portugal\", \"Puerto Rico\", \"Reunion\", \"Romania\", \"Rwanda\", \"Sao Tome and Principe\", \"Saudi Arabia\", \"Senegal\", \"Serbia\", \"Sierra Leone\", \"Singapore\", \"Slovak Republic\", \"Slovenia\", \"Somalia\", \"South Africa\", \"Spain\", \"Sri Lanka\", \"Sudan\", \"Swaziland\", \"Sweden\", \"Switzerland\", \"Syria\", \"Taiwan\", \"Tanzania\", \"Thailand\", \"Togo\", \"Trinidad and Tobago\", \"Tunisia\", \"Turkey\", \"Uganda\", \"United Kingdom\", \"United States\", \"Uruguay\", \"Venezuela\", \"Vietnam\", \"West Bank and Gaza\", \"Yemen, Rep.\", \"Zambia\", \"Zimbabwe\"], \"y\": [42.129, 75.65100000000001, 70.994, 41.003, 74.34, 80.37, 78.98, 74.795, 62.013000000000005, 78.32, 54.406000000000006, 63.883, 74.09, 46.63399999999999, 71.006, 72.14, 50.65, 47.36, 56.751999999999995, 49.856, 79.77, 43.308, 50.525, 77.86, 72.028, 71.682, 62.974, 44.966, 52.97, 78.123, 46.832, 74.876, 77.158, 75.51, 77.18, 53.373000000000005, 70.847, 74.173, 69.806, 70.734, 49.348, 55.24, 50.725, 78.37, 79.59, 56.761, 58.041000000000004, 78.67, 58.453, 78.256, 68.97800000000001, 53.676, 45.504, 58.137, 68.565, 81.495, 72.59, 80.5, 62.879, 68.58800000000001, 69.45100000000001, 57.04600000000001, 77.783, 79.696, 80.24, 72.047, 82.0, 71.263, 50.992, 66.66199999999999, 77.045, 76.904, 71.028, 44.593, 43.753, 72.737, 57.286, 45.00899999999999, 73.044, 51.818000000000005, 62.247, 71.954, 74.902, 65.033, 73.98100000000001, 69.615, 44.026, 59.908, 51.479, 61.34, 78.53, 79.11, 70.836, 54.496, 46.608000000000004, 79.05, 74.193, 63.61, 74.712, 70.755, 69.906, 70.303, 74.67, 77.29, 77.778, 75.744, 71.322, 43.413000000000004, 64.337, 71.626, 61.6, 73.21300000000001, 41.012, 78.77, 73.8, 76.66, 45.93600000000001, 53.365, 79.78, 70.815, 56.369, 43.869, 80.04, 80.62, 73.053, 76.99, 49.651, 68.564, 57.56100000000001, 68.976, 73.042, 70.845, 47.813, 78.471, 77.31, 75.307, 72.766, 73.017, 72.37, 60.308, 39.193000000000005, 39.989000000000004]}], {\"plot_bgcolor\": \"#F5F6F9\", \"paper_bgcolor\": \"#F5F6F9\", \"xaxis1\": {\"gridcolor\": \"#E1E5ED\", \"title\": \"GDP per Capita\", \"tickfont\": {\"color\": \"#4D5663\"}, \"titlefont\": {\"color\": \"#4D5663\"}, \"showgrid\": true, \"zerolinecolor\": \"#E1E5ED\"}, \"legend\": {\"font\": {\"color\": \"#4D5663\"}, \"bgcolor\": \"#F5F6F9\"}, \"titlefont\": {\"color\": \"#4D5663\"}, \"yaxis1\": {\"gridcolor\": \"#E1E5ED\", \"title\": \"Life Expectancy\", \"tickfont\": {\"color\": \"#4D5663\"}, \"titlefont\": {\"color\": \"#4D5663\"}, \"showgrid\": true, \"zerolinecolor\": \"#E1E5ED\"}}, {\"linkText\": \"Export to plot.ly\", \"showLink\": true}).then(function() {\n",
       "    $(\".859ad986-82fe-4aa5-a1a9-9d7ed2a423c2.loading\").remove();\n",
       "})</script>"
      ],
      "text/plain": [
       "<IPython.core.display.HTML object>"
      ]
     },
     "metadata": {},
     "output_type": "display_data"
    }
   ],
   "source": [
    "data_url = 'http://www.stat.ubc.ca/~jenny/notOcto/STAT545A/examples/gapminder/data/gapminderDataFiveYear.txt'\n",
    "dframe = pd.read_csv(data_url, sep='\\t')\n",
    "\n",
    "cf.set_config_file(offline=False, world_readable=True, theme='pearl')\n",
    "\n",
    "\n",
    "def GapMinderByYear(yr):\n",
    "    \"\"\" Returns frame based on year \"\"\"\n",
    "    if yr not in dframe.year.values:\n",
    "        print(\"No Data for given year. Use {} to {}\".format(dframe.year.values.min(), dframe.year.values.max()))\n",
    "        return \n",
    "    else:\n",
    "        return dframe[dframe.year == yr]\n",
    "\n",
    "    \n",
    "    \n",
    "# Set year\n",
    "set_year = 2002\n",
    "gap_data = GapMinderByYear(set_year)\n",
    "print(gap_data.head(3))\n",
    "\n",
    "gap_data.iplot(kind='bubble', x='gdpPercap', y='lifeExp', size='pop', text='country',\n",
    "               xTitle='GDP per Capita', yTitle='Life Expectancy', filename='pandas_plot/new_bubble')\n",
    "\n"
   ]
  },
  {
   "cell_type": "code",
   "execution_count": null,
   "metadata": {
    "collapsed": true
   },
   "outputs": [],
   "source": []
  }
 ],
 "metadata": {
  "kernelspec": {
   "display_name": "Python 3",
   "language": "python",
   "name": "python3"
  },
  "language_info": {
   "codemirror_mode": {
    "name": "ipython",
    "version": 3
   },
   "file_extension": ".py",
   "mimetype": "text/x-python",
   "name": "python",
   "nbconvert_exporter": "python",
   "pygments_lexer": "ipython3",
   "version": "3.5.0"
  }
 },
 "nbformat": 4,
 "nbformat_minor": 0
}
