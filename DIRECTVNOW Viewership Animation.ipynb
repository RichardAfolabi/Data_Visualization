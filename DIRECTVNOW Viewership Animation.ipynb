{
 "cells": [
  {
   "cell_type": "markdown",
   "metadata": {},
   "source": [
    "#  `DIRECTVNOW` Viewership Animation"
   ]
  },
  {
   "cell_type": "code",
   "execution_count": 354,
   "metadata": {
    "collapsed": true
   },
   "outputs": [],
   "source": [
    "%matplotlib inline\n",
    "import numpy as np\n",
    "import pandas as pd\n",
    "\n",
    "from bokeh.embed import file_html\n",
    "from bokeh.io import output_notebook, show\n",
    "from bokeh.layouts import layout\n",
    "\n",
    "\n",
    "from bokeh.core.properties import field\n",
    "from bokeh.io import curdoc\n",
    "from bokeh.layouts import layout\n",
    "from bokeh.models import (ColumnDataSource, HoverTool, SingleIntervalTicker, Slider, Button, Label, CategoricalColorMapper)\n",
    "from bokeh.palettes import Spectral6\n",
    "from bokeh.plotting import figure\n",
    "\n",
    "from bokeh.models import (\n",
    "    ColumnDataSource, Plot, Circle, Range1d, LinearAxis, HoverTool, \n",
    "    Text, SingleIntervalTicker, Slider, CustomJS, Legend, LegendItem, CategoricalColorMapper)\n",
    "from bokeh.palettes import Spectral6\n",
    "\n",
    "\n",
    "pd.set_option('precision', 2)\n",
    "pd.set_option('notebook_repr_html', True)"
   ]
  },
  {
   "cell_type": "code",
   "execution_count": 140,
   "metadata": {
    "collapsed": false
   },
   "outputs": [
    {
     "name": "stdout",
     "output_type": "stream",
     "text": [
      "\n",
      "Shapes: (5525, 3)  pivot to =>>  (620, 13)\n"
     ]
    },
    {
     "data": {
      "text/html": [
       "<div>\n",
       "<table border=\"1\" class=\"dataframe\">\n",
       "  <thead>\n",
       "    <tr style=\"text-align: right;\">\n",
       "      <th>new_weeks</th>\n",
       "      <th>1</th>\n",
       "      <th>2</th>\n",
       "      <th>3</th>\n",
       "      <th>4</th>\n",
       "      <th>5</th>\n",
       "      <th>6</th>\n",
       "      <th>7</th>\n",
       "      <th>8</th>\n",
       "      <th>9</th>\n",
       "      <th>10</th>\n",
       "      <th>11</th>\n",
       "      <th>12</th>\n",
       "      <th>13</th>\n",
       "    </tr>\n",
       "    <tr>\n",
       "      <th>new_genre</th>\n",
       "      <th></th>\n",
       "      <th></th>\n",
       "      <th></th>\n",
       "      <th></th>\n",
       "      <th></th>\n",
       "      <th></th>\n",
       "      <th></th>\n",
       "      <th></th>\n",
       "      <th></th>\n",
       "      <th></th>\n",
       "      <th></th>\n",
       "      <th></th>\n",
       "      <th></th>\n",
       "    </tr>\n",
       "  </thead>\n",
       "  <tbody>\n",
       "    <tr>\n",
       "      <th>MYSTERY,THRILLER</th>\n",
       "      <td>NaN</td>\n",
       "      <td>NaN</td>\n",
       "      <td>1.36</td>\n",
       "      <td>1.15</td>\n",
       "      <td>1.27</td>\n",
       "      <td>1.0</td>\n",
       "      <td>1.1</td>\n",
       "      <td>1.09</td>\n",
       "      <td>1.08</td>\n",
       "      <td>1.29</td>\n",
       "      <td>1.15</td>\n",
       "      <td>1.11</td>\n",
       "      <td>1.04</td>\n",
       "    </tr>\n",
       "    <tr>\n",
       "      <th>COMEDY,SCIENCE FICTION,THRILLER</th>\n",
       "      <td>NaN</td>\n",
       "      <td>NaN</td>\n",
       "      <td>1.17</td>\n",
       "      <td>1.00</td>\n",
       "      <td>1.12</td>\n",
       "      <td>1.0</td>\n",
       "      <td>1.0</td>\n",
       "      <td>NaN</td>\n",
       "      <td>NaN</td>\n",
       "      <td>NaN</td>\n",
       "      <td>NaN</td>\n",
       "      <td>NaN</td>\n",
       "      <td>NaN</td>\n",
       "    </tr>\n",
       "  </tbody>\n",
       "</table>\n",
       "</div>"
      ],
      "text/plain": [
       "new_weeks                        1   2     3     4     5    6    7     8   \\\n",
       "new_genre                                                                   \n",
       "MYSTERY,THRILLER                NaN NaN  1.36  1.15  1.27  1.0  1.1  1.09   \n",
       "COMEDY,SCIENCE FICTION,THRILLER NaN NaN  1.17  1.00  1.12  1.0  1.0   NaN   \n",
       "\n",
       "new_weeks                          9     10    11    12    13  \n",
       "new_genre                                                      \n",
       "MYSTERY,THRILLER                 1.08  1.29  1.15  1.11  1.04  \n",
       "COMEDY,SCIENCE FICTION,THRILLER   NaN   NaN   NaN   NaN   NaN  "
      ]
     },
     "execution_count": 140,
     "metadata": {},
     "output_type": "execute_result"
    }
   ],
   "source": [
    "# Import the data and reshape by pivoting\n",
    "unique_devices = pd.read_excel('./data_csv/device_per_user_bygenre.xlsx')\n",
    "avg_uniq_dev_per_user_df = unique_devices.pivot(index='new_genre', columns='new_weeks', values='avg_uniq_dev_per_user')\n",
    "print('\\nShapes:', unique_devices.shape, ' pivot to =>> ', avg_uniq_dev_per_user.shape)\n",
    "# unique_devices.sample(2)\n",
    "avg_uniq_dev_per_user_df.sample(2)"
   ]
  },
  {
   "cell_type": "code",
   "execution_count": 146,
   "metadata": {
    "collapsed": false
   },
   "outputs": [
    {
     "data": {
      "text/html": [
       "<div>\n",
       "<table border=\"1\" class=\"dataframe\">\n",
       "  <thead>\n",
       "    <tr style=\"text-align: right;\">\n",
       "      <th>new_weeks</th>\n",
       "      <th>1</th>\n",
       "      <th>2</th>\n",
       "      <th>3</th>\n",
       "      <th>4</th>\n",
       "      <th>5</th>\n",
       "      <th>6</th>\n",
       "      <th>7</th>\n",
       "      <th>8</th>\n",
       "      <th>9</th>\n",
       "      <th>10</th>\n",
       "      <th>11</th>\n",
       "      <th>12</th>\n",
       "      <th>13</th>\n",
       "    </tr>\n",
       "    <tr>\n",
       "      <th>new_genre</th>\n",
       "      <th></th>\n",
       "      <th></th>\n",
       "      <th></th>\n",
       "      <th></th>\n",
       "      <th></th>\n",
       "      <th></th>\n",
       "      <th></th>\n",
       "      <th></th>\n",
       "      <th></th>\n",
       "      <th></th>\n",
       "      <th></th>\n",
       "      <th></th>\n",
       "      <th></th>\n",
       "    </tr>\n",
       "  </thead>\n",
       "  <tbody>\n",
       "    <tr>\n",
       "      <th>ACTION,DRAMA,SCIENCE FICTION</th>\n",
       "      <td>NaN</td>\n",
       "      <td>3.0</td>\n",
       "      <td>572.0</td>\n",
       "      <td>637.0</td>\n",
       "      <td>569.0</td>\n",
       "      <td>544.0</td>\n",
       "      <td>477.0</td>\n",
       "      <td>1303.0</td>\n",
       "      <td>990.0</td>\n",
       "      <td>659.0</td>\n",
       "      <td>552.0</td>\n",
       "      <td>163.0</td>\n",
       "      <td>5.0</td>\n",
       "    </tr>\n",
       "    <tr>\n",
       "      <th>COMEDY,COMEDY DRAMA,DRAMA</th>\n",
       "      <td>NaN</td>\n",
       "      <td>NaN</td>\n",
       "      <td>1.0</td>\n",
       "      <td>1.0</td>\n",
       "      <td>2.0</td>\n",
       "      <td>1.0</td>\n",
       "      <td>NaN</td>\n",
       "      <td>1.0</td>\n",
       "      <td>NaN</td>\n",
       "      <td>1.0</td>\n",
       "      <td>NaN</td>\n",
       "      <td>NaN</td>\n",
       "      <td>1.0</td>\n",
       "    </tr>\n",
       "  </tbody>\n",
       "</table>\n",
       "</div>"
      ],
      "text/plain": [
       "new_weeks                     1    2      3      4      5      6      7   \\\n",
       "new_genre                                                                  \n",
       "ACTION,DRAMA,SCIENCE FICTION NaN  3.0  572.0  637.0  569.0  544.0  477.0   \n",
       "COMEDY,COMEDY DRAMA,DRAMA    NaN  NaN    1.0    1.0    2.0    1.0    NaN   \n",
       "\n",
       "new_weeks                         8      9      10     11     12   13  \n",
       "new_genre                                                              \n",
       "ACTION,DRAMA,SCIENCE FICTION  1303.0  990.0  659.0  552.0  163.0  5.0  \n",
       "COMEDY,COMEDY DRAMA,DRAMA        1.0    NaN    1.0    NaN    NaN  1.0  "
      ]
     },
     "execution_count": 146,
     "metadata": {},
     "output_type": "execute_result"
    }
   ],
   "source": [
    "streamer_population = pd.read_excel('./data_csv/streamer_population_bygenre.xlsx')\n",
    "streamer_pop_df = streamer_population.pivot(index='new_genre', columns='new_weeks', values='unique_streamer_population')\n",
    "streamer_pop_df.sample(2)"
   ]
  },
  {
   "cell_type": "code",
   "execution_count": 142,
   "metadata": {
    "collapsed": false
   },
   "outputs": [
    {
     "data": {
      "text/html": [
       "<div>\n",
       "<table border=\"1\" class=\"dataframe\">\n",
       "  <thead>\n",
       "    <tr style=\"text-align: right;\">\n",
       "      <th>new_weeks</th>\n",
       "      <th>1</th>\n",
       "      <th>2</th>\n",
       "      <th>3</th>\n",
       "      <th>4</th>\n",
       "      <th>5</th>\n",
       "      <th>6</th>\n",
       "      <th>7</th>\n",
       "      <th>8</th>\n",
       "      <th>9</th>\n",
       "      <th>10</th>\n",
       "      <th>11</th>\n",
       "      <th>12</th>\n",
       "      <th>13</th>\n",
       "    </tr>\n",
       "    <tr>\n",
       "      <th>new_genre</th>\n",
       "      <th></th>\n",
       "      <th></th>\n",
       "      <th></th>\n",
       "      <th></th>\n",
       "      <th></th>\n",
       "      <th></th>\n",
       "      <th></th>\n",
       "      <th></th>\n",
       "      <th></th>\n",
       "      <th></th>\n",
       "      <th></th>\n",
       "      <th></th>\n",
       "      <th></th>\n",
       "    </tr>\n",
       "  </thead>\n",
       "  <tbody>\n",
       "    <tr>\n",
       "      <th>COMEDY,HORROR,MYSTERY</th>\n",
       "      <td>NaN</td>\n",
       "      <td>NaN</td>\n",
       "      <td>429.0</td>\n",
       "      <td>704.0</td>\n",
       "      <td>678.0</td>\n",
       "      <td>625.0</td>\n",
       "      <td>710.0</td>\n",
       "      <td>1724.0</td>\n",
       "      <td>1132.0</td>\n",
       "      <td>493.0</td>\n",
       "      <td>721.0</td>\n",
       "      <td>728.0</td>\n",
       "      <td>1062.0</td>\n",
       "    </tr>\n",
       "    <tr>\n",
       "      <th>COMEDY,SITCOM</th>\n",
       "      <td>NaN</td>\n",
       "      <td>NaN</td>\n",
       "      <td>272.0</td>\n",
       "      <td>505.0</td>\n",
       "      <td>560.0</td>\n",
       "      <td>651.0</td>\n",
       "      <td>347.0</td>\n",
       "      <td>950.0</td>\n",
       "      <td>880.0</td>\n",
       "      <td>167.0</td>\n",
       "      <td>561.0</td>\n",
       "      <td>184.0</td>\n",
       "      <td>289.0</td>\n",
       "    </tr>\n",
       "  </tbody>\n",
       "</table>\n",
       "</div>"
      ],
      "text/plain": [
       "new_weeks              1   2      3      4      5      6      7       8   \\\n",
       "new_genre                                                                  \n",
       "COMEDY,HORROR,MYSTERY NaN NaN  429.0  704.0  678.0  625.0  710.0  1724.0   \n",
       "COMEDY,SITCOM         NaN NaN  272.0  505.0  560.0  651.0  347.0   950.0   \n",
       "\n",
       "new_weeks                  9      10     11     12      13  \n",
       "new_genre                                                   \n",
       "COMEDY,HORROR,MYSTERY  1132.0  493.0  721.0  728.0  1062.0  \n",
       "COMEDY,SITCOM           880.0  167.0  561.0  184.0   289.0  "
      ]
     },
     "execution_count": 142,
     "metadata": {},
     "output_type": "execute_result"
    }
   ],
   "source": [
    "streams = pd.read_excel('./data_csv/streams_bygenre.xlsx')\n",
    "pv_stream_df = streams.pivot(index='new_genre', columns='new_weeks', values='streams')\n",
    "pv_stream_df.sample(2)"
   ]
  },
  {
   "cell_type": "code",
   "execution_count": 333,
   "metadata": {
    "collapsed": false
   },
   "outputs": [],
   "source": [
    "genre_index_df = pd.read_excel('./data_csv/genre_indexing.xlsx')\n",
    "# genre_index_df.sample(2)\n",
    "\n",
    "\n",
    "genre_index_df.video_type.replace(['(VOD) - VOD MOVIES', '(VOD) - LIVE EPISODES'], '(VOD) CONTENTS', inplace=True)\n",
    "genre_index_df = genre_index_df[['new_genre', 'video_type']].drop_duplicates().set_index('new_genre')\n",
    "# genre_index_df"
   ]
  },
  {
   "cell_type": "code",
   "execution_count": 334,
   "metadata": {
    "collapsed": false
   },
   "outputs": [],
   "source": [
    "# Turn population into bubble sizes. Use min_size and factor to tweak.\n",
    "scale_factor = 10;\n",
    "min_bubble_size = 0.5; \n",
    "strmr_population_size = np.sqrt(streamer_pop / np.pi) / scale_factor\n",
    "strmr_population_size_df = strmr_population_size.where(strmr_population_size >= min_bubble_size).fillna(min_bubble_size)"
   ]
  },
  {
   "cell_type": "code",
   "execution_count": 324,
   "metadata": {
    "collapsed": false
   },
   "outputs": [],
   "source": [
    "# Create list of app lifetime in weeks\n",
    "sources = {}\n",
    "genre_video_type = genre_index_df.video_type\n",
    "lifetime_wks = avg_uniq_dev_per_user_df.columns\n",
    "lifetime_wks.name = 'weeks'\n",
    "\n",
    "for wk in lifetime_wks:\n",
    "    avg_uniq_dev_per_user_wk = avg_uniq_dev_per_user_df[wk]\n",
    "    avg_uniq_dev_per_user_wk.name = 'Avg_Unique_Devices_per_User'\n",
    "    streams_wk = pv_stream_df[wk]\n",
    "    streams_wk.name = 'Stream_Counts'\n",
    "    streamer_population_wk = strmr_population_size_df[wk]\n",
    "    streamer_population_wk.name = 'Unique_Streamers_Population'\n",
    "    \n",
    "    new_df = pd.concat([avg_uniq_dev_per_user_wk, streams_wk, streamer_population_wk, genre_index_df], axis=1)\n",
    "    sources['_' + str(wk)] = ColumnDataSource(new_df)\n",
    "#     sources[wk] = ColumnDataSource(new_df)"
   ]
  },
  {
   "cell_type": "code",
   "execution_count": 321,
   "metadata": {
    "collapsed": false
   },
   "outputs": [
    {
     "data": {
      "text/html": [
       "<div>\n",
       "<table border=\"1\" class=\"dataframe\">\n",
       "  <thead>\n",
       "    <tr style=\"text-align: right;\">\n",
       "      <th></th>\n",
       "      <th>Avg_Unique_Devices_per_User</th>\n",
       "      <th>Stream_Counts</th>\n",
       "      <th>Unique_Streamers_Population</th>\n",
       "      <th>video_type</th>\n",
       "    </tr>\n",
       "  </thead>\n",
       "  <tbody>\n",
       "    <tr>\n",
       "      <th>NaN</th>\n",
       "      <td>1.14</td>\n",
       "      <td>7.92e+03</td>\n",
       "      <td>3.35</td>\n",
       "      <td>(VOD) CONTENTS</td>\n",
       "    </tr>\n",
       "    <tr>\n",
       "      <th>(LIVE) - GENERAL</th>\n",
       "      <td>1.94</td>\n",
       "      <td>1.83e+07</td>\n",
       "      <td>28.40</td>\n",
       "      <td>(LIVE) - GENERAL</td>\n",
       "    </tr>\n",
       "    <tr>\n",
       "      <th>(VOD) - NON-GENRED</th>\n",
       "      <td>1.17</td>\n",
       "      <td>2.97e+04</td>\n",
       "      <td>6.14</td>\n",
       "      <td>(VOD) CONTENTS</td>\n",
       "    </tr>\n",
       "    <tr>\n",
       "      <th>ACTION</th>\n",
       "      <td>1.13</td>\n",
       "      <td>2.57e+03</td>\n",
       "      <td>1.88</td>\n",
       "      <td>(VOD) CONTENTS</td>\n",
       "    </tr>\n",
       "    <tr>\n",
       "      <th>ACTION SPORTS,ADVENTURE,OUTDOORS,REALITY,TRAVEL</th>\n",
       "      <td>1.04</td>\n",
       "      <td>1.99e+02</td>\n",
       "      <td>0.50</td>\n",
       "      <td>(VOD) CONTENTS</td>\n",
       "    </tr>\n",
       "  </tbody>\n",
       "</table>\n",
       "</div>"
      ],
      "text/plain": [
       "                                                 Avg_Unique_Devices_per_User  \\\n",
       "NaN                                                                     1.14   \n",
       "(LIVE) - GENERAL                                                        1.94   \n",
       "(VOD) - NON-GENRED                                                      1.17   \n",
       "ACTION                                                                  1.13   \n",
       "ACTION SPORTS,ADVENTURE,OUTDOORS,REALITY,TRAVEL                         1.04   \n",
       "\n",
       "                                                 Stream_Counts  \\\n",
       "NaN                                                   7.92e+03   \n",
       "(LIVE) - GENERAL                                      1.83e+07   \n",
       "(VOD) - NON-GENRED                                    2.97e+04   \n",
       "ACTION                                                2.57e+03   \n",
       "ACTION SPORTS,ADVENTURE,OUTDOORS,REALITY,TRAVEL       1.99e+02   \n",
       "\n",
       "                                                 Unique_Streamers_Population  \\\n",
       "NaN                                                                     3.35   \n",
       "(LIVE) - GENERAL                                                       28.40   \n",
       "(VOD) - NON-GENRED                                                      6.14   \n",
       "ACTION                                                                  1.88   \n",
       "ACTION SPORTS,ADVENTURE,OUTDOORS,REALITY,TRAVEL                         0.50   \n",
       "\n",
       "                                                       video_type  \n",
       "NaN                                                (VOD) CONTENTS  \n",
       "(LIVE) - GENERAL                                 (LIVE) - GENERAL  \n",
       "(VOD) - NON-GENRED                                 (VOD) CONTENTS  \n",
       "ACTION                                             (VOD) CONTENTS  \n",
       "ACTION SPORTS,ADVENTURE,OUTDOORS,REALITY,TRAVEL    (VOD) CONTENTS  "
      ]
     },
     "execution_count": 321,
     "metadata": {},
     "output_type": "execute_result"
    }
   ],
   "source": [
    "new_df.head()"
   ]
  },
  {
   "cell_type": "code",
   "execution_count": 325,
   "metadata": {
    "collapsed": false
   },
   "outputs": [
    {
     "data": {
      "text/plain": [
       "{'_1': ColumnDataSource(id='0ead0d1d-6451-4b0e-8c0c-be8d8dbdc00a', ...),\n",
       " '_10': ColumnDataSource(id='a32e2a85-c956-47f4-8e05-0f768c238560', ...),\n",
       " '_11': ColumnDataSource(id='236ffbbe-23cf-4f80-8761-d6ca4d223a1d', ...),\n",
       " '_12': ColumnDataSource(id='57e65690-891f-49ce-be4d-541e78f7e7ed', ...),\n",
       " '_13': ColumnDataSource(id='26c68d83-933e-413e-bf9b-71b7453923aa', ...),\n",
       " '_2': ColumnDataSource(id='338d0915-d0f8-4514-891f-d41669f8258a', ...),\n",
       " '_3': ColumnDataSource(id='95e8ada4-e8dc-44e8-8b2b-5088cacbb7e3', ...),\n",
       " '_4': ColumnDataSource(id='02fb4d75-244d-4da4-9519-2b22899a7477', ...),\n",
       " '_5': ColumnDataSource(id='5519ba75-0d99-4f31-a2b3-cc2f7e972b8a', ...),\n",
       " '_6': ColumnDataSource(id='147ff62c-d74b-4a3c-bb37-1ba663dd9afc', ...),\n",
       " '_7': ColumnDataSource(id='02744535-e638-4038-b81f-ff4f7f29e158', ...),\n",
       " '_8': ColumnDataSource(id='e6f0d102-9eca-4928-8514-c7856e6df714', ...),\n",
       " '_9': ColumnDataSource(id='980cc512-17ec-4cfa-b056-7362146c0cdc', ...)}"
      ]
     },
     "execution_count": 325,
     "metadata": {},
     "output_type": "execute_result"
    }
   ],
   "source": [
    "sources"
   ]
  },
  {
   "cell_type": "markdown",
   "metadata": {},
   "source": [
    "#  Build the Plot"
   ]
  },
  {
   "cell_type": "code",
   "execution_count": 330,
   "metadata": {
    "collapsed": true
   },
   "outputs": [],
   "source": [
    "dictionary_of_sources = dict(zip([wk for wk in lifetime_wks], ['_%s' % wk for wk in lifetime_wks]))\n",
    "js_source_array = str(dictionary_of_sources).replace(\"'\", \"\")"
   ]
  },
  {
   "cell_type": "code",
   "execution_count": 343,
   "metadata": {
    "collapsed": false
   },
   "outputs": [],
   "source": [
    "# Set up the plot\n",
    "xdr = Range1d(1, 5)\n",
    "ydr = Range1d(pv_stream_df.min().min(), pv_stream_df.max().max())\n",
    "\n",
    "plot = Plot(\n",
    "    x_range=xdr,\n",
    "    y_range=ydr,\n",
    "    plot_width=1000,\n",
    "    plot_height=400,\n",
    "    outline_line_color=None,\n",
    "    toolbar_location=None, \n",
    "    min_border=20,\n",
    ")"
   ]
  },
  {
   "cell_type": "markdown",
   "metadata": {
    "collapsed": true
   },
   "source": [
    "# Build the Axies"
   ]
  },
  {
   "cell_type": "code",
   "execution_count": 344,
   "metadata": {
    "collapsed": true
   },
   "outputs": [],
   "source": [
    "AXIS_FORMATS = dict(\n",
    "    minor_tick_in=None,\n",
    "    minor_tick_out=None,\n",
    "    major_tick_in=None,\n",
    "    major_label_text_font_size=\"10pt\",\n",
    "    major_label_text_font_style=\"normal\",\n",
    "    axis_label_text_font_size=\"10pt\",\n",
    "\n",
    "    axis_line_color='#AAAAAA',\n",
    "    major_tick_line_color='#AAAAAA',\n",
    "    major_label_text_color='#666666',\n",
    "\n",
    "    major_tick_line_cap=\"round\",\n",
    "    axis_line_cap=\"round\",\n",
    "    axis_line_width=1,\n",
    "    major_tick_line_width=1,\n",
    ")\n",
    "\n",
    "xaxis = LinearAxis(ticker=SingleIntervalTicker(interval=1), axis_label=\"Children per woman (total fertility)\", **AXIS_FORMATS)\n",
    "yaxis = LinearAxis(ticker=SingleIntervalTicker(interval=20), axis_label=\"Life expectancy at birth (years)\", **AXIS_FORMATS)   \n",
    "plot.add_layout(xaxis, 'below')\n",
    "plot.add_layout(yaxis, 'left')"
   ]
  },
  {
   "cell_type": "markdown",
   "metadata": {},
   "source": [
    "#  Add the backgroun Week Text"
   ]
  },
  {
   "cell_type": "code",
   "execution_count": 345,
   "metadata": {
    "collapsed": false
   },
   "outputs": [
    {
     "data": {
      "text/html": [
       "<div style=\"display: table;\"><div style=\"display: table-row;\"><div style=\"display: table-cell;\"><b title=\"bokeh.models.renderers.GlyphRenderer\">GlyphRenderer</b>(</div><div style=\"display: table-cell;\">id&nbsp;=&nbsp;'73dd1a33-70fc-402b-9130-aa90d65fe9e7', <span id=\"9b036e94-88ae-4afd-a69f-053153e6b6fa\" style=\"cursor: pointer;\">&hellip;)</span></div></div><div class=\"4932b820-4928-4a7d-8f4c-0d852d33f395\" style=\"display: none;\"><div style=\"display: table-cell;\"></div><div style=\"display: table-cell;\">data_source&nbsp;=&nbsp;ColumnDataSource(id='2fb2db56-a7c1-4551-b2f8-f9ac749a28ad', ...),</div></div><div class=\"4932b820-4928-4a7d-8f4c-0d852d33f395\" style=\"display: none;\"><div style=\"display: table-cell;\"></div><div style=\"display: table-cell;\">glyph&nbsp;=&nbsp;Text(id='91f92f2d-c076-40c0-9921-d61be9ca1527', ...),</div></div><div class=\"4932b820-4928-4a7d-8f4c-0d852d33f395\" style=\"display: none;\"><div style=\"display: table-cell;\"></div><div style=\"display: table-cell;\">hover_glyph&nbsp;=&nbsp;None,</div></div><div class=\"4932b820-4928-4a7d-8f4c-0d852d33f395\" style=\"display: none;\"><div style=\"display: table-cell;\"></div><div style=\"display: table-cell;\">level&nbsp;=&nbsp;'glyph',</div></div><div class=\"4932b820-4928-4a7d-8f4c-0d852d33f395\" style=\"display: none;\"><div style=\"display: table-cell;\"></div><div style=\"display: table-cell;\">name&nbsp;=&nbsp;None,</div></div><div class=\"4932b820-4928-4a7d-8f4c-0d852d33f395\" style=\"display: none;\"><div style=\"display: table-cell;\"></div><div style=\"display: table-cell;\">nonselection_glyph&nbsp;=&nbsp;None,</div></div><div class=\"4932b820-4928-4a7d-8f4c-0d852d33f395\" style=\"display: none;\"><div style=\"display: table-cell;\"></div><div style=\"display: table-cell;\">selection_glyph&nbsp;=&nbsp;None,</div></div><div class=\"4932b820-4928-4a7d-8f4c-0d852d33f395\" style=\"display: none;\"><div style=\"display: table-cell;\"></div><div style=\"display: table-cell;\">tags&nbsp;=&nbsp;[],</div></div><div class=\"4932b820-4928-4a7d-8f4c-0d852d33f395\" style=\"display: none;\"><div style=\"display: table-cell;\"></div><div style=\"display: table-cell;\">visible&nbsp;=&nbsp;True,</div></div><div class=\"4932b820-4928-4a7d-8f4c-0d852d33f395\" style=\"display: none;\"><div style=\"display: table-cell;\"></div><div style=\"display: table-cell;\">x_range_name&nbsp;=&nbsp;'default',</div></div><div class=\"4932b820-4928-4a7d-8f4c-0d852d33f395\" style=\"display: none;\"><div style=\"display: table-cell;\"></div><div style=\"display: table-cell;\">y_range_name&nbsp;=&nbsp;'default')</div></div></div>\n",
       "<script>\n",
       "(function() {\n",
       "  var expanded = false;\n",
       "  var ellipsis = document.getElementById(\"9b036e94-88ae-4afd-a69f-053153e6b6fa\");\n",
       "  ellipsis.addEventListener(\"click\", function() {\n",
       "    var rows = document.getElementsByClassName(\"4932b820-4928-4a7d-8f4c-0d852d33f395\");\n",
       "    for (var i = 0; i < rows.length; i++) {\n",
       "      var el = rows[i];\n",
       "      el.style.display = expanded ? \"none\" : \"table-row\";\n",
       "    }\n",
       "    ellipsis.innerHTML = expanded ? \"&hellip;)\" : \"&lsaquo;&lsaquo;&lsaquo;\";\n",
       "    expanded = !expanded;\n",
       "  });\n",
       "})();\n",
       "</script>\n"
      ],
      "text/plain": [
       "GlyphRenderer(id='73dd1a33-70fc-402b-9130-aa90d65fe9e7', ...)"
      ]
     },
     "execution_count": 345,
     "metadata": {},
     "output_type": "execute_result"
    }
   ],
   "source": [
    "# Add the year in background (add before circle)\n",
    "text_source = ColumnDataSource({'week': ['%s' % lifetime_wks[0]]})\n",
    "text = Text(x=2, y=35, text='week', text_font_size='150pt', text_color='#EEEEEE')\n",
    "plot.add_glyph(text_source, text)"
   ]
  },
  {
   "cell_type": "markdown",
   "metadata": {},
   "source": [
    "#  Add Bubble and  Hover"
   ]
  },
  {
   "cell_type": "code",
   "execution_count": 356,
   "metadata": {
    "collapsed": true
   },
   "outputs": [],
   "source": [
    "# Make a ColorMapper\n",
    "color_mapper = CategoricalColorMapper(palette=Spectral6, factors=genre_index_df.video_type.unique().tolist())\n",
    "\n",
    "# Add the circle\n",
    "renderer_source = sources['_%s' % lifetime_wks[0]]\n",
    "circle_glyph = Circle(\n",
    "    x='avg_uniq_dev_per_user_wk', y='streams_wk', size='streamer_population_wk',\n",
    "    fill_color={'field': 'region', 'transform': color_mapper}, \n",
    "    fill_alpha=0.8, \n",
    "    line_color='#7c7e71', line_width=0.5, line_alpha=0.5)\n",
    "circle_renderer = plot.add_glyph(renderer_source, circle_glyph)\n",
    "\n",
    "# Add the hover (only against the circle and not other plot elements)\n",
    "tooltips = \"@index\"\n",
    "plot.add_tools(HoverTool(tooltips=tooltips, renderers=[circle_renderer]))\n",
    "\n",
    "# We want a legend for the circles. The legend will be populated based on the label='region' \n",
    "# which is a column of the data source - it will take only the unique values.\n",
    "plot.add_layout(Legend(items=[LegendItem(label='Lifetime', renderers=[circle_renderer])]))"
   ]
  },
  {
   "cell_type": "markdown",
   "metadata": {},
   "source": [
    "# Render together  with a Slider"
   ]
  },
  {
   "cell_type": "code",
   "execution_count": 352,
   "metadata": {
    "collapsed": true
   },
   "outputs": [],
   "source": [
    "# Add the slider\n",
    "code = \"\"\"\n",
    "    var lifetime = slider.value,\n",
    "        sources = %s,\n",
    "        new_source_data = sources[lifetime].data;\n",
    "    renderer_source.data = new_source_data;\n",
    "    text_source.data = {'lifetime': [String(lifetime)]};\n",
    "\"\"\" % js_source_array\n",
    "\n",
    "callback = CustomJS(args=sources, code=code)\n",
    "slider = Slider(start=lifetime_wks[0], end=lifetime_wks[-1], value=1, step=1, title=\"Weeks\", callback=callback)\n",
    "callback.args[\"renderer_source\"] = renderer_source\n",
    "callback.args[\"slider\"] = slider\n",
    "callback.args[\"text_source\"] = text_source"
   ]
  },
  {
   "cell_type": "code",
   "execution_count": 357,
   "metadata": {
    "collapsed": false
   },
   "outputs": [
    {
     "name": "stderr",
     "output_type": "stream",
     "text": [
      "ERROR:/Users/RichardAfolabi/anaconda/lib/python3.5/site-packages/bokeh/core/validation/check.py:E-1001 (BAD_COLUMN_NAME): Glyph refers to nonexistent column name: Avg Devices, Streams, population, region [renderer: GlyphRenderer(id='b97fd0d1-0367-41a1-84bc-de6a0effa3fa', ...)]\n",
      "ERROR:/Users/RichardAfolabi/anaconda/lib/python3.5/site-packages/bokeh/core/validation/check.py:E-1001 (BAD_COLUMN_NAME): Glyph refers to nonexistent column name: avg_uniq_dev_per_user_wk, region, streamer_population_wk, streams_wk [renderer: GlyphRenderer(id='5da084ec-0903-4d94-b091-bc5d3aab5f20', ...)]\n",
      "ERROR:/Users/RichardAfolabi/anaconda/lib/python3.5/site-packages/bokeh/core/validation/check.py:E-1001 (BAD_COLUMN_NAME): Glyph refers to nonexistent column name: Avg Devices, Streams, population, region [renderer: GlyphRenderer(id='b97fd0d1-0367-41a1-84bc-de6a0effa3fa', ...)]\n",
      "ERROR:/Users/RichardAfolabi/anaconda/lib/python3.5/site-packages/bokeh/core/validation/check.py:E-1001 (BAD_COLUMN_NAME): Glyph refers to nonexistent column name: avg_uniq_dev_per_user_wk, region, streamer_population_wk, streams_wk [renderer: GlyphRenderer(id='5da084ec-0903-4d94-b091-bc5d3aab5f20', ...)]\n"
     ]
    }
   ],
   "source": [
    "# Stick the plot and the slider together\n",
    "show(layout([[plot], [slider]], sizing_mode='scale_width'))"
   ]
  },
  {
   "cell_type": "code",
   "execution_count": null,
   "metadata": {
    "collapsed": true
   },
   "outputs": [],
   "source": [
    "    avg_uniq_dev_per_user_wk = avg_uniq_dev_per_user_df[wk]\n",
    "    avg_uniq_dev_per_user_wk.name = 'Avg_Unique_Devices_per_User'\n",
    "    streams_wk = pv_stream_df[wk]\n",
    "    streams_wk.name = 'Stream_Counts'\n",
    "    streamer_population_wk = strmr_population_size_df[wk]\n",
    "    streamer_population_wk.name = 'Unique_Streamers_Population'"
   ]
  }
 ],
 "metadata": {
  "anaconda-cloud": {},
  "kernelspec": {
   "display_name": "Python [conda root]",
   "language": "python",
   "name": "conda-root-py"
  },
  "language_info": {
   "codemirror_mode": {
    "name": "ipython",
    "version": 3
   },
   "file_extension": ".py",
   "mimetype": "text/x-python",
   "name": "python",
   "nbconvert_exporter": "python",
   "pygments_lexer": "ipython3",
   "version": "3.5.2"
  }
 },
 "nbformat": 4,
 "nbformat_minor": 2
}
